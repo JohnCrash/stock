{
 "cells": [
  {
   "cell_type": "code",
   "execution_count": null,
   "metadata": {},
   "outputs": [],
   "source": [
    "import numpy as np\n",
    "import stock"
   ]
  },
  {
   "cell_type": "code",
   "execution_count": 7,
   "metadata": {},
   "outputs": [],
   "source": [
    "a = np.memmap('d:/temp/SZ002674',dtype='float32',mode='r')"
   ]
  },
  {
   "cell_type": "code",
   "execution_count": 10,
   "metadata": {},
   "outputs": [],
   "source": [
    "b = a.reshape(-1,5)"
   ]
  },
  {
   "cell_type": "code",
   "execution_count": 11,
   "metadata": {},
   "outputs": [
    {
     "data": {
      "text/plain": [
       "memmap([[6.81378e+05, 7.45000e+00, 7.89000e+00, 7.43000e+00, 7.60000e+00],\n",
       "        [8.07800e+05, 7.55000e+00, 7.69000e+00, 7.50000e+00, 7.65000e+00],\n",
       "        [1.10710e+06, 7.66000e+00, 7.95000e+00, 7.56000e+00, 7.90000e+00],\n",
       "        ...,\n",
       "        [1.65095e+06, 1.08500e+01, 1.09900e+01, 1.07300e+01, 1.07800e+01],\n",
       "        [1.64841e+06, 1.06800e+01, 1.08200e+01, 1.05000e+01, 1.07300e+01],\n",
       "        [1.67968e+06, 1.05900e+01, 1.08000e+01, 1.04100e+01, 1.05400e+01]],\n",
       "       dtype=float32)"
      ]
     },
     "execution_count": 11,
     "metadata": {},
     "output_type": "execute_result"
    }
   ],
   "source": [
    "b"
   ]
  },
  {
   "cell_type": "code",
   "execution_count": null,
   "metadata": {},
   "outputs": [],
   "source": []
  }
 ],
 "metadata": {
  "kernelspec": {
   "display_name": "Python 3",
   "language": "python",
   "name": "python3"
  },
  "language_info": {
   "codemirror_mode": {
    "name": "ipython",
    "version": 3
   },
   "file_extension": ".py",
   "mimetype": "text/x-python",
   "name": "python",
   "nbconvert_exporter": "python",
   "pygments_lexer": "ipython3",
   "version": "3.7.4"
  }
 },
 "nbformat": 4,
 "nbformat_minor": 4
}
