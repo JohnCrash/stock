{
 "cells": [
  {
   "cell_type": "code",
   "execution_count": 2,
   "metadata": {},
   "outputs": [],
   "source": [
    "import numpy as np\n",
    "import matplotlib.pyplot as plt"
   ]
  },
  {
   "cell_type": "code",
   "execution_count": 3,
   "metadata": {},
   "outputs": [
    {
     "data": {
      "text/plain": [
       "-11"
      ]
     },
     "execution_count": 3,
     "metadata": {},
     "output_type": "execute_result"
    }
   ],
   "source": [
    "2-13"
   ]
  },
  {
   "cell_type": "code",
   "execution_count": 4,
   "metadata": {},
   "outputs": [
    {
     "data": {
      "text/plain": [
       "[<matplotlib.lines.Line2D at 0x194400b5cc8>]"
      ]
     },
     "execution_count": 4,
     "metadata": {},
     "output_type": "execute_result"
    },
    {
     "data": {
      "image/png": "[encoded data removed]",
      "text/plain": [
       "<Figure size 432x288 with 1 Axes>"
      ]
     },
     "metadata": {
      "needs_background": "light"
     },
     "output_type": "display_data"
    }
   ],
   "source": [
    "a = np.array([218,309,440,571,800,1287,1975,2744,4515,7711,9692,11791,14411,17205,20438,24324,28018,31161,34546,37251,40235,42638,44491,59841])\n",
    "x = np.arange(len(a))\n",
    "plt.plot(x,a)\n",
    "y = a[1:]-a[:-1]\n",
    "plt.plot(x[1:],y)"
   ]
  },
  {
   "cell_type": "code",
   "execution_count": 1,
   "metadata": {},
   "outputs": [],
   "source": [
    "import xueqiu"
   ]
  },
  {
   "cell_type": "code",
   "execution_count": 2,
   "metadata": {},
   "outputs": [
    {
     "name": "stdout",
     "output_type": "stream",
     "text": [
      "https://quotes.sina.cn/cn/api/jsonp_v2.php/var _sh000001_15_1581470753341=/CN_MarketDataService.getKLineData?symbol=sh000001&scale=15&ma=no&datalen=32\n"
     ]
    }
   ],
   "source": [
    "b,d = xueqiu.sinaK15Native('SH000001')"
   ]
  },
  {
   "cell_type": "code",
   "execution_count": 8,
   "metadata": {},
   "outputs": [
    {
     "data": {
      "text/plain": [
       "'/*<script>location.href=\\'//sina.com\\';</script>*/\\nvar _sh000001_15_1581470753341=([{\"day\":\"2020-02-10 09:45:00\",\"open\":\"2860.499\",\"high\":\"2862.192\",\"low\":\"2851.050\",\"close\":\"2862.192\",\"volume\":\"5976077000\"},{\"day\":\"2020-02-10 10:00:00\",\"open\":\"2862.697\",\"high\":\"2872.712\",\"low\":\"2862.097\",\"close\":\"2869.098\",\"volume\":\"3483870400\"},{\"day\":\"2020-02-10 10:15:00\",\"open\":\"2868.740\",\"high\":\"2874.081\",\"low\":\"2862.074\",\"close\":\"2874.081\",\"volume\":\"2773157200\"},{\"day\":\"2020-02-10 10:30:00\",\"open\":\"2874.447\",\"high\":\"2883.890\",\"low\":\"2874.057\",\"close\":\"2879.467\",\"volume\":\"2419109300\"},{\"day\":\"2020-02-10 10:45:00\",\"open\":\"2879.140\",\"high\":\"2886.727\",\"low\":\"2877.973\",\"close\":\"2880.763\",\"volume\":\"1725190800\"},{\"day\":\"2020-02-10 11:00:00\",\"open\":\"2880.866\",\"high\":\"2881.514\",\"low\":\"2876.643\",\"close\":\"2878.493\",\"volume\":\"1393861300\"},{\"day\":\"2020-02-10 11:15:00\",\"open\":\"2879.017\",\"high\":\"2885.694\",\"low\":\"2878.649\",\"close\":\"2882.495\",\"volume\":\"1380323800\"},{\"day\":\"2020-02-10 11:30:00\",\"open\":\"2882.182\",\"high\":\"2882.666\",\"low\":\"2863.981\",\"close\":\"2864.105\",\"volume\":\"1615068200\"},{\"day\":\"2020-02-10 13:15:00\",\"open\":\"2864.664\",\"high\":\"2873.262\",\"low\":\"2863.358\",\"close\":\"2872.167\",\"volume\":\"1245957700\"},{\"day\":\"2020-02-10 13:30:00\",\"open\":\"2872.184\",\"high\":\"2877.327\",\"low\":\"2871.276\",\"close\":\"2874.418\",\"volume\":\"928904100\"},{\"day\":\"2020-02-10 13:45:00\",\"open\":\"2874.567\",\"high\":\"2878.942\",\"low\":\"2872.275\",\"close\":\"2876.310\",\"volume\":\"950238600\"},{\"day\":\"2020-02-10 14:00:00\",\"open\":\"2875.952\",\"high\":\"2881.602\",\"low\":\"2873.849\",\"close\":\"2880.907\",\"volume\":\"968843200\"},{\"day\":\"2020-02-10 14:15:00\",\"open\":\"2881.008\",\"high\":\"2884.320\",\"low\":\"2880.424\",\"close\":\"2880.604\",\"volume\":\"1096974800\"},{\"day\":\"2020-02-10 14:30:00\",\"open\":\"2880.151\",\"high\":\"2885.062\",\"low\":\"2879.133\",\"close\":\"2881.658\",\"volume\":\"1173253700\"},{\"day\":\"2020-02-10 14:45:00\",\"open\":\"2881.263\",\"high\":\"2888.030\",\"low\":\"2880.049\",\"close\":\"2886.701\",\"volume\":\"1546123100\"},{\"day\":\"2020-02-10 15:00:00\",\"open\":\"2886.527\",\"high\":\"2891.848\",\"low\":\"2886.253\",\"close\":\"2890.488\",\"volume\":\"2296733300\"},{\"day\":\"2020-02-11 09:45:00\",\"open\":\"2894.541\",\"high\":\"2903.853\",\"low\":\"2882.280\",\"close\":\"2903.769\",\"volume\":\"5739950100\"},{\"day\":\"2020-02-11 10:00:00\",\"open\":\"2904.061\",\"high\":\"2906.945\",\"low\":\"2896.922\",\"close\":\"2899.522\",\"volume\":\"4161009500\"},{\"day\":\"2020-02-11 10:15:00\",\"open\":\"2899.403\",\"high\":\"2911.971\",\"low\":\"2899.253\",\"close\":\"2909.030\",\"volume\":\"2255167700\"},{\"day\":\"2020-02-11 10:30:00\",\"open\":\"2908.617\",\"high\":\"2911.916\",\"low\":\"2904.540\",\"close\":\"2904.694\",\"volume\":\"1847733700\"},{\"day\":\"2020-02-11 10:45:00\",\"open\":\"2904.672\",\"high\":\"2910.654\",\"low\":\"2904.672\",\"close\":\"2908.680\",\"volume\":\"1491819300\"},{\"day\":\"2020-02-11 11:00:00\",\"open\":\"2909.178\",\"high\":\"2909.546\",\"low\":\"2893.060\",\"close\":\"2893.060\",\"volume\":\"1662039300\"},{\"day\":\"2020-02-11 11:15:00\",\"open\":\"2892.750\",\"high\":\"2899.491\",\"low\":\"2890.677\",\"close\":\"2898.061\",\"volume\":\"1293691700\"},{\"day\":\"2020-02-11 11:30:00\",\"open\":\"2897.879\",\"high\":\"2902.564\",\"low\":\"2896.788\",\"close\":\"2899.849\",\"volume\":\"775105900\"},{\"day\":\"2020-02-11 13:15:00\",\"open\":\"2900.137\",\"high\":\"2903.028\",\"low\":\"2896.872\",\"close\":\"2902.047\",\"volume\":\"882545100\"},{\"day\":\"2020-02-11 13:30:00\",\"open\":\"2901.792\",\"high\":\"2906.511\",\"low\":\"2901.562\",\"close\":\"2905.677\",\"volume\":\"845298400\"},{\"day\":\"2020-02-11 13:45:00\",\"open\":\"2905.747\",\"high\":\"2911.389\",\"low\":\"2905.345\",\"close\":\"2907.717\",\"volume\":\"949139900\"},{\"day\":\"2020-02-11 14:00:00\",\"open\":\"2907.678\",\"high\":\"2909.248\",\"low\":\"2905.668\",\"close\":\"2908.833\",\"volume\":\"834335300\"},{\"day\":\"2020-02-11 14:15:00\",\"open\":\"2909.096\",\"high\":\"2913.664\",\"low\":\"2908.307\",\"close\":\"2911.700\",\"volume\":\"989941700\"},{\"day\":\"2020-02-11 14:30:00\",\"open\":\"2911.327\",\"high\":\"2911.373\",\"low\":\"2905.000\",\"close\":\"2906.825\",\"volume\":\"1149544800\"},{\"day\":\"2020-02-11 14:45:00\",\"open\":\"2907.223\",\"high\":\"2907.815\",\"low\":\"2899.446\",\"close\":\"2901.644\",\"volume\":\"1434156100\"},{\"day\":\"2020-02-11 15:00:00\",\"open\":\"2901.905\",\"high\":\"2902.621\",\"low\":\"2899.952\",\"close\":\"2901.674\",\"volume\":\"1830302000\"}]);'"
      ]
     },
     "execution_count": 8,
     "metadata": {},
     "output_type": "execute_result"
    }
   ],
   "source": [
    "d.text"
   ]
  },
  {
   "cell_type": "code",
   "execution_count": null,
   "metadata": {},
   "outputs": [],
   "source": []
  }
 ],
 "metadata": {
  "kernelspec": {
   "display_name": "Python 3",
   "language": "python",
   "name": "python3"
  },
  "language_info": {
   "codemirror_mode": {
    "name": "ipython",
    "version": 3
   },
   "file_extension": ".py",
   "mimetype": "text/x-python",
   "name": "python",
   "nbconvert_exporter": "python",
   "pygments_lexer": "ipython3",
   "version": "3.7.4"
  }
 },
 "nbformat": 4,
 "nbformat_minor": 4
}
