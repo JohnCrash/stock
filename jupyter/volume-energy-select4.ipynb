{
 "cells": [
  {
   "cell_type": "code",
   "execution_count": 5,
   "metadata": {},
   "outputs": [],
   "source": [
    "import numpy as np\n",
    "import matplotlib.pyplot as plt\n",
    "import stock\n",
    "from IPython.display import display, Markdown\n",
    "import ipywidgets as widgets\n",
    "from ipywidgets import Layout, Button, Box\n",
    "import xueqiu\n",
    "import kline\n",
    "from datetime import date,timedelta"
   ]
  },
  {
   "cell_type": "code",
   "execution_count": 20,
   "metadata": {},
   "outputs": [],
   "source": [
    "def searchCompanyStatus():\n",
    "    d = date.today()-timedelta(days=4)\n",
    "    cs = np.array(stock.query(\"\"\"select id,close,volume,volumema20,macd,energy,volumeJ from company_status where date>'%s'\"\"\"%(stock.dateString(d))))\n",
    "    stock.closedb()\n",
    "    r = cs.reshape(7,3,-1)\n",
    "    print(r.shape)\n",
    "    for i in range(100):\n",
    "        print(r[i])\n",
    "\n",
    "\"\"\"\n",
    "输入分类名称将分类下的全部股票列出\n",
    "\"\"\"\n",
    "def CategorySelect(name,output=widgets.Output()):\n",
    "    \n",
    "    def K(c,k,d):\n",
    "        butsel = widgets.Checkbox(value=True if c[-1]==1 else False,\n",
    "            description='选择',\n",
    "            disabled=False,\n",
    "            indent=False)\n",
    "        \n",
    "        def onClick(event):\n",
    "            value = 1 if event['new'] else 0\n",
    "            stock.execute(\"\"\"update company_select set manual=%d where code='%s'\"\"\"%(value,c[1]))\n",
    "            stock.closedb()\n",
    "            \n",
    "        butsel.observe(onClick,names='value')\n",
    "        with output:\n",
    "            display(butsel)\n",
    "            display(Markdown(\"\"\"[%s %s ttm:%.2f pb:%.2f](https://xueqiu.com/S/%s)\"\"\"%(c[2],c[1],c[4],c[5],c[1])))\n",
    "            kline.Plote(k,date=d,config={\"index\":True},companyInfo=c).show(len(k)-440,len(k),figsize=(32,15))    \n",
    "    coms,ks,date = LoadCategoryCompanys(name)\n",
    "    kvs = np.zeros((ks.shape[1]))\n",
    "    for i in range(ks.shape[1]):\n",
    "        kvs[i] = ks[:,i,0].sum()\n",
    "    VE = stock.volumeEnergy(kvs,20)\n",
    "    VEKDJ = stock.kdj(VE,9)\n",
    "    for i in range(len(coms)):\n",
    "        K(coms[i],ks[i],date)\n",
    "\n",
    "\"\"\"\n",
    "列出全部分类\n",
    "点击不同分类列出该分类下的全部股票的图表\n",
    "\"\"\"\n",
    "def CategoryList():\n",
    "    output = widgets.Output()\n",
    "    categorys = stock.query(\"\"\"select * from category\"\"\")\n",
    "    stock.closedb()\n",
    "    \n",
    "    items_layout = Layout( width='auto')     # override the default width of the button to 'auto' to let the button grow\n",
    "\n",
    "    box_layout = Layout(display='flex',\n",
    "                        flex_flow='wrap',\n",
    "                        align_items='stretch',\n",
    "                        border='solid',\n",
    "                        width='100%')\n",
    "\n",
    "    items = []\n",
    "    def onClick(e):\n",
    "        output.clear_output()\n",
    "        CategorySelect(e.description,output)\n",
    "        \n",
    "    for c in categorys:\n",
    "        but = widgets.Button(\n",
    "            description=c[1],\n",
    "            disabled=False,\n",
    "            button_style='',\n",
    "            tooltip=c[1])\n",
    "        but.on_click(onClick)\n",
    "        items.append(but)\n",
    "    box = Box(children=items, layout=box_layout)\n",
    "    display(box,output)"
   ]
  },
  {
   "cell_type": "markdown",
   "metadata": {},
   "source": [
    "# 日线崛起态势的股票进行显示"
   ]
  },
  {
   "cell_type": "code",
   "execution_count": 21,
   "metadata": {},
   "outputs": [
    {
     "ename": "ValueError",
     "evalue": "cannot reshape array of size 79009 into shape (7,3,newaxis)",
     "output_type": "error",
     "traceback": [
      "\u001b[1;31m---------------------------------------------------------------------------\u001b[0m",
      "\u001b[1;31mValueError\u001b[0m                                Traceback (most recent call last)",
      "\u001b[1;32m<ipython-input-21-65dfa058e03d>\u001b[0m in \u001b[0;36m<module>\u001b[1;34m\u001b[0m\n\u001b[1;32m----> 1\u001b[1;33m \u001b[0msearchCompanyStatus\u001b[0m\u001b[1;33m(\u001b[0m\u001b[1;33m)\u001b[0m\u001b[1;33m\u001b[0m\u001b[1;33m\u001b[0m\u001b[0m\n\u001b[0m",
      "\u001b[1;32m<ipython-input-20-5d8983b0c940>\u001b[0m in \u001b[0;36msearchCompanyStatus\u001b[1;34m()\u001b[0m\n\u001b[0;32m      3\u001b[0m     \u001b[0mcs\u001b[0m \u001b[1;33m=\u001b[0m \u001b[0mnp\u001b[0m\u001b[1;33m.\u001b[0m\u001b[0marray\u001b[0m\u001b[1;33m(\u001b[0m\u001b[0mstock\u001b[0m\u001b[1;33m.\u001b[0m\u001b[0mquery\u001b[0m\u001b[1;33m(\u001b[0m\u001b[1;34m\"\"\"select id,close,volume,volumema20,macd,energy,volumeJ from company_status where date>'%s'\"\"\"\u001b[0m\u001b[1;33m%\u001b[0m\u001b[1;33m(\u001b[0m\u001b[0mstock\u001b[0m\u001b[1;33m.\u001b[0m\u001b[0mdateString\u001b[0m\u001b[1;33m(\u001b[0m\u001b[0md\u001b[0m\u001b[1;33m)\u001b[0m\u001b[1;33m)\u001b[0m\u001b[1;33m)\u001b[0m\u001b[1;33m)\u001b[0m\u001b[1;33m\u001b[0m\u001b[1;33m\u001b[0m\u001b[0m\n\u001b[0;32m      4\u001b[0m     \u001b[0mstock\u001b[0m\u001b[1;33m.\u001b[0m\u001b[0mclosedb\u001b[0m\u001b[1;33m(\u001b[0m\u001b[1;33m)\u001b[0m\u001b[1;33m\u001b[0m\u001b[1;33m\u001b[0m\u001b[0m\n\u001b[1;32m----> 5\u001b[1;33m     \u001b[0mr\u001b[0m \u001b[1;33m=\u001b[0m \u001b[0mcs\u001b[0m\u001b[1;33m.\u001b[0m\u001b[0mreshape\u001b[0m\u001b[1;33m(\u001b[0m\u001b[1;36m7\u001b[0m\u001b[1;33m,\u001b[0m\u001b[1;36m3\u001b[0m\u001b[1;33m,\u001b[0m\u001b[1;33m-\u001b[0m\u001b[1;36m1\u001b[0m\u001b[1;33m)\u001b[0m\u001b[1;33m\u001b[0m\u001b[1;33m\u001b[0m\u001b[0m\n\u001b[0m\u001b[0;32m      6\u001b[0m     \u001b[0mprint\u001b[0m\u001b[1;33m(\u001b[0m\u001b[0mr\u001b[0m\u001b[1;33m.\u001b[0m\u001b[0mshape\u001b[0m\u001b[1;33m)\u001b[0m\u001b[1;33m\u001b[0m\u001b[1;33m\u001b[0m\u001b[0m\n\u001b[0;32m      7\u001b[0m     \u001b[1;32mfor\u001b[0m \u001b[0mi\u001b[0m \u001b[1;32min\u001b[0m \u001b[0mrange\u001b[0m\u001b[1;33m(\u001b[0m\u001b[1;36m100\u001b[0m\u001b[1;33m)\u001b[0m\u001b[1;33m:\u001b[0m\u001b[1;33m\u001b[0m\u001b[1;33m\u001b[0m\u001b[0m\n",
      "\u001b[1;31mValueError\u001b[0m: cannot reshape array of size 79009 into shape (7,3,newaxis)"
     ]
    }
   ],
   "source": [
    "searchCompanyStatus()"
   ]
  },
  {
   "cell_type": "code",
   "execution_count": null,
   "metadata": {},
   "outputs": [],
   "source": []
  }
 ],
 "metadata": {
  "kernelspec": {
   "display_name": "Python 3",
   "language": "python",
   "name": "python3"
  },
  "language_info": {
   "codemirror_mode": {
    "name": "ipython",
    "version": 3
   },
   "file_extension": ".py",
   "mimetype": "text/x-python",
   "name": "python",
   "nbconvert_exporter": "python",
   "pygments_lexer": "ipython3",
   "version": "3.7.4"
  }
 },
 "nbformat": 4,
 "nbformat_minor": 4
}
