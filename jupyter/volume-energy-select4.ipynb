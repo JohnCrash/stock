{
 "cells": [
  {
   "cell_type": "code",
   "execution_count": 22,
   "metadata": {
    "jupyter": {
     "source_hidden": true
    }
   },
   "outputs": [],
   "source": [
    "import numpy as np\n",
    "import matplotlib.pyplot as plt\n",
    "import stock\n",
    "from IPython.display import display, Markdown\n",
    "import ipywidgets as widgets\n",
    "from ipywidgets import Layout, Button, Box\n",
    "import xueqiu\n",
    "import kline\n",
    "from datetime import date,timedelta"
   ]
  },
  {
   "cell_type": "code",
   "execution_count": 69,
   "metadata": {
    "jupyter": {
     "source_hidden": true
    }
   },
   "outputs": [],
   "source": [
    "def isRasing(a):\n",
    "    #macd 在两日日内有翻红趋势，energy从1以下崛起到大于5，volumeJ趋势向上,close趋势向上\n",
    "    #0 id , 1 close , 2 volume , 3 volumema20 , 4 macd , 5 energy ,6 volumeJ\n",
    "    dMACD = a[2][4]-a[1][4]\n",
    "    dVolumeJ = a[2][6]-a[1][6]\n",
    "    dClose = a[2][1]-a[1][1]\n",
    "    if a[2][4]<0 and a[2][4] + 2*dMACD >= 0 and dVolumeJ>0 and dClose>0 and a[2][5]>=5 and a[1][5]<5:\n",
    "        return True\n",
    "    return False\n",
    "\n",
    "#找到有崛起继续的个股id\n",
    "def searchRasingCompanyStatus():\n",
    "    lastday = stock.query(\"\"\"select date from company_status where id=8828 order by date desc limit 3\"\"\")\n",
    "    d = lastday[-1][0]\n",
    "    cs = np.array(stock.query(\"\"\"select id,close,volume,volumema20,macd,energy,volumeJ from company_status where date>='%s'\"\"\"%(stock.dateString(d))))\n",
    "    stock.closedb()\n",
    "    idds = {}\n",
    "    for i in range(len(cs)):\n",
    "        if cs[i][0] not in idds:\n",
    "            idds[cs[i][0]] = []\n",
    "        idds[cs[i][0]].append(cs[i])\n",
    "    rasing = []\n",
    "    for c in idds:\n",
    "        if len(idds[c])==3 and isRasing(idds[c]):\n",
    "            rasing.append(int(c))\n",
    "    return rasing\n",
    "\n",
    "\"\"\"\n",
    "按分类列出崛起的股票的数量与列表\n",
    "\"\"\"\n",
    "def DayRasingCategoryList():\n",
    "    rasing = searchRasingCompanyStatus()\n",
    "    output = widgets.Output()\n",
    "    categorys = stock.query(\"\"\"select id,name from category\"\"\")\n",
    "    companys = stock.query(\"\"\"select id,code,name,category from company\"\"\")\n",
    "    stock.closedb()\n",
    "    rasingCompany = []\n",
    "    for c in companys:\n",
    "        if c[0] in rasing:\n",
    "            rasingCompany.append(c)\n",
    "            \n",
    "    #计算分类中的崛起数量，不列出那些没有崛起的分类\n",
    "    items_layout = Layout( width='auto')     # override the default width of the button to 'auto' to let the button grow\n",
    "\n",
    "    box_layout = Layout(display='flex',\n",
    "                        flex_flow='wrap',\n",
    "                        align_items='stretch',\n",
    "                        border='solid',\n",
    "                        width='100%')\n",
    "\n",
    "    items = []\n",
    "    cats = {}\n",
    "    \n",
    "    def onClick(e):\n",
    "        output.clear_output()\n",
    "        key = int(e.tooltip)\n",
    "        with output:\n",
    "            for c in cats[key]['ls']:\n",
    "                display(Markdown(\"\"\"[%s %s](https://xueqiu.com/S/%s)\"\"\"%(c[2],c[1],c[1])))\n",
    "                kline.Plote(c[1],config={\"index\":True}).show(figsize=(32,15))\n",
    "    # cats = {\"id\":{\"name\":,\"ls\":,\"count\":0}}\n",
    "    for c in categorys:\n",
    "        if c[0] not in cats:\n",
    "            cats[c[0]] = {\"name\":c[1],\"ls\":[],\"count\":0}\n",
    "    for c in companys:\n",
    "        if c[0] in rasing and c[3] in cats:\n",
    "            cats[c[3]]['ls'].append(c)\n",
    "            cats[c[3]]['count'] += 1\n",
    "    for c in cats:\n",
    "        if cats[c][\"count\"]>0:\n",
    "            s = \"%s %d\"%(cats[c][\"name\"],cats[c][\"count\"])\n",
    "            but = widgets.Button(\n",
    "                description=s,\n",
    "                disabled=False,\n",
    "                button_style='',\n",
    "                tooltip=str(c))\n",
    "            but.on_click(onClick)\n",
    "            items.append(but)\n",
    "    box = Box(children=items, layout=box_layout)\n",
    "    display(box,output)"
   ]
  },
  {
   "cell_type": "markdown",
   "metadata": {},
   "source": [
    "# 日线崛起态势的股票进行显示"
   ]
  },
  {
   "cell_type": "code",
   "execution_count": 70,
   "metadata": {},
   "outputs": [
    {
     "data": {
      "application/vnd.jupyter.widget-view+json": {
       "model_id": "184c11fecd9c47d9915ec73ebe6759da",
       "version_major": 2,
       "version_minor": 0
      },
      "text/plain": [
       "Box(children=(Button(description='化学纤维 2', style=ButtonStyle(), tooltip='2212'), Button(description='服装家纺 1', …"
      ]
     },
     "metadata": {},
     "output_type": "display_data"
    },
    {
     "data": {
      "application/vnd.jupyter.widget-view+json": {
       "model_id": "b6f6c86ac8de496892dc24962619871b",
       "version_major": 2,
       "version_minor": 0
      },
      "text/plain": [
       "Output()"
      ]
     },
     "metadata": {},
     "output_type": "display_data"
    }
   ],
   "source": [
    "DayRasingCategoryList()"
   ]
  },
  {
   "cell_type": "code",
   "execution_count": null,
   "metadata": {},
   "outputs": [],
   "source": []
  }
 ],
 "metadata": {
  "kernelspec": {
   "display_name": "Python 3",
   "language": "python",
   "name": "python3"
  },
  "language_info": {
   "codemirror_mode": {
    "name": "ipython",
    "version": 3
   },
   "file_extension": ".py",
   "mimetype": "text/x-python",
   "name": "python",
   "nbconvert_exporter": "python",
   "pygments_lexer": "ipython3",
   "version": "3.7.4"
  }
 },
 "nbformat": 4,
 "nbformat_minor": 4
}
