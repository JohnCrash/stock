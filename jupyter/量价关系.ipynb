{
 "cells": [
  {
   "cell_type": "code",
   "execution_count": 6,
   "metadata": {},
   "outputs": [],
   "source": [
    "import numpy as np\n",
    "import stock\n",
    "import kline\n",
    "import math\n",
    "import matplotlib.pyplot as plt"
   ]
  },
  {
   "cell_type": "markdown",
   "metadata": {},
   "source": [
    "# 量价关系"
   ]
  },
  {
   "cell_type": "code",
   "execution_count": 7,
   "metadata": {
    "jupyter": {
     "source_hidden": true
    }
   },
   "outputs": [],
   "source": [
    "def figure(p):\n",
    "    k = p._k\n",
    "    d = p._date\n",
    "    r = stock.volumeprices(k,d)\n",
    "    v = np.zeros((len(k),2))\n",
    "    for b in r:\n",
    "        for i in range(int(b[0]),int(b[1])+1):\n",
    "            v[i,0] = b[2]\n",
    "            v[i,1] = b[3]    \n",
    "    return [\n",
    "            [\n",
    "                {\n",
    "                    \"data\":v[:,0],\n",
    "                    \"name\":\"volume\",\n",
    "                    \"color\":\"red\",\n",
    "                    \"hline\":{\n",
    "                        'y':0,\n",
    "                        \"linewidth\":2\n",
    "                    }\n",
    "                },\n",
    "                {\n",
    "                    \"data\":v[:,1],\n",
    "                    \"name\":\"price\",\n",
    "                    \"color\":\"blue\"\n",
    "                }\n",
    "            ]\n",
    "        ]\n",
    "def VolumePrice(code):\n",
    "    kline.Plote(code,'d',config={'index':True,'figure':figure}).show()"
   ]
  },
  {
   "cell_type": "code",
   "execution_count": 8,
   "metadata": {},
   "outputs": [
    {
     "data": {
      "application/vnd.jupyter.widget-view+json": {
       "model_id": "941c2d94b9b84ad9a94d28307e69046a",
       "version_major": 2,
       "version_minor": 0
      },
      "text/plain": [
       "Box(children=(Button(description='上一页', style=ButtonStyle()), Button(description='下一页', style=ButtonStyle()), …"
      ]
     },
     "metadata": {},
     "output_type": "display_data"
    },
    {
     "data": {
      "application/vnd.jupyter.widget-view+json": {
       "model_id": "11dc46e7962d4af0a1389e269df5f2e4",
       "version_major": 2,
       "version_minor": 0
      },
      "text/plain": [
       "Output()"
      ]
     },
     "metadata": {},
     "output_type": "display_data"
    }
   ],
   "source": [
    "VolumePrice('SZ:002534')"
   ]
  },
  {
   "cell_type": "code",
   "execution_count": null,
   "metadata": {},
   "outputs": [],
   "source": []
  }
 ],
 "metadata": {
  "kernelspec": {
   "display_name": "Python 3",
   "language": "python",
   "name": "python3"
  },
  "language_info": {
   "codemirror_mode": {
    "name": "ipython",
    "version": 3
   },
   "file_extension": ".py",
   "mimetype": "text/x-python",
   "name": "python",
   "nbconvert_exporter": "python",
   "pygments_lexer": "ipython3",
   "version": "3.7.4"
  }
 },
 "nbformat": 4,
 "nbformat_minor": 4
}
