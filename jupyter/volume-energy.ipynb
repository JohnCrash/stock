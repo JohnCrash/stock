{
 "cells": [
  {
   "cell_type": "code",
   "execution_count": 1,
   "metadata": {},
   "outputs": [],
   "source": [
    "import kline\n",
    "import stock\n",
    "import trend\n",
    "import choose\n",
    "import numpy as np"
   ]
  },
  {
   "cell_type": "code",
   "execution_count": 6,
   "metadata": {
    "jupyter": {
     "source_hidden": true
    }
   },
   "outputs": [],
   "source": [
    "def K(code):\n",
    "    c,k,d = stock.loadKline(code)\n",
    "    ve = stock.volumeEnergyK(k,20)\n",
    "    veKDJ = stock.kdj(ve,9)\n",
    "    kline.Plote(code,'d',config={\n",
    "        'index':True,\n",
    "        \"figure\":[[\n",
    "            {\n",
    "                'data':veKDJ[:,2],\n",
    "                'color':'red',\n",
    "                'linewidth':2,\n",
    "                'hline':{\n",
    "                    \"y\":0,\n",
    "                    \"color\":'blue',\n",
    "                    \"linestyle\":\"-.\"\n",
    "                }\n",
    "            },\n",
    "            {\n",
    "                'data':veKDJ[:,0],\n",
    "                'color':'green',\n",
    "                'hline':{\n",
    "                    \"y\":100,\n",
    "                    \"color\":'red',\n",
    "                    \"linestyle\":\"-.\"\n",
    "                }                \n",
    "            }            \n",
    "        ],[\n",
    "            {\n",
    "                'data':ve,\n",
    "                'color':'red',\n",
    "                'linewidth':2\n",
    "            }\n",
    "        ]]\n",
    "    }).show()"
   ]
  },
  {
   "cell_type": "code",
   "execution_count": 7,
   "metadata": {},
   "outputs": [
    {
     "data": {
      "application/vnd.jupyter.widget-view+json": {
       "model_id": "2333b432499647728a9024dfab90f0eb",
       "version_major": 2,
       "version_minor": 0
      },
      "text/plain": [
       "Box(children=(Button(description='上一页', style=ButtonStyle()), Button(description='下一页', style=ButtonStyle()), …"
      ]
     },
     "metadata": {},
     "output_type": "display_data"
    },
    {
     "data": {
      "application/vnd.jupyter.widget-view+json": {
       "model_id": "3eb66de904f44e3e9f8d29cfa7df850a",
       "version_major": 2,
       "version_minor": 0
      },
      "text/plain": [
       "Output()"
      ]
     },
     "metadata": {},
     "output_type": "display_data"
    }
   ],
   "source": [
    "K('SZ:399001')"
   ]
  },
  {
   "cell_type": "code",
   "execution_count": 8,
   "metadata": {},
   "outputs": [
    {
     "data": {
      "application/vnd.jupyter.widget-view+json": {
       "model_id": "103cfb50518c4be6a0475c5fd1a246fc",
       "version_major": 2,
       "version_minor": 0
      },
      "text/plain": [
       "Box(children=(Button(description='上一页', style=ButtonStyle()), Button(description='下一页', style=ButtonStyle()), …"
      ]
     },
     "metadata": {},
     "output_type": "display_data"
    },
    {
     "data": {
      "application/vnd.jupyter.widget-view+json": {
       "model_id": "084e98d4ac3d4133aa810fc2f2d9d18b",
       "version_major": 2,
       "version_minor": 0
      },
      "text/plain": [
       "Output()"
      ]
     },
     "metadata": {},
     "output_type": "display_data"
    }
   ],
   "source": [
    "K('SH:600222')"
   ]
  },
  {
   "cell_type": "code",
   "execution_count": null,
   "metadata": {},
   "outputs": [],
   "source": []
  }
 ],
 "metadata": {
  "kernelspec": {
   "display_name": "Python 3",
   "language": "python",
   "name": "python3"
  },
  "language_info": {
   "codemirror_mode": {
    "name": "ipython",
    "version": 3
   },
   "file_extension": ".py",
   "mimetype": "text/x-python",
   "name": "python",
   "nbconvert_exporter": "python",
   "pygments_lexer": "ipython3",
   "version": "3.7.4"
  }
 },
 "nbformat": 4,
 "nbformat_minor": 4
}
