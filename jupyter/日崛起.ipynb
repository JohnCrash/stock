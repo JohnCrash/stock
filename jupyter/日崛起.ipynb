{
 "cells": [
  {
   "cell_type": "code",
   "execution_count": 1,
   "metadata": {},
   "outputs": [],
   "source": [
    "import numpy as np\n",
    "import matplotlib.pyplot as plt\n",
    "import stock\n",
    "from IPython.display import display\n",
    "import ipywidgets as widgets\n",
    "from ipywidgets import Layout, Button, Box\n",
    "import xueqiu\n",
    "import kline\n",
    "import status\n",
    "from datetime import date,timedelta"
   ]
  },
  {
   "cell_type": "code",
   "execution_count": 2,
   "metadata": {
    "jupyter": {
     "source_hidden": true
    }
   },
   "outputs": [],
   "source": [
    "def isRasing(a):\n",
    "    #macd 在两日日内有翻红趋势，energy从1以下崛起到大于5，volumeJ趋势向上,close趋势向上\n",
    "    #0 id , 1 close , 2 volume , 3 volumema20 , 4 macd , 5 energy ,6 volumeJ\n",
    "    dMACD = a[2][4]-a[1][4]\n",
    "    dVolumeJ = a[2][6]-a[1][6]\n",
    "    dClose = a[2][1]-a[1][1]\n",
    "    if a[2][4]<0 and a[2][4] + 2*dMACD >= 0 and dVolumeJ>0 and dClose>0 and a[2][5]>=5 and a[1][5]<5:\n",
    "        return True\n",
    "    return False\n",
    "\n",
    "#找到有崛起继续的个股id , dd是搜索指定日期\n",
    "def searchRasingCompanyStatus(dd):\n",
    "    lastday = stock.query(\"\"\"select date from company_status where id=8828 order by date desc limit 20\"\"\")\n",
    "    d = lastday[-1][0]\n",
    "    \n",
    "    for i in range(len(lastday)):\n",
    "        if str(lastday[i][0])==dd:\n",
    "            endDate = lastday[i][0]\n",
    "            beginDate = lastday[i+2][0]\n",
    "    cs = np.array(stock.query(\"\"\"select id,close,volume,volumema20,macd,energy,volumeJ from company_status where date>='%s' and date<='%s'\"\"\"%(stock.dateString(beginDate),stock.dateString(endDate))))\n",
    "    stock.closedb()\n",
    "    idds = {}\n",
    "    for i in range(len(cs)):\n",
    "        if cs[i][0] not in idds:\n",
    "            idds[cs[i][0]] = []\n",
    "        idds[cs[i][0]].append(cs[i])\n",
    "    rasing = []\n",
    "    for c in idds:\n",
    "        if len(idds[c])==3 and isRasing(idds[c]):\n",
    "            rasing.append(int(c))\n",
    "    return rasing\n",
    "\n",
    "\"\"\"\n",
    "按分类列出崛起的股票的数量与列表\n",
    "\"\"\"\n",
    "def DayRasingCategoryList():\n",
    "    status.update_status() #更新公司日状态\n",
    "    output = widgets.Output()    \n",
    "    items_layout = Layout( width='auto')     # override the default width of the button to 'auto' to let the button grow\n",
    "    box_layout = Layout(display='flex',\n",
    "                        flex_flow='wrap',\n",
    "                        align_items='stretch',\n",
    "                        border='solid',\n",
    "                        width='100%')\n",
    "    #可以提前准备的数据\n",
    "    categorys = stock.query(\"\"\"select id,name from category\"\"\")\n",
    "    companys = stock.query(\"\"\"select id,code,name,category from company\"\"\")\n",
    "    \n",
    "    def onCatsList(E):\n",
    "        rasing = searchRasingCompanyStatus(E.description)\n",
    "\n",
    "        stock.closedb()\n",
    "        cats = {}\n",
    "        rasingCompany = []\n",
    "        for c in companys:\n",
    "            if c[0] in rasing:\n",
    "                rasingCompany.append(c)\n",
    "        # cats = {\"id\":{\"name\":,\"ls\":,\"count\":0}}\n",
    "        for c in categorys:\n",
    "            if c[0] not in cats:\n",
    "                cats[c[0]] = {\"name\":c[1],\"ls\":[],\"count\":0}\n",
    "        for c in companys:\n",
    "            if c[0] in rasing and c[3] in cats:\n",
    "                cats[c[3]]['ls'].append(c)\n",
    "                cats[c[3]]['count'] += 1\n",
    "        #计算分类中的崛起数量，不列出那些没有崛起的分类\n",
    "        items = []\n",
    "        def onClick(e):\n",
    "            output.clear_output(wait=True)\n",
    "            key = int(e.tooltip)\n",
    "            with output:\n",
    "                display(box)\n",
    "                for c in cats[key]['ls']:\n",
    "                    kline.Plote(c[1],config={\"index\":True,\"markpos\":date.fromisoformat(E.description)}).show(figsize=(32,15))\n",
    "                \n",
    "        for c in cats:\n",
    "            if cats[c][\"count\"]>0:\n",
    "                s = \"%s %d\"%(cats[c][\"name\"],cats[c][\"count\"])\n",
    "                but = widgets.Button(\n",
    "                    description=s,\n",
    "                    disabled=False,\n",
    "                    button_style='',\n",
    "                    tooltip=str(c))\n",
    "                but.on_click(onClick)\n",
    "                items.append(but)\n",
    "        box = Box(children=items, layout=box_layout)\n",
    "        output.clear_output(wait=True)\n",
    "        with output:\n",
    "            display(box)\n",
    "\n",
    "    items = []\n",
    "    dates = stock.query('select date from company_status where id=8828 order by date desc limit 10')\n",
    "    for d in dates:\n",
    "        but = widgets.Button(\n",
    "            description=str(d[0]),\n",
    "            disabled=False,\n",
    "            button_style='')\n",
    "        but.on_click(onCatsList)\n",
    "        items.append(but)\n",
    "    box = Box(children=items, layout=box_layout)\n",
    "    display(box,output)"
   ]
  },
  {
   "cell_type": "markdown",
   "metadata": {},
   "source": [
    "# 日线崛起态势的股票进行显示"
   ]
  },
  {
   "cell_type": "code",
   "execution_count": 3,
   "metadata": {},
   "outputs": [
    {
     "data": {
      "application/vnd.jupyter.widget-view+json": {
       "model_id": "d3d277fd1cc14b0cb20be3d37392f552",
       "version_major": 2,
       "version_minor": 0
      },
      "text/plain": [
       "Box(children=(Button(description='2020-01-17', style=ButtonStyle()), Button(description='2020-01-16', style=Bu…"
      ]
     },
     "metadata": {},
     "output_type": "display_data"
    },
    {
     "data": {
      "application/vnd.jupyter.widget-view+json": {
       "model_id": "215dfb54f86e409983e03610bf4b7aa0",
       "version_major": 2,
       "version_minor": 0
      },
      "text/plain": [
       "Output()"
      ]
     },
     "metadata": {},
     "output_type": "display_data"
    }
   ],
   "source": [
    "DayRasingCategoryList()"
   ]
  },
  {
   "cell_type": "code",
   "execution_count": null,
   "metadata": {},
   "outputs": [],
   "source": []
  }
 ],
 "metadata": {
  "kernelspec": {
   "display_name": "Python 3",
   "language": "python",
   "name": "python3"
  },
  "language_info": {
   "codemirror_mode": {
    "name": "ipython",
    "version": 3
   },
   "file_extension": ".py",
   "mimetype": "text/x-python",
   "name": "python",
   "nbconvert_exporter": "python",
   "pygments_lexer": "ipython3",
   "version": "3.7.4"
  }
 },
 "nbformat": 4,
 "nbformat_minor": 4
}
