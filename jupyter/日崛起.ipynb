{
 "cells": [
  {
   "cell_type": "code",
   "execution_count": 1,
   "metadata": {},
   "outputs": [],
   "source": [
    "import numpy as np\n",
    "import stock\n",
    "import xueqiu\n",
    "import kline\n",
    "import status"
   ]
  },
  {
   "cell_type": "markdown",
   "metadata": {},
   "source": [
    "# 日线能量线崛起和MACD双崛起的股票(第一买入点)"
   ]
  },
  {
   "cell_type": "code",
   "execution_count": 2,
   "metadata": {
    "jupyter": {
     "source_hidden": true
    }
   },
   "outputs": [
    {
     "data": {
      "application/vnd.jupyter.widget-view+json": {
       "model_id": "",
       "version_major": 2,
       "version_minor": 0
      },
      "text/plain": [
       "IntProgress(value=0, description='Loading:', layout=Layout(display='flex', flex_flow='wrap', width='100%'))"
      ]
     },
     "metadata": {},
     "output_type": "display_data"
    },
    {
     "data": {
      "application/vnd.jupyter.widget-view+json": {
       "model_id": "981aa1e32733455fa8e75704e0d9d943",
       "version_major": 2,
       "version_minor": 0
      },
      "text/plain": [
       "Output()"
      ]
     },
     "metadata": {},
     "output_type": "display_data"
    },
    {
     "data": {
      "application/vnd.jupyter.widget-view+json": {
       "model_id": "76bb4f992e5549558e34616af6e55eee",
       "version_major": 2,
       "version_minor": 0
      },
      "text/plain": [
       "Box(children=(Button(button_style='danger', description='2020-02-19', style=ButtonStyle()), Button(description…"
      ]
     },
     "metadata": {},
     "output_type": "display_data"
    },
    {
     "data": {
      "application/vnd.jupyter.widget-view+json": {
       "model_id": "b1dc08338de24ddab7be22b013ec6157",
       "version_major": 2,
       "version_minor": 0
      },
      "text/plain": [
       "Output()"
      ]
     },
     "metadata": {},
     "output_type": "display_data"
    }
   ],
   "source": [
    "def isRasing(a,c,istoday):\n",
    "    #istoday True可以使用xueqiu数据\n",
    "    #c [0 company_id,1 code,2 name,3 category,4 ttm,5 pb]  \n",
    "    #0 id ,1 close,2 volume,3 volumema20,4 macd,5 energy,6 volumeJ,7 bollup,8 bollmid,9 bolldn,10 bollw\n",
    "    dMACD = a[-1,4]-a[-2,4]\n",
    "    #macd在零轴附件（预计2日穿过或者已经穿过2日）,股价涨,能量线崛起\n",
    "    if dMACD>0 and a[-1,1]-a[-2,1]>0 and a[-1,5]>=3 and a[-2,5]<3:\n",
    "        if (a[-1,4]<0 and a[-1,4]+2*dMACD>0) or (a[-1,4]>0 and a[-1,4]-2*dMACD<0):\n",
    "            return True,[{'x':[-1],'color':'magenta','linestyle':'--','linewidth':2}]\n",
    "    return False,[]\n",
    "\n",
    "def myFilter(a,c,istoday,period):\n",
    "    if istoday and period=='d' and a[-1][5]<3 and status.isPopularCategory(c[3]):\n",
    "        return True\n",
    "    return status.isPopularCategory(c[3])\n",
    "\n",
    "status.RasingCategoryList('d',isRasing,myFilter,name='today')"
   ]
  },
  {
   "cell_type": "markdown",
   "metadata": {},
   "source": [
    "# 日线崛起后能量线在上线缩量价平二次放量上行的股票(第二买点)"
   ]
  },
  {
   "cell_type": "code",
   "execution_count": 3,
   "metadata": {
    "jupyter": {
     "source_hidden": true
    }
   },
   "outputs": [
    {
     "data": {
      "application/vnd.jupyter.widget-view+json": {
       "model_id": "",
       "version_major": 2,
       "version_minor": 0
      },
      "text/plain": [
       "IntProgress(value=0, description='Loading:', layout=Layout(display='flex', flex_flow='wrap', width='100%'))"
      ]
     },
     "metadata": {},
     "output_type": "display_data"
    },
    {
     "data": {
      "application/vnd.jupyter.widget-view+json": {
       "model_id": "55b529eccb4b48559994e09d6805900a",
       "version_major": 2,
       "version_minor": 0
      },
      "text/plain": [
       "Output()"
      ]
     },
     "metadata": {},
     "output_type": "display_data"
    },
    {
     "data": {
      "application/vnd.jupyter.widget-view+json": {
       "model_id": "6a0f22db9be741e186f73ed70f6e0bff",
       "version_major": 2,
       "version_minor": 0
      },
      "text/plain": [
       "Box(children=(Button(button_style='danger', description='2020-02-19', style=ButtonStyle()), Button(description…"
      ]
     },
     "metadata": {},
     "output_type": "display_data"
    },
    {
     "data": {
      "application/vnd.jupyter.widget-view+json": {
       "model_id": "a07a563f120142d29fc2c3986995c5e8",
       "version_major": 2,
       "version_minor": 0
      },
      "text/plain": [
       "Output()"
      ]
     },
     "metadata": {},
     "output_type": "display_data"
    }
   ],
   "source": [
    "def searchFirstBuy(a): #向前搜寻第一买入点\n",
    "    c = 0\n",
    "    #在本macd周期有第一买入点出现，并且当前股价没有低于第一买入收盘\n",
    "    for i in range(-2,-20,-1):\n",
    "        dMACD = a[i,4]-a[i-1,4]\n",
    "        if dMACD>0 and a[i,1]-a[i-1,1]>0 and a[i,5]>=3 and a[i-1,5]<3:\n",
    "            if (a[i,4]<0 and a[i,4]+2*dMACD>0) or (a[i,4]>0 and a[i,4]-2*dMACD<0): #第一买入点找到\n",
    "                return i\n",
    "        if a[i,4]<0:\n",
    "            c += 1\n",
    "            if c>=2:\n",
    "                break\n",
    "    return 0\n",
    "def isRasing2(a,c,istoday):\n",
    "    #istoday True可以使用xueqiu数据\n",
    "    #c [0 company_id,1 code,2 name,3 category,4 ttm,5 pb]\n",
    "    #0 id ,1 close,2 volume,3 volumema20,4 macd,5 energy,6 volumeJ,7 bollup,8 bollmid,9 bolldn,10 bollw\n",
    "    first = searchFirstBuy(a)\n",
    "    level = 1 #阶段\n",
    "    #从第一买点，可以经历量增（阶段1），量减（阶段2），随后的第一个量增（阶段3）。\n",
    "    #阶段1忽略，阶段2如果发生量缩价增提示，阶段3提示\n",
    "    if first!=0:# and a[-1,2]/a[i,2] > a[-1,1]/a[i,1]:\n",
    "        volumeJ = a[-1,6]\n",
    "        if volumeJ<70 and a[-1,2]<a[-2,2] and a[-1,1]>a[-2,1]:\n",
    "            return True,[{'x':[-1],'color':'blue','linestyle':'--','linewidth':2},{'x':[first],'color':'magenta','linestyle':'--','linewidth':2}]\n",
    "    return False,[]\n",
    "\n",
    "def myFilter2(a,c,istoday,period):\n",
    "    #macd>0 能量线大于3没有完全下线\n",
    "    if period=='d' and a[-1,4]>0 and a[-1,5]>3 and status.isPopularCategory(c[3]):\n",
    "        i = searchFirstBuy(a)\n",
    "        if i!=0 and a[i,1]<a[-1,1]: #找到第一买入点，并且当前价格没有低于第一买入点\n",
    "            return True\n",
    "    return False\n",
    "status.RasingCategoryList('d',isRasing2,myFilter2,name='today2')"
   ]
  },
  {
   "cell_type": "code",
   "execution_count": null,
   "metadata": {},
   "outputs": [],
   "source": []
  }
 ],
 "metadata": {
  "kernelspec": {
   "display_name": "Python 3",
   "language": "python",
   "name": "python3"
  },
  "language_info": {
   "codemirror_mode": {
    "name": "ipython",
    "version": 3
   },
   "file_extension": ".py",
   "mimetype": "text/x-python",
   "name": "python",
   "nbconvert_exporter": "python",
   "pygments_lexer": "ipython3",
   "version": "3.7.4"
  }
 },
 "nbformat": 4,
 "nbformat_minor": 4
}
