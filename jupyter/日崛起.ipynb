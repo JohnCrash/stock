{
 "cells": [
  {
   "cell_type": "code",
   "execution_count": 1,
   "metadata": {},
   "outputs": [],
   "source": [
    "import numpy as np\n",
    "import stock\n",
    "import xueqiu\n",
    "import kline\n",
    "import status"
   ]
  },
  {
   "cell_type": "markdown",
   "metadata": {},
   "source": [
    "# 日线崛起态势的股票进行显示"
   ]
  },
  {
   "cell_type": "code",
   "execution_count": 2,
   "metadata": {
    "jupyter": {
     "source_hidden": true
    }
   },
   "outputs": [
    {
     "data": {
      "application/vnd.jupyter.widget-view+json": {
       "model_id": "",
       "version_major": 2,
       "version_minor": 0
      },
      "text/plain": [
       "IntProgress(value=0, description='Loading:', layout=Layout(display='flex', flex_flow='wrap', width='100%'))"
      ]
     },
     "metadata": {},
     "output_type": "display_data"
    },
    {
     "data": {
      "application/vnd.jupyter.widget-view+json": {
       "model_id": "d5774e6121e64aa484a6fff9e2e8416d",
       "version_major": 2,
       "version_minor": 0
      },
      "text/plain": [
       "Output()"
      ]
     },
     "metadata": {},
     "output_type": "display_data"
    },
    {
     "data": {
      "application/vnd.jupyter.widget-view+json": {
       "model_id": "c202868764314ab7867aa139a1c569fd",
       "version_major": 2,
       "version_minor": 0
      },
      "text/plain": [
       "Box(children=(Button(description='2020-01-23', style=ButtonStyle()), Button(description='2020-01-22', style=Bu…"
      ]
     },
     "metadata": {},
     "output_type": "display_data"
    },
    {
     "data": {
      "application/vnd.jupyter.widget-view+json": {
       "model_id": "5c648f6cbae84e4983432777d67576e0",
       "version_major": 2,
       "version_minor": 0
      },
      "text/plain": [
       "Output()"
      ]
     },
     "metadata": {},
     "output_type": "display_data"
    }
   ],
   "source": [
    "def isRasing(a,c,istoday):\n",
    "    #istoday True可以使用xueqiu数据\n",
    "    #c [0 company_id,1 code,2 name,3 category,4 ttm,5 pb]\n",
    "    #a[0] a[1] a[2]最近三天的数据a[2]是最近的一天\n",
    "    #macd 在两日日内有翻红趋势，energy从1以下崛起到大于5，volumeJ趋势向上,close趋势向上\n",
    "    #0 id , 1 close , 2 volume , 3 volumema20 , 4 macd , 5 energy ,6 volumeJ\n",
    "    dMACD = a[-1][4]-a[-2][4]\n",
    "    dVolumeJ = a[-1][6]-a[-2][6]\n",
    "    dClose = a[-1][1]-a[-2][1]\n",
    "    if istoday:\n",
    "        #做一些过滤因为太多下载的数据就会太多\n",
    "        if a[-2][5]<5 and status.isPopularCategory(c[3]): #macd斜率向上，volumeJ斜率向上，能量<5\n",
    "            b,k,d = xueqiu.xueqiuK15day(c[1])\n",
    "            if b:\n",
    "                a.append([0,k[4],k[0],0,0,0,0])\n",
    "                A = np.array(a)\n",
    "                energyJ = stock.kdj(stock.volumeEnergy(A[:,2]))[:,2]\n",
    "                m = stock.macdV(A[:,1])\n",
    "                if m[-1]-m[-2]>0 and energyJ[-1]>=5: #能量崛起\n",
    "                    print(c)\n",
    "                    return True\n",
    "    else:\n",
    "        #if a[2][4]<0 and a[2][4] + 2*dMACD >= 0 and dVolumeJ>0 and dClose>0 and a[2][5]>=5 and a[1][5]<5: #预macd两日内翻红，volumeJ斜率向上,close增长,energy崛起\n",
    "        if dMACD >= 0 and dVolumeJ>0 and dClose>0 and a[-1][5]>=5 and a[-2][5]<5 and status.isPopularCategory(c[3]): #macd斜率向上，volumeJ斜率向上,close增长,energy崛起\n",
    "            return True\n",
    "    \n",
    "    return False\n",
    "status.RasingCategoryList('d',isRasing)"
   ]
  },
  {
   "cell_type": "code",
   "execution_count": null,
   "metadata": {},
   "outputs": [],
   "source": []
  }
 ],
 "metadata": {
  "kernelspec": {
   "display_name": "Python 3",
   "language": "python",
   "name": "python3"
  },
  "language_info": {
   "codemirror_mode": {
    "name": "ipython",
    "version": 3
   },
   "file_extension": ".py",
   "mimetype": "text/x-python",
   "name": "python",
   "nbconvert_exporter": "python",
   "pygments_lexer": "ipython3",
   "version": "3.7.4"
  }
 },
 "nbformat": 4,
 "nbformat_minor": 4
}
