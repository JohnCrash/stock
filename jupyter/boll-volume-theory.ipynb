{
 "cells": [
  {
   "cell_type": "markdown",
   "metadata": {},
   "source": [
    "# BOLL线和成交量相关问题\n",
    "1. 计算BOLL线打开和成交量的关系以及成功率\n",
    "2. 选择不同的BOLL宽带以及成交量放大阈值是不是影响成功率\n",
    "3. 大盘怎样影响成功率的，例如：大盘macd,大盘成交量,大盘boll形态,大盘均线\n",
    "4. 个股怎么最优选择BOLL宽带阈值于成交量放大阈值\n",
    "5. 通过每天前15分钟的成交量预测全天成交量准确度如何\n",
    "6. 通道经历过大盘的上涨或者下跌对结果有什么影响\n",
    "7. 通道打开时成交量未发生明显增加，股价大幅度上升或下降\n",
    "8. 通道内成交量的最大值于最小值于通道打开点成交量关系\n",
    "9. 通道打开使用bollwidth斜率作为打开依据还是使用bollwidth阈值作为依据"
   ]
  },
  {
   "cell_type": "code",
   "execution_count": 1,
   "metadata": {
    "jupyter": {
     "source_hidden": true
    }
   },
   "outputs": [],
   "source": [
    "import stock\n",
    "import kline\n",
    "import xueqiu\n",
    "import numpy as np"
   ]
  },
  {
   "cell_type": "code",
   "execution_count": 2,
   "metadata": {
    "jupyter": {
     "source_hidden": true
    }
   },
   "outputs": [],
   "source": [
    "def searchBoll(k):\n",
    "    bo = stock.bollLineK(k,20)\n",
    "    bw = stock.bollWidth(bo)\n",
    "    bww = bw<0.2\n",
    "    \n",
    "def K(code):\n",
    "    c,k,d = stock.loadKline(code)\n",
    "    bo = stock.bollLineK(k,20)\n",
    "    bw = stock.bollWidth(bo)\n",
    "    kline.Plote(code,'d',config={\n",
    "    'macd':False,\n",
    "    'figure':[\n",
    "        [{\n",
    "        'data':bw,\n",
    "        'color':'red'\n",
    "        }]\n",
    "    ]}).show()    "
   ]
  },
  {
   "cell_type": "markdown",
   "metadata": {},
   "source": [
    "先找出通道，然后标记并进行观察分析找出一个大概的规律。然后使用程序在做深入分析"
   ]
  },
  {
   "cell_type": "markdown",
   "metadata": {},
   "source": [
    "# 设三个参数一个是最大值上限阈值，一个是通道宽带上限阈值，以及一个长度下限阈值"
   ]
  },
  {
   "cell_type": "code",
   "execution_count": 12,
   "metadata": {},
   "outputs": [],
   "source": [
    "#满足bw<ut , 长度大于nt的部分\n",
    "def bollWidthUPSelect(bw,ut,nt):\n",
    "    n = 0\n",
    "    bi = -1\n",
    "    a = []\n",
    "    for i in range(len(bw)):\n",
    "        if bw[i] < ut:\n",
    "            if n==0:\n",
    "                bi = i\n",
    "            n+=1\n",
    "        elif bi != -1 and n>nt:\n",
    "            a.append((bi,i))\n",
    "            bi = -1\n",
    "            n = 0\n",
    "        else:\n",
    "            bi = -1\n",
    "            n = 0\n",
    "    if bi!= -1 and n>=nt:\n",
    "        a.append((bi,len(bw)))\n",
    "    return a\n",
    "#返回头部满足宽带小于wt,长度大于等于nt的位置\n",
    "def bollWidthHead(bw,bi,ei,wt,nt):\n",
    "    for i in range(bi,ei-nt):\n",
    "        head = bw[i:i+nt]\n",
    "        r = head.max()-head.min()\n",
    "        if head.max()-head.min()<wt:\n",
    "            return i+nt\n",
    "    return -1\n",
    "#更加这些阈值返回一个范围列表，以及一些特殊点\n",
    "def bollWidthSelect(k,ut=0.2,wt=0.1,nt=15):\n",
    "    bo = stock.bollLineK(k,20)\n",
    "    bw = stock.bollWidth(bo)\n",
    "    r = []\n",
    "    a = bollWidthUPSelect(bw,ut,nt)\n",
    "    #只要前面出现一段宽度变化幅度小于wt，并且长度>=nt的起始段，后面的都算返回区域\n",
    "    for b in a:\n",
    "        off = bollWidthHead(bw,b[0],b[1],wt,nt)\n",
    "        if off < b[1] and off>=(b[0]+nt):\n",
    "            r.append((off,b[1]))\n",
    "    return r,bo,bw\n",
    "#成交量大于平均值1.5倍\n",
    "def volumeSelect(k,r,vt=1.5):\n",
    "    vma = stock.ma(k[:,0],20)\n",
    "    a = []\n",
    "    for b in r:\n",
    "        a.append(np.argwhere(k[b[0]:b[1],0]/vma[b[0]:b[1]]>vt)+b[0])\n",
    "    return np.vstack(a).reshape(-1)\n",
    "#要求股价买入点股价正在20日均线上面\n",
    "def ma20Select(k,a):\n",
    "    r = []\n",
    "    bo = stock.bollLineK(k,20)\n",
    "    for i in a:\n",
    "        if k[i,4]>bo[i,1]:\n",
    "            r.append(i)\n",
    "    return np.array(r)\n",
    "\n",
    "#使用macd将买入点分为主买入点靠近金叉，主买入点离开金叉1/3最大MACD正周期变为次买入点，和次买入点远离金叉\n",
    "def macdSelect(k,a):\n",
    "    macd,_ = stock.macd(k)\n",
    "    p = macd[0]\n",
    "    bi = 0\n",
    "    r = []\n",
    "    maxt = 0\n",
    "    for i in range(len(macd)):\n",
    "        m = macd[i]\n",
    "        if m>0 and p<0:\n",
    "            bi = i  \n",
    "        elif m<0 and p>0:\n",
    "            r.append([bi,i])\n",
    "            if i-bi>maxt:\n",
    "                maxt = i-bi\n",
    "            bi = 0\n",
    "        p = m\n",
    "    if bi !=0:\n",
    "        r.append([bi,len(k)])\n",
    "        if i-bi>maxt:\n",
    "            maxt = i-bi        \n",
    "    main = []\n",
    "    second = []\n",
    "    offset = 0\n",
    "    for b in r:\n",
    "        first = True\n",
    "        for i in range(offset,len(a)):\n",
    "            if b[0]<=a[i] and a[i]<b[1]:\n",
    "                if first:\n",
    "                    if a[i]<b[0]+maxt/3:\n",
    "                        main.append(a[i])\n",
    "                    else:\n",
    "                        second.append(a[i])\n",
    "                else:\n",
    "                    second.append(a[i])\n",
    "                first  = False\n",
    "            elif first==False:\n",
    "                offset = i\n",
    "                break\n",
    "    return main,second"
   ]
  },
  {
   "cell_type": "code",
   "execution_count": 13,
   "metadata": {
    "jupyter": {
     "source_hidden": true
    }
   },
   "outputs": [],
   "source": [
    "#红色粗线更加靠近macd金叉\n",
    "def ShowBollSelect(code):\n",
    "    c,k,d = stock.loadKline(code)\n",
    "    r,bo,bw = bollWidthSelect(k,0.2,0.8,10)\n",
    "    sel = np.zeros((len(k)))\n",
    "    mains,seconds = macdSelect(k,ma20Select(k,volumeSelect(k,r,1.5)))\n",
    "    for b in r:\n",
    "        sel[b[0]:b[1]] = 0.2\n",
    "    kline.Plote(code,'d',config={\n",
    "    'macd':False,\n",
    "    'vlines':[\n",
    "        {\n",
    "            \"color\":\"red\",\n",
    "            \"linewidth\":2,\n",
    "            \"linestyle\":\"-.\",\n",
    "            \"x\":mains\n",
    "        },\n",
    "        {\n",
    "            \"color\":\"green\",\n",
    "            \"linewidth\":1,\n",
    "            \"linestyle\":\"--\",\n",
    "            \"x\":seconds\n",
    "        }        \n",
    "    ],\n",
    "    'figure':[\n",
    "        [{\n",
    "        'data':bw,\n",
    "        'color':'red'\n",
    "        },{\n",
    "        'data':sel,\n",
    "        'color':'blue'\n",
    "        }]\n",
    "    ]}).show(code2=\"SZ:399001\") "
   ]
  },
  {
   "cell_type": "code",
   "execution_count": 15,
   "metadata": {},
   "outputs": [
    {
     "data": {
      "application/vnd.jupyter.widget-view+json": {
       "model_id": "adbe07e1339b4a7f9bc6b6643ecbe7fe",
       "version_major": 2,
       "version_minor": 0
      },
      "text/plain": [
       "Box(children=(Button(description='上一页', style=ButtonStyle()), Button(description='下一页', style=ButtonStyle()), …"
      ]
     },
     "metadata": {},
     "output_type": "display_data"
    },
    {
     "data": {
      "application/vnd.jupyter.widget-view+json": {
       "model_id": "06f6fd5d0e324bb4b018cf6627219bdc",
       "version_major": 2,
       "version_minor": 0
      },
      "text/plain": [
       "Output()"
      ]
     },
     "metadata": {},
     "output_type": "display_data"
    }
   ],
   "source": [
    "ShowBollSelect('SH:600460')"
   ]
  },
  {
   "cell_type": "code",
   "execution_count": null,
   "metadata": {},
   "outputs": [],
   "source": []
  }
 ],
 "metadata": {
  "kernelspec": {
   "display_name": "Python 3",
   "language": "python",
   "name": "python3"
  },
  "language_info": {
   "codemirror_mode": {
    "name": "ipython",
    "version": 3
   },
   "file_extension": ".py",
   "mimetype": "text/x-python",
   "name": "python",
   "nbconvert_exporter": "python",
   "pygments_lexer": "ipython3",
   "version": "3.7.4"
  }
 },
 "nbformat": 4,
 "nbformat_minor": 4
}
