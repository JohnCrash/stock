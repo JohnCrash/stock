{
 "cells": [
  {
   "cell_type": "code",
   "execution_count": 5,
   "metadata": {
    "jupyter": {
     "source_hidden": true
    }
   },
   "outputs": [],
   "source": [
    "import MySQLdb\n",
    "import torch\n",
    "import numpy as np\n",
    "import matplotlib.pyplot as plt\n",
    "import stock\n",
    "import re\n",
    "from IPython.display import display, Markdown"
   ]
  },
  {
   "cell_type": "code",
   "execution_count": 6,
   "metadata": {
    "jupyter": {
     "source_hidden": true
    }
   },
   "outputs": [],
   "source": [
    "#1. 忽略掉不想要的类型\n",
    "#2. 忽略掉在一年内有连续跌停的\n",
    "#3. 忽略掉ST\n",
    "#符合条件的filter返回True\n",
    "keywords = [r\".*证券.*\",r\".*银行.*\",r\".*芯片.*\",r\".*半导体.*\",r\".*集成电路.*\",r\".*互联网.*\",\n",
    "            r\".*制药.*\",r\".*固废.*\",r\".*通信.*\"]\n",
    "def descFilter(c):\n",
    "    for pat in keywords:\n",
    "        if re.match(pat,c[3]) is not None:\n",
    "            return True\n",
    "    return False\n",
    "def IgnoreCompany(filter=descFilter):\n",
    "    db = MySQLdb.connect(\"localhost\", \"root\", \"789\", \"stock\", charset='utf8',port=3307 )\n",
    "    cursor = db.cursor()\n",
    "    try:\n",
    "        cursor.execute(\"\"\"update company set `ignore`=1\"\"\")\n",
    "        db.commit()\n",
    "    except Exception as e:\n",
    "        print(e)\n",
    "        db.rollback()\n",
    "        \n",
    "    db.query(\"\"\"select * from descript where name not like '%ST%' and name not like '%B%'\"\"\")\n",
    "    r = db.store_result()\n",
    "    companys = r.fetch_row(r.num_rows())\n",
    "    for c in companys:\n",
    "        if filter(c):\n",
    "            try:\n",
    "                cursor.execute(\"\"\"update company set `ignore`=0 where code='%s'\"\"\"%(c[2]))\n",
    "                db.commit()\n",
    "            except Exception as e:\n",
    "                print(e)\n",
    "                db.rollback()\n",
    "    try:\n",
    "        cursor.execute(\"\"\"select count(*) from company where `ignore`=0\"\"\")\n",
    "        db.commit()\n",
    "    except Exception as e:\n",
    "        print(e)\n",
    "        db.rollback()\n",
    "    result = cursor.fetchone()\n",
    "    db.close()\n",
    "    print(result)\n",
    "    \n",
    "def loadCompany():\n",
    "    db = MySQLdb.connect(\"localhost\", \"root\", \"789\", \"stock\", charset='utf8',port=3307 )\n",
    "    db.query(\"\"\"select * from company where `ignore`=0\"\"\")\n",
    "    r = db.store_result()\n",
    "    companys = r.fetch_row(r.num_rows())\n",
    "    db.close()\n",
    "    return companys"
   ]
  },
  {
   "cell_type": "markdown",
   "metadata": {},
   "source": [
    "# 使用boll 极限宽带小于0.1来选择股票"
   ]
  },
  {
   "cell_type": "code",
   "execution_count": 9,
   "metadata": {
    "jupyter": {
     "source_hidden": true
    }
   },
   "outputs": [],
   "source": [
    "def bollWidth(k):\n",
    "    bo20 = stock.bollLine(k,20)\n",
    "    lw = (bo20[:,2]-bo20[:,0])/bo20[:,1]\n",
    "    lwmax = 0\n",
    "    lwmin = 10\n",
    "    #boll极限宽小于0.1\n",
    "    for i in range(len(lw)-10,len(lw)-1):\n",
    "        if lw[i] > lwmax:\n",
    "            lwmax = lw[i]\n",
    "        if lw[i] < lwmin:\n",
    "            lwmin = lw[i]\n",
    "    #返回最小的极限宽带和最大的极限宽带\n",
    "    return lwmin,lwmax,lw[-1],k[-1,4]-k[-2,4],k[-1,4]-bo20[-1,1]\n",
    "\n",
    "def storeSelectCompany(blist):\n",
    "    db = MySQLdb.connect(\"localhost\", \"root\", \"789\", \"stock\", charset='utf8',port=3307 )\n",
    "    cursor = db.cursor()\n",
    "    try:\n",
    "        cursor.execute(\"\"\"delete from company_select2 where source=1\"\"\")\n",
    "        db.commit()\n",
    "    except Exception as e:\n",
    "        print(e)\n",
    "        db.rollback()\n",
    "    for c in blist:\n",
    "        try:\n",
    "            cursor.execute(\"\"\"insert ignore into company_select2 values ('%s','%s',1)\"\"\"%(c[0],c[1]))\n",
    "            db.commit()\n",
    "        except Exception as e:\n",
    "            print(e)\n",
    "            db.rollback()        \n",
    "    db.close()\n",
    "def ouputSelectCompany(str,blist):\n",
    "    display(Markdown(\"\"\"## %s %d\"\"\"%(str,len(blist))))\n",
    "    for b in blist:\n",
    "        display(Markdown(\"\"\"[%s %s](https://xueqiu.com/S/%s)\"\"\"%(b[0],b[1],b[0])))\n",
    "        \n",
    "def selectList():\n",
    "    companys = loadCompany()\n",
    "    glist = []\n",
    "    nlist = []\n",
    "    blist = []\n",
    "    llist = []\n",
    "    for com in companys:\n",
    "        c,kline,kdate = stock.loadKline(com[1])\n",
    "        lwmin,lwmax,lwlast,delta,cm20 = bollWidth(kline)\n",
    "        if lwmax < 0.1 and lwmax/lwmin < 1.5:\n",
    "            if lwlast > lwmax and lwlast/lwmax>1.2:\n",
    "                if delta>0:\n",
    "                    blist.append([com[1],com[2]])\n",
    "                else:\n",
    "                    llist.append([com[1],com[2]])\n",
    "            else:\n",
    "                if cm20 > 0:\n",
    "                    glist.append([com[1],com[2]])\n",
    "                else:\n",
    "                    nlist.append([com[1],com[2]])\n",
    "    storeSelectCompany(blist+llist+glist+nlist)\n",
    "    ouputSelectCompany(\"打开向上\",blist)\n",
    "    ouputSelectCompany(\"打开向下\",llist)\n",
    "    ouputSelectCompany(\"通道上\",glist)\n",
    "    ouputSelectCompany(\"通道下\",nlist)"
   ]
  },
  {
   "cell_type": "code",
   "execution_count": 10,
   "metadata": {},
   "outputs": [
    {
     "data": {
      "text/markdown": [
       "## 打开向上 2"
      ],
      "text/plain": [
       "<IPython.core.display.Markdown object>"
      ]
     },
     "metadata": {},
     "output_type": "display_data"
    },
    {
     "data": {
      "text/markdown": [
       "[SH603222 济民制药](https://xueqiu.com/S/SH603222)"
      ],
      "text/plain": [
       "<IPython.core.display.Markdown object>"
      ]
     },
     "metadata": {},
     "output_type": "display_data"
    },
    {
     "data": {
      "text/markdown": [
       "[SZ002230 科大讯飞](https://xueqiu.com/S/SZ002230)"
      ],
      "text/plain": [
       "<IPython.core.display.Markdown object>"
      ]
     },
     "metadata": {},
     "output_type": "display_data"
    },
    {
     "data": {
      "text/markdown": [
       "## 打开向下 0"
      ],
      "text/plain": [
       "<IPython.core.display.Markdown object>"
      ]
     },
     "metadata": {},
     "output_type": "display_data"
    },
    {
     "data": {
      "text/markdown": [
       "## 通道上 48"
      ],
      "text/plain": [
       "<IPython.core.display.Markdown object>"
      ]
     },
     "metadata": {},
     "output_type": "display_data"
    },
    {
     "data": {
      "text/markdown": [
       "[SZ000617 中油资本](https://xueqiu.com/S/SZ000617)"
      ],
      "text/plain": [
       "<IPython.core.display.Markdown object>"
      ]
     },
     "metadata": {},
     "output_type": "display_data"
    },
    {
     "data": {
      "text/markdown": [
       "[SH600483 福能股份](https://xueqiu.com/S/SH600483)"
      ],
      "text/plain": [
       "<IPython.core.display.Markdown object>"
      ]
     },
     "metadata": {},
     "output_type": "display_data"
    },
    {
     "data": {
      "text/markdown": [
       "[SZ300048 合康新能](https://xueqiu.com/S/SZ300048)"
      ],
      "text/plain": [
       "<IPython.core.display.Markdown object>"
      ]
     },
     "metadata": {},
     "output_type": "display_data"
    },
    {
     "data": {
      "text/markdown": [
       "[SZ002218 拓日新能](https://xueqiu.com/S/SZ002218)"
      ],
      "text/plain": [
       "<IPython.core.display.Markdown object>"
      ]
     },
     "metadata": {},
     "output_type": "display_data"
    },
    {
     "data": {
      "text/markdown": [
       "[SH601908 京运通](https://xueqiu.com/S/SH601908)"
      ],
      "text/plain": [
       "<IPython.core.display.Markdown object>"
      ]
     },
     "metadata": {},
     "output_type": "display_data"
    },
    {
     "data": {
      "text/markdown": [
       "[SZ000402 金融街](https://xueqiu.com/S/SZ000402)"
      ],
      "text/plain": [
       "<IPython.core.display.Markdown object>"
      ]
     },
     "metadata": {},
     "output_type": "display_data"
    },
    {
     "data": {
      "text/markdown": [
       "[SH600547 山东黄金](https://xueqiu.com/S/SH600547)"
      ],
      "text/plain": [
       "<IPython.core.display.Markdown object>"
      ]
     },
     "metadata": {},
     "output_type": "display_data"
    },
    {
     "data": {
      "text/markdown": [
       "[SH600489 中金黄金](https://xueqiu.com/S/SH600489)"
      ],
      "text/plain": [
       "<IPython.core.display.Markdown object>"
      ]
     },
     "metadata": {},
     "output_type": "display_data"
    },
    {
     "data": {
      "text/markdown": [
       "[SZ300158 振东制药](https://xueqiu.com/S/SZ300158)"
      ],
      "text/plain": [
       "<IPython.core.display.Markdown object>"
      ]
     },
     "metadata": {},
     "output_type": "display_data"
    },
    {
     "data": {
      "text/markdown": [
       "[SZ000756 新华制药](https://xueqiu.com/S/SZ000756)"
      ],
      "text/plain": [
       "<IPython.core.display.Markdown object>"
      ]
     },
     "metadata": {},
     "output_type": "display_data"
    },
    {
     "data": {
      "text/markdown": [
       "[SH600062 华润双鹤](https://xueqiu.com/S/SH600062)"
      ],
      "text/plain": [
       "<IPython.core.display.Markdown object>"
      ]
     },
     "metadata": {},
     "output_type": "display_data"
    },
    {
     "data": {
      "text/markdown": [
       "[SH600420 现代制药](https://xueqiu.com/S/SH600420)"
      ],
      "text/plain": [
       "<IPython.core.display.Markdown object>"
      ]
     },
     "metadata": {},
     "output_type": "display_data"
    },
    {
     "data": {
      "text/markdown": [
       "[SH600664 哈药股份](https://xueqiu.com/S/SH600664)"
      ],
      "text/plain": [
       "<IPython.core.display.Markdown object>"
      ]
     },
     "metadata": {},
     "output_type": "display_data"
    },
    {
     "data": {
      "text/markdown": [
       "[SH600323 瀚蓝环境](https://xueqiu.com/S/SH600323)"
      ],
      "text/plain": [
       "<IPython.core.display.Markdown object>"
      ]
     },
     "metadata": {},
     "output_type": "display_data"
    },
    {
     "data": {
      "text/markdown": [
       "[SH600826 兰生股份](https://xueqiu.com/S/SH600826)"
      ],
      "text/plain": [
       "<IPython.core.display.Markdown object>"
      ]
     },
     "metadata": {},
     "output_type": "display_data"
    },
    {
     "data": {
      "text/markdown": [
       "[SH600058 五矿发展](https://xueqiu.com/S/SH600058)"
      ],
      "text/plain": [
       "<IPython.core.display.Markdown object>"
      ]
     },
     "metadata": {},
     "output_type": "display_data"
    },
    {
     "data": {
      "text/markdown": [
       "[SH600288 大恒科技](https://xueqiu.com/S/SH600288)"
      ],
      "text/plain": [
       "<IPython.core.display.Markdown object>"
      ]
     },
     "metadata": {},
     "output_type": "display_data"
    },
    {
     "data": {
      "text/markdown": [
       "[SH600104 上汽集团](https://xueqiu.com/S/SH600104)"
      ],
      "text/plain": [
       "<IPython.core.display.Markdown object>"
      ]
     },
     "metadata": {},
     "output_type": "display_data"
    },
    {
     "data": {
      "text/markdown": [
       "[SZ300599 雄塑科技](https://xueqiu.com/S/SZ300599)"
      ],
      "text/plain": [
       "<IPython.core.display.Markdown object>"
      ]
     },
     "metadata": {},
     "output_type": "display_data"
    },
    {
     "data": {
      "text/markdown": [
       "[SZ002694 顾地科技](https://xueqiu.com/S/SZ002694)"
      ],
      "text/plain": [
       "<IPython.core.display.Markdown object>"
      ]
     },
     "metadata": {},
     "output_type": "display_data"
    },
    {
     "data": {
      "text/markdown": [
       "[SZ300294 博雅生物](https://xueqiu.com/S/SZ300294)"
      ],
      "text/plain": [
       "<IPython.core.display.Markdown object>"
      ]
     },
     "metadata": {},
     "output_type": "display_data"
    },
    {
     "data": {
      "text/markdown": [
       "[SZ000598 兴蓉环境](https://xueqiu.com/S/SZ000598)"
      ],
      "text/plain": [
       "<IPython.core.display.Markdown object>"
      ]
     },
     "metadata": {},
     "output_type": "display_data"
    },
    {
     "data": {
      "text/markdown": [
       "[SH600415 小商品城](https://xueqiu.com/S/SH600415)"
      ],
      "text/plain": [
       "<IPython.core.display.Markdown object>"
      ]
     },
     "metadata": {},
     "output_type": "display_data"
    },
    {
     "data": {
      "text/markdown": [
       "[SZ300161 华中数控](https://xueqiu.com/S/SZ300161)"
      ],
      "text/plain": [
       "<IPython.core.display.Markdown object>"
      ]
     },
     "metadata": {},
     "output_type": "display_data"
    },
    {
     "data": {
      "text/markdown": [
       "[SZ002929 润建股份](https://xueqiu.com/S/SZ002929)"
      ],
      "text/plain": [
       "<IPython.core.display.Markdown object>"
      ]
     },
     "metadata": {},
     "output_type": "display_data"
    },
    {
     "data": {
      "text/markdown": [
       "[SH600355 精伦电子](https://xueqiu.com/S/SH600355)"
      ],
      "text/plain": [
       "<IPython.core.display.Markdown object>"
      ]
     },
     "metadata": {},
     "output_type": "display_data"
    },
    {
     "data": {
      "text/markdown": [
       "[SH600050 中国联通](https://xueqiu.com/S/SH600050)"
      ],
      "text/plain": [
       "<IPython.core.display.Markdown object>"
      ]
     },
     "metadata": {},
     "output_type": "display_data"
    },
    {
     "data": {
      "text/markdown": [
       "[SH600272 开开实业](https://xueqiu.com/S/SH600272)"
      ],
      "text/plain": [
       "<IPython.core.display.Markdown object>"
      ]
     },
     "metadata": {},
     "output_type": "display_data"
    },
    {
     "data": {
      "text/markdown": [
       "[SH601607 上海医药](https://xueqiu.com/S/SH601607)"
      ],
      "text/plain": [
       "<IPython.core.display.Markdown object>"
      ]
     },
     "metadata": {},
     "output_type": "display_data"
    },
    {
     "data": {
      "text/markdown": [
       "[SH600694 大商股份](https://xueqiu.com/S/SH600694)"
      ],
      "text/plain": [
       "<IPython.core.display.Markdown object>"
      ]
     },
     "metadata": {},
     "output_type": "display_data"
    },
    {
     "data": {
      "text/markdown": [
       "[SH600197 伊力特](https://xueqiu.com/S/SH600197)"
      ],
      "text/plain": [
       "<IPython.core.display.Markdown object>"
      ]
     },
     "metadata": {},
     "output_type": "display_data"
    },
    {
     "data": {
      "text/markdown": [
       "[SZ300171 东富龙](https://xueqiu.com/S/SZ300171)"
      ],
      "text/plain": [
       "<IPython.core.display.Markdown object>"
      ]
     },
     "metadata": {},
     "output_type": "display_data"
    },
    {
     "data": {
      "text/markdown": [
       "[SH600016 民生银行](https://xueqiu.com/S/SH600016)"
      ],
      "text/plain": [
       "<IPython.core.display.Markdown object>"
      ]
     },
     "metadata": {},
     "output_type": "display_data"
    },
    {
     "data": {
      "text/markdown": [
       "[SH600919 江苏银行](https://xueqiu.com/S/SH600919)"
      ],
      "text/plain": [
       "<IPython.core.display.Markdown object>"
      ]
     },
     "metadata": {},
     "output_type": "display_data"
    },
    {
     "data": {
      "text/markdown": [
       "[SH601398 工商银行](https://xueqiu.com/S/SH601398)"
      ],
      "text/plain": [
       "<IPython.core.display.Markdown object>"
      ]
     },
     "metadata": {},
     "output_type": "display_data"
    },
    {
     "data": {
      "text/markdown": [
       "[SH601939 建设银行](https://xueqiu.com/S/SH601939)"
      ],
      "text/plain": [
       "<IPython.core.display.Markdown object>"
      ]
     },
     "metadata": {},
     "output_type": "display_data"
    },
    {
     "data": {
      "text/markdown": [
       "[SH600122 宏图高科](https://xueqiu.com/S/SH600122)"
      ],
      "text/plain": [
       "<IPython.core.display.Markdown object>"
      ]
     },
     "metadata": {},
     "output_type": "display_data"
    },
    {
     "data": {
      "text/markdown": [
       "[SH603139 康惠制药](https://xueqiu.com/S/SH603139)"
      ],
      "text/plain": [
       "<IPython.core.display.Markdown object>"
      ]
     },
     "metadata": {},
     "output_type": "display_data"
    },
    {
     "data": {
      "text/markdown": [
       "[SH603858 步长制药](https://xueqiu.com/S/SH603858)"
      ],
      "text/plain": [
       "<IPython.core.display.Markdown object>"
      ]
     },
     "metadata": {},
     "output_type": "display_data"
    },
    {
     "data": {
      "text/markdown": [
       "[SH600535 天士力](https://xueqiu.com/S/SH600535)"
      ],
      "text/plain": [
       "<IPython.core.display.Markdown object>"
      ]
     },
     "metadata": {},
     "output_type": "display_data"
    },
    {
     "data": {
      "text/markdown": [
       "[SH600211 西藏药业](https://xueqiu.com/S/SH600211)"
      ],
      "text/plain": [
       "<IPython.core.display.Markdown object>"
      ]
     },
     "metadata": {},
     "output_type": "display_data"
    },
    {
     "data": {
      "text/markdown": [
       "[SH600222 太龙药业](https://xueqiu.com/S/SH600222)"
      ],
      "text/plain": [
       "<IPython.core.display.Markdown object>"
      ]
     },
     "metadata": {},
     "output_type": "display_data"
    },
    {
     "data": {
      "text/markdown": [
       "[SZ002198 嘉应制药](https://xueqiu.com/S/SZ002198)"
      ],
      "text/plain": [
       "<IPython.core.display.Markdown object>"
      ]
     },
     "metadata": {},
     "output_type": "display_data"
    },
    {
     "data": {
      "text/markdown": [
       "[SZ300635 中达安](https://xueqiu.com/S/SZ300635)"
      ],
      "text/plain": [
       "<IPython.core.display.Markdown object>"
      ]
     },
     "metadata": {},
     "output_type": "display_data"
    },
    {
     "data": {
      "text/markdown": [
       "[SH600520 文一科技](https://xueqiu.com/S/SH600520)"
      ],
      "text/plain": [
       "<IPython.core.display.Markdown object>"
      ]
     },
     "metadata": {},
     "output_type": "display_data"
    },
    {
     "data": {
      "text/markdown": [
       "[SH600811 东方集团](https://xueqiu.com/S/SH600811)"
      ],
      "text/plain": [
       "<IPython.core.display.Markdown object>"
      ]
     },
     "metadata": {},
     "output_type": "display_data"
    },
    {
     "data": {
      "text/markdown": [
       "[SH600200 江苏吴中](https://xueqiu.com/S/SH600200)"
      ],
      "text/plain": [
       "<IPython.core.display.Markdown object>"
      ]
     },
     "metadata": {},
     "output_type": "display_data"
    },
    {
     "data": {
      "text/markdown": [
       "[SH601916 浙商银行](https://xueqiu.com/S/SH601916)"
      ],
      "text/plain": [
       "<IPython.core.display.Markdown object>"
      ]
     },
     "metadata": {},
     "output_type": "display_data"
    },
    {
     "data": {
      "text/markdown": [
       "## 通道下 19"
      ],
      "text/plain": [
       "<IPython.core.display.Markdown object>"
      ]
     },
     "metadata": {},
     "output_type": "display_data"
    },
    {
     "data": {
      "text/markdown": [
       "[SH601989 中国重工](https://xueqiu.com/S/SH601989)"
      ],
      "text/plain": [
       "<IPython.core.display.Markdown object>"
      ]
     },
     "metadata": {},
     "output_type": "display_data"
    },
    {
     "data": {
      "text/markdown": [
       "[SH600869 智慧能源](https://xueqiu.com/S/SH600869)"
      ],
      "text/plain": [
       "<IPython.core.display.Markdown object>"
      ]
     },
     "metadata": {},
     "output_type": "display_data"
    },
    {
     "data": {
      "text/markdown": [
       "[SZ300452 山河药辅](https://xueqiu.com/S/SZ300452)"
      ],
      "text/plain": [
       "<IPython.core.display.Markdown object>"
      ]
     },
     "metadata": {},
     "output_type": "display_data"
    },
    {
     "data": {
      "text/markdown": [
       "[SH601200 上海环境](https://xueqiu.com/S/SH601200)"
      ],
      "text/plain": [
       "<IPython.core.display.Markdown object>"
      ]
     },
     "metadata": {},
     "output_type": "display_data"
    },
    {
     "data": {
      "text/markdown": [
       "[SZ300334 津膜科技](https://xueqiu.com/S/SZ300334)"
      ],
      "text/plain": [
       "<IPython.core.display.Markdown object>"
      ]
     },
     "metadata": {},
     "output_type": "display_data"
    },
    {
     "data": {
      "text/markdown": [
       "[SZ002301 齐心集团](https://xueqiu.com/S/SZ002301)"
      ],
      "text/plain": [
       "<IPython.core.display.Markdown object>"
      ]
     },
     "metadata": {},
     "output_type": "display_data"
    },
    {
     "data": {
      "text/markdown": [
       "[SZ000606 顺利办](https://xueqiu.com/S/SZ000606)"
      ],
      "text/plain": [
       "<IPython.core.display.Markdown object>"
      ]
     },
     "metadata": {},
     "output_type": "display_data"
    },
    {
     "data": {
      "text/markdown": [
       "[SZ002312 三泰控股](https://xueqiu.com/S/SZ002312)"
      ],
      "text/plain": [
       "<IPython.core.display.Markdown object>"
      ]
     },
     "metadata": {},
     "output_type": "display_data"
    },
    {
     "data": {
      "text/markdown": [
       "[SZ002221 东华能源](https://xueqiu.com/S/SZ002221)"
      ],
      "text/plain": [
       "<IPython.core.display.Markdown object>"
      ]
     },
     "metadata": {},
     "output_type": "display_data"
    },
    {
     "data": {
      "text/markdown": [
       "[SH603590 康辰药业](https://xueqiu.com/S/SH603590)"
      ],
      "text/plain": [
       "<IPython.core.display.Markdown object>"
      ]
     },
     "metadata": {},
     "output_type": "display_data"
    },
    {
     "data": {
      "text/markdown": [
       "[SH600645 中源协和](https://xueqiu.com/S/SH600645)"
      ],
      "text/plain": [
       "<IPython.core.display.Markdown object>"
      ]
     },
     "metadata": {},
     "output_type": "display_data"
    },
    {
     "data": {
      "text/markdown": [
       "[SZ300603 立昂技术](https://xueqiu.com/S/SZ300603)"
      ],
      "text/plain": [
       "<IPython.core.display.Markdown object>"
      ]
     },
     "metadata": {},
     "output_type": "display_data"
    },
    {
     "data": {
      "text/markdown": [
       "[SZ002491 通鼎互联](https://xueqiu.com/S/SZ002491)"
      ],
      "text/plain": [
       "<IPython.core.display.Markdown object>"
      ]
     },
     "metadata": {},
     "output_type": "display_data"
    },
    {
     "data": {
      "text/markdown": [
       "[SZ002093 国脉科技](https://xueqiu.com/S/SZ002093)"
      ],
      "text/plain": [
       "<IPython.core.display.Markdown object>"
      ]
     },
     "metadata": {},
     "output_type": "display_data"
    },
    {
     "data": {
      "text/markdown": [
       "[SH600575 淮河能源](https://xueqiu.com/S/SH600575)"
      ],
      "text/plain": [
       "<IPython.core.display.Markdown object>"
      ]
     },
     "metadata": {},
     "output_type": "display_data"
    },
    {
     "data": {
      "text/markdown": [
       "[SZ000516 国际医学](https://xueqiu.com/S/SZ000516)"
      ],
      "text/plain": [
       "<IPython.core.display.Markdown object>"
      ]
     },
     "metadata": {},
     "output_type": "display_data"
    },
    {
     "data": {
      "text/markdown": [
       "[SZ002349 精华制药](https://xueqiu.com/S/SZ002349)"
      ],
      "text/plain": [
       "<IPython.core.display.Markdown object>"
      ]
     },
     "metadata": {},
     "output_type": "display_data"
    },
    {
     "data": {
      "text/markdown": [
       "[SZ002424 贵州百灵](https://xueqiu.com/S/SZ002424)"
      ],
      "text/plain": [
       "<IPython.core.display.Markdown object>"
      ]
     },
     "metadata": {},
     "output_type": "display_data"
    },
    {
     "data": {
      "text/markdown": [
       "[SH600388 龙净环保](https://xueqiu.com/S/SH600388)"
      ],
      "text/plain": [
       "<IPython.core.display.Markdown object>"
      ]
     },
     "metadata": {},
     "output_type": "display_data"
    }
   ],
   "source": [
    "selectList()"
   ]
  },
  {
   "cell_type": "code",
   "execution_count": null,
   "metadata": {},
   "outputs": [],
   "source": []
  }
 ],
 "metadata": {
  "kernelspec": {
   "display_name": "Python 3",
   "language": "python",
   "name": "python3"
  },
  "language_info": {
   "codemirror_mode": {
    "name": "ipython",
    "version": 3
   },
   "file_extension": ".py",
   "mimetype": "text/x-python",
   "name": "python",
   "nbconvert_exporter": "python",
   "pygments_lexer": "ipython3",
   "version": "3.7.4"
  }
 },
 "nbformat": 4,
 "nbformat_minor": 4
}
