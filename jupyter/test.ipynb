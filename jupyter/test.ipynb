{
 "cells": [
  {
   "cell_type": "code",
   "execution_count": 1,
   "metadata": {},
   "outputs": [],
   "source": [
    "import MySQLdb\n",
    "import torch\n",
    "import numpy as np\n",
    "import matplotlib.pyplot as plt\n",
    "from matplotlib.ticker import Formatter\n",
    "import math\n",
    "import ipywidgets as widgets\n",
    "import xueqiu\n",
    "import time\n",
    "import stock"
   ]
  },
  {
   "cell_type": "code",
   "execution_count": 6,
   "metadata": {},
   "outputs": [
    {
     "data": {
      "application/vnd.jupyter.widget-view+json": {
       "model_id": "f456c46384a1411d8b1ef32b12445d62",
       "version_major": 2,
       "version_minor": 0
      },
      "text/plain": [
       "Box(children=(Button(description='上一页', style=ButtonStyle()), Button(description='下一页', style=ButtonStyle())),…"
      ]
     },
     "metadata": {},
     "output_type": "display_data"
    },
    {
     "data": {
      "application/vnd.jupyter.widget-view+json": {
       "model_id": "7cb58ca12a7b481e8e77891a4c6eeb05",
       "version_major": 2,
       "version_minor": 0
      },
      "text/plain": [
       "Output()"
      ]
     },
     "metadata": {},
     "output_type": "display_data"
    }
   ],
   "source": [
    "c,kline,kdate = stock.loadKline('SZ002230')\n",
    "bo = stock.bollLine(kline,20)\n",
    "vb= stock.bollWidth(bo)\n",
    "stock.Kline(kline,len(kline)-100,len(kline),kdate=kdate,boll=20,volume=True,macd=vb)"
   ]
  },
  {
   "cell_type": "code",
   "execution_count": 7,
   "metadata": {},
   "outputs": [
    {
     "data": {
      "application/vnd.jupyter.widget-view+json": {
       "model_id": "a18f1d37f4ec4cc3b09379c5f214c6e8",
       "version_major": 2,
       "version_minor": 0
      },
      "text/plain": [
       "Box(children=(Button(description='上一页', style=ButtonStyle()), Button(description='下一页', style=ButtonStyle())),…"
      ]
     },
     "metadata": {},
     "output_type": "display_data"
    },
    {
     "data": {
      "application/vnd.jupyter.widget-view+json": {
       "model_id": "25e8aa1e90fa438daab1766cc62bc8ab",
       "version_major": 2,
       "version_minor": 0
      },
      "text/plain": [
       "Output()"
      ]
     },
     "metadata": {},
     "output_type": "display_data"
    }
   ],
   "source": [
    "c,kline,kdate = stock.loadKline('SH600519')\n",
    "bo = stock.bollLine(kline,20)\n",
    "vb= stock.bollWidth(bo)\n",
    "stock.Kline(kline,len(kline)-100,len(kline),kdate=kdate,boll=20,volume=True,macd=vb)"
   ]
  },
  {
   "cell_type": "code",
   "execution_count": 8,
   "metadata": {},
   "outputs": [
    {
     "data": {
      "application/vnd.jupyter.widget-view+json": {
       "model_id": "45aef0aeb93a45b784cb213aea8e7f2d",
       "version_major": 2,
       "version_minor": 0
      },
      "text/plain": [
       "Box(children=(Button(description='上一页', style=ButtonStyle()), Button(description='下一页', style=ButtonStyle())),…"
      ]
     },
     "metadata": {},
     "output_type": "display_data"
    },
    {
     "data": {
      "application/vnd.jupyter.widget-view+json": {
       "model_id": "65ebdc90487644f0bb4c63e613276b21",
       "version_major": 2,
       "version_minor": 0
      },
      "text/plain": [
       "Output()"
      ]
     },
     "metadata": {},
     "output_type": "display_data"
    }
   ],
   "source": [
    "c,kline,kdate = stock.loadKline('SH601099')\n",
    "bo = stock.bollLine(kline,20)\n",
    "vb= stock.bollWidth(bo)\n",
    "stock.Kline(kline,len(kline)-100,len(kline),kdate=kdate,boll=20,volume=True,macd=vb)"
   ]
  },
  {
   "cell_type": "code",
   "execution_count": null,
   "metadata": {},
   "outputs": [],
   "source": []
  }
 ],
 "metadata": {
  "kernelspec": {
   "display_name": "Python 3",
   "language": "python",
   "name": "python3"
  },
  "language_info": {
   "codemirror_mode": {
    "name": "ipython",
    "version": 3
   },
   "file_extension": ".py",
   "mimetype": "text/x-python",
   "name": "python",
   "nbconvert_exporter": "python",
   "pygments_lexer": "ipython3",
   "version": "3.7.4"
  }
 },
 "nbformat": 4,
 "nbformat_minor": 4
}
