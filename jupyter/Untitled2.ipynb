{
 "cells": [
  {
   "cell_type": "code",
   "execution_count": 1,
   "metadata": {},
   "outputs": [],
   "source": [
    "import numpy as np"
   ]
  },
  {
   "cell_type": "code",
   "execution_count": 29,
   "metadata": {},
   "outputs": [],
   "source": [
    "a = np.array([[[0.2,0],[0.4,0],[0.1,0]],\n",
    "              [[0.4,1],[0.5,1],[0.4,1]],\n",
    "              [[0.3,2],[0.2,2],[0.2,2]],\n",
    "              [[0.7,3],[0.3,3],[0.6,3]]])"
   ]
  },
  {
   "cell_type": "code",
   "execution_count": 32,
   "metadata": {},
   "outputs": [
    {
     "data": {
      "text/plain": [
       "array([[[0.2, 0. ],\n",
       "        [0.4, 0. ],\n",
       "        [0.1, 0. ]],\n",
       "\n",
       "       [[0.4, 1. ],\n",
       "        [0.5, 1. ],\n",
       "        [0.4, 1. ]],\n",
       "\n",
       "       [[0.3, 2. ],\n",
       "        [0.2, 2. ],\n",
       "        [0.2, 2. ]],\n",
       "\n",
       "       [[0.7, 3. ],\n",
       "        [0.3, 3. ],\n",
       "        [0.6, 3. ]]])"
      ]
     },
     "execution_count": 32,
     "metadata": {},
     "output_type": "execute_result"
    }
   ],
   "source": [
    "a"
   ]
  },
  {
   "cell_type": "code",
   "execution_count": 41,
   "metadata": {},
   "outputs": [
    {
     "data": {
      "text/plain": [
       "array([[0.2, 0. ],\n",
       "       [0.3, 2. ],\n",
       "       [0.4, 1. ],\n",
       "       [0.7, 3. ]])"
      ]
     },
     "execution_count": 41,
     "metadata": {},
     "output_type": "execute_result"
    }
   ],
   "source": [
    "np.array(sorted(a[:,0,:],key=lambda it:it[0]))"
   ]
  },
  {
   "cell_type": "code",
   "execution_count": 53,
   "metadata": {},
   "outputs": [],
   "source": [
    "a[:,0,:] = np.array(sorted(a[:,0,:],key=lambda it:it[0]))"
   ]
  },
  {
   "cell_type": "code",
   "execution_count": 56,
   "metadata": {},
   "outputs": [
    {
     "data": {
      "text/plain": [
       "array([[[0.2, 0. ],\n",
       "        [0.4, 0. ],\n",
       "        [0.1, 0. ]],\n",
       "\n",
       "       [[0.3, 2. ],\n",
       "        [0.5, 1. ],\n",
       "        [0.4, 1. ]],\n",
       "\n",
       "       [[0.4, 1. ],\n",
       "        [0.2, 2. ],\n",
       "        [0.2, 2. ]],\n",
       "\n",
       "       [[0.7, 3. ],\n",
       "        [0.3, 3. ],\n",
       "        [0.6, 3. ]]])"
      ]
     },
     "execution_count": 56,
     "metadata": {},
     "output_type": "execute_result"
    }
   ],
   "source": [
    "a"
   ]
  },
  {
   "cell_type": "code",
   "execution_count": null,
   "metadata": {},
   "outputs": [],
   "source": []
  }
 ],
 "metadata": {
  "kernelspec": {
   "display_name": "Python 3",
   "language": "python",
   "name": "python3"
  },
  "language_info": {
   "codemirror_mode": {
    "name": "ipython",
    "version": 3
   },
   "file_extension": ".py",
   "mimetype": "text/x-python",
   "name": "python",
   "nbconvert_exporter": "python",
   "pygments_lexer": "ipython3",
   "version": "3.7.4"
  }
 },
 "nbformat": 4,
 "nbformat_minor": 4
}
