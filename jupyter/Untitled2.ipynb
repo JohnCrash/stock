{
 "cells": [
  {
   "cell_type": "code",
   "execution_count": 28,
   "metadata": {},
   "outputs": [],
   "source": [
    "import logging\n",
    "\n",
    "log = logging.getLogger('mylog')\n",
    "log.setLevel(level = logging.INFO)\n",
    "hd = logging.FileHandler('d:\\\\nb.log')\n",
    "hd.setLevel(logging.INFO)\n",
    "formatter = logging.Formatter('%(asctime)s - %(name)s - %(levelname)s - %(message)s')\n",
    "hd.setFormatter(formatter)\n",
    "log.addHandler(hd)\n",
    "log.info(\"init log\")\n",
    "\n",
    "import numpy as np\n",
    "import stock\n",
    "import xueqiu\n",
    "import kline\n",
    "from datetime import date\n",
    "from IPython.display import display,update_display,clear_output\n",
    "import ipywidgets as widgets\n",
    "from ipywidgets import Layout, Button, Box\n",
    "from IPython import get_ipython\n",
    "import asyncio\n",
    "import copy\n",
    "from IPython.core.interactiveshell import InteractiveShell\n",
    "display_pub = InteractiveShell.instance().display_pub\n",
    "def msg_hook(msg):\n",
    "    log.info(str(msg))\n",
    "    return msg\n",
    "display_pub.register_hook(msg_hook)\n",
    "    \n",
    "class Timer:\n",
    "    def __init__(self, timeout, callback):\n",
    "        self._timeout = timeout\n",
    "        self._callback = callback\n",
    "        self._task = asyncio.ensure_future(self._job())\n",
    "\n",
    "    async def _job(self):\n",
    "        await asyncio.sleep(self._timeout) \n",
    "        self._callback()\n",
    "\n",
    "    def cancel(self):\n",
    "        self._task.cancel()"
   ]
  },
  {
   "cell_type": "code",
   "execution_count": 79,
   "metadata": {},
   "outputs": [
    {
     "data": {
      "application/vnd.jupyter.widget-view+json": {
       "model_id": "0ca03d9f4e024e2da1d70ade4fd047a0",
       "version_major": 2,
       "version_minor": 0
      },
      "text/plain": [
       "Output()"
      ]
     },
     "metadata": {},
     "output_type": "display_data"
    }
   ],
   "source": [
    "   \n",
    "out = widgets.Output()\n",
    "out2 = widgets.Output()\n",
    "but = widgets.Button(\n",
    "    description=\"OK\",\n",
    "    disabled=False)\n",
    "\n",
    "out2_msg_id = None\n",
    "def onclick(e):\n",
    "   out2.clear_output()\n",
    "        \n",
    "but.on_click(onclick)\n",
    "\n",
    "display(out)\n",
    "with out:\n",
    "    display(but)\n",
    "    display(out2)\n",
    "    display(but)\n",
    "with out2:\n",
    "    display('hello',display_id='hi')\n",
    "\n",
    "def cb():\n",
    "    out2.clear_output()\n",
    "    #with out2:\n",
    "    #    display('changed',display_id='hi')        \n",
    "    #    display('world')\n",
    "\n",
    "t = Timer(20,cb)"
   ]
  },
  {
   "cell_type": "code",
   "execution_count": null,
   "metadata": {},
   "outputs": [],
   "source": []
  }
 ],
 "metadata": {
  "kernelspec": {
   "display_name": "Python 3",
   "language": "python",
   "name": "python3"
  },
  "language_info": {
   "codemirror_mode": {
    "name": "ipython",
    "version": 3
   },
   "file_extension": ".py",
   "mimetype": "text/x-python",
   "name": "python",
   "nbconvert_exporter": "python",
   "pygments_lexer": "ipython3",
   "version": "3.7.4"
  }
 },
 "nbformat": 4,
 "nbformat_minor": 4
}
