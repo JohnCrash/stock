{
 "cells": [
  {
   "cell_type": "code",
   "execution_count": 19,
   "metadata": {},
   "outputs": [],
   "source": [
    "import numpy as np\n",
    "import stock\n",
    "import shared\n",
    "import kline\n",
    "import math\n",
    "import matplotlib.pyplot as plt\n",
    "from mpl_toolkits.mplot3d import Axes3D\n",
    "import threading\n",
    "import ipywidgets as widgets\n",
    "from IPython.display import display\n",
    "import asyncio"
   ]
  },
  {
   "cell_type": "code",
   "execution_count": 34,
   "metadata": {},
   "outputs": [
    {
     "data": {
      "application/vnd.jupyter.widget-view+json": {
       "model_id": "b8ac6da8bb36437abde9d2b5f10ba1c7",
       "version_major": 2,
       "version_minor": 0
      },
      "text/plain": [
       "Output()"
      ]
     },
     "metadata": {},
     "output_type": "display_data"
    },
    {
     "name": "stdout",
     "output_type": "stream",
     "text": [
      "d1\n"
     ]
    }
   ],
   "source": [
    "class Timer:\n",
    "    def __init__(self, timeout, callback):\n",
    "        self._timeout = timeout\n",
    "        self._callback = callback\n",
    "        self._task = asyncio.ensure_future(self._job())\n",
    "\n",
    "    async def _job(self):\n",
    "        await asyncio.sleep(self._timeout)\n",
    "        self._callback()\n",
    "\n",
    "    def cancel(self):\n",
    "        self._task.cancel()\n",
    "        \n",
    "output = widgets.Output()\n",
    "\n",
    "display(output)\n",
    "with output:\n",
    "    print(dir(output))\n",
    "    print('ABCD')\n",
    "    output.clear_output()        \n",
    "    print('EDF1')  \n",
    "    \n",
    "def updatek15():\n",
    "    output.append_stderr(str(threading.current_thread()))\n",
    "    output.append_stdout('aaa')\n",
    "    #output.clear_output()\n",
    "    #with output:\n",
    "    #    print('updatek15')\n",
    "    #sys.stdout.flush()\n",
    "    #output.append_stdout('ABC')    \n",
    "output.append_stderr(\"Main:\"+str(threading.current_thread()))\n",
    "\n",
    "output.append_stdout('dd')\n",
    "Timer(10,updatek15)\n",
    "output.append_stderr(\"DONE\")\n",
    "print('d1')"
   ]
  },
  {
   "cell_type": "code",
   "execution_count": null,
   "metadata": {},
   "outputs": [],
   "source": []
  }
 ],
 "metadata": {
  "kernelspec": {
   "display_name": "Python 3",
   "language": "python",
   "name": "python3"
  },
  "language_info": {
   "codemirror_mode": {
    "name": "ipython",
    "version": 3
   },
   "file_extension": ".py",
   "mimetype": "text/x-python",
   "name": "python",
   "nbconvert_exporter": "python",
   "pygments_lexer": "ipython3",
   "version": "3.7.4"
  }
 },
 "nbformat": 4,
 "nbformat_minor": 4
}
