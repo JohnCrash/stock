{
 "cells": [
  {
   "cell_type": "code",
   "execution_count": 3,
   "metadata": {},
   "outputs": [],
   "source": [
    "import numpy as np\n",
    "import stock\n",
    "import xueqiu\n",
    "import kline\n",
    "import status"
   ]
  },
  {
   "cell_type": "markdown",
   "metadata": {},
   "source": [
    "# BOLL线崛起态势的股票进行显示"
   ]
  },
  {
   "cell_type": "code",
   "execution_count": 6,
   "metadata": {
    "jupyter": {
     "source_hidden": true
    }
   },
   "outputs": [
    {
     "data": {
      "application/vnd.jupyter.widget-view+json": {
       "model_id": "",
       "version_major": 2,
       "version_minor": 0
      },
      "text/plain": [
       "IntProgress(value=0, description='Loading:', layout=Layout(display='flex', flex_flow='wrap', width='100%'))"
      ]
     },
     "metadata": {},
     "output_type": "display_data"
    },
    {
     "data": {
      "application/vnd.jupyter.widget-view+json": {
       "model_id": "2635058160c84eae97fc7ef32d5127b6",
       "version_major": 2,
       "version_minor": 0
      },
      "text/plain": [
       "Output()"
      ]
     },
     "metadata": {},
     "output_type": "display_data"
    },
    {
     "data": {
      "application/vnd.jupyter.widget-view+json": {
       "model_id": "3febe6186d6b493298122a6f7de58cb2",
       "version_major": 2,
       "version_minor": 0
      },
      "text/plain": [
       "Box(children=(Button(button_style='danger', description='2020-01-30', style=ButtonStyle()), Button(description…"
      ]
     },
     "metadata": {},
     "output_type": "display_data"
    },
    {
     "data": {
      "application/vnd.jupyter.widget-view+json": {
       "model_id": "196bd7f3313947f398405055411f5cee",
       "version_major": 2,
       "version_minor": 0
      },
      "text/plain": [
       "Output()"
      ]
     },
     "metadata": {},
     "output_type": "display_data"
    }
   ],
   "source": [
    "def isRasing(a,c,istoday):\n",
    "    #istoday True可以使用xueqiu数据\n",
    "    #c [0 company_id,1 code,2 name,3 category,4 ttm,5 pb]\n",
    "    #0 id , 1 close , 2 volume , 3 volumema20 , 4 macd , 5 energy ,6 volumeJ ,7 bollup ,8 bollmid,9 bolldn,10 bollw\n",
    "    #a[0] a[1] a[2]... a[0]是最近一天的数据\n",
    "    #boll通道20天小于0.2，能量线崛起\n",
    "    bw = 0\n",
    "    for i in range(1,len(a)):\n",
    "        if a[i,10]<0.2:\n",
    "            bw+=1\n",
    "        else:\n",
    "            break\n",
    "    if bw>=20:\n",
    "        if istoday:\n",
    "            #做一些过滤因为太多下载的数据就会太多\n",
    "            if a[0][5]<5 and status.isPopularCategory(c[3]): #macd斜率向上，volumeJ斜率向上，能量<5\n",
    "                b,k,d = xueqiu.xueqiuK15day(c[1])\n",
    "                if b:\n",
    "                    #将数据叠加在a最上面然后上下翻转\n",
    "                    A = np.flip(np.vstack(([[0,k[4],k[0],0,0,0,0]],a)),0)\n",
    "                    energyJ = stock.kdj(stock.volumeEnergy(A[:,2]))[:,2]\n",
    "                    if A[-1,1]-A[-2,2]>0 and energyJ[-1]>=5: #能量崛起\n",
    "                        print(c)\n",
    "                        return True\n",
    "        else:\n",
    "            if a[0][1]-a[1][1]>0 and a[0][5]>=5 and a[1][5]<5 and status.isPopularCategory(c[3]):\n",
    "                print('<',c)\n",
    "                return True\n",
    "    \n",
    "    return False\n",
    "status.RasingCategoryList('d',isRasing)"
   ]
  },
  {
   "cell_type": "code",
   "execution_count": null,
   "metadata": {},
   "outputs": [],
   "source": []
  }
 ],
 "metadata": {
  "kernelspec": {
   "display_name": "Python 3",
   "language": "python",
   "name": "python3"
  },
  "language_info": {
   "codemirror_mode": {
    "name": "ipython",
    "version": 3
   },
   "file_extension": ".py",
   "mimetype": "text/x-python",
   "name": "python",
   "nbconvert_exporter": "python",
   "pygments_lexer": "ipython3",
   "version": "3.7.4"
  }
 },
 "nbformat": 4,
 "nbformat_minor": 4
}
