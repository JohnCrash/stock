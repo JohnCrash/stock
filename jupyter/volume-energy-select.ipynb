{
 "cells": [
  {
   "cell_type": "code",
   "execution_count": 1,
   "metadata": {},
   "outputs": [],
   "source": [
    "import MySQLdb\n",
    "import torch\n",
    "import numpy as np\n",
    "import matplotlib.pyplot as plt\n",
    "import stock\n",
    "import re\n",
    "from IPython.display import display, Markdown\n",
    "import ipywidgets as widgets\n",
    "import xueqiu\n",
    "import time\n",
    "import kline"
   ]
  },
  {
   "cell_type": "code",
   "execution_count": 2,
   "metadata": {
    "jupyter": {
     "source_hidden": true
    }
   },
   "outputs": [],
   "source": [
    "\"\"\"装入一个分类的所有数据并对齐，返回一个大的矩阵\"\"\"\n",
    "def LoadCategoryCompanys(categoryName):\n",
    "    db = MySQLdb.connect(\"localhost\", \"root\", \"789\", \"stock\", charset='utf8',port=3307 )\n",
    "\n",
    "    db.query(\"\"\"select * from company_select where category='%s'\"\"\"%(categoryName))\n",
    "    r = db.store_result()\n",
    "    companys = r.fetch_row(r.num_rows())\n",
    "    C,K,D = stock.loadKline('SZ:399001') #和深圳成指对齐\n",
    "    KS = np.zeros((len(companys),len(K),5))\n",
    "    i = 0\n",
    "    for c in companys:\n",
    "        c,k,d = stock.loadKline(c[1])\n",
    "        KS[i] = stock.alignK(D,k,d)\n",
    "        i+=1\n",
    "    db.close()\n",
    "    return companys,KS,D"
   ]
  },
  {
   "cell_type": "markdown",
   "metadata": {},
   "source": [
    "# 行业手动初选"
   ]
  },
  {
   "cell_type": "code",
   "execution_count": 19,
   "metadata": {},
   "outputs": [],
   "source": [
    "def CategorySelect(name):\n",
    "    output = widgets.Output()\n",
    "    def K(c,k,d):\n",
    "        display(Markdown(\"\"\"[%s %s ttm:%.2f pb:%.2f](https://xueqiu.com/S/%s)\"\"\"%(c[2],c[1],c[4],c[5],c[1])))\n",
    "        butsel = widgets.Checkbox(value=True if c[-1]==1 else False,\n",
    "            description='选择',\n",
    "            disabled=False,\n",
    "            indent=False)\n",
    "        display(butsel,output)\n",
    "        def onClick(event):\n",
    "            value = 1 if event['new'] else 0\n",
    "            db = MySQLdb.connect(\"localhost\", \"root\", \"789\", \"stock\", charset='utf8',port=3307 )\n",
    "            cursor = db.cursor()\n",
    "            try:\n",
    "                cursor.execute(\"\"\"update company_select set manual=%d where code='%s'\"\"\"%(value,c[1]))\n",
    "                db.commit()\n",
    "            except Exception as e:\n",
    "                print(e)\n",
    "                db.rollback()            \n",
    "            db.close()\n",
    "            \n",
    "        butsel.observe(onClick,names='value')\n",
    "        \n",
    "        ve = stock.volumeEnergyK(k,20)\n",
    "        veKDJ = stock.kdj(ve,9)\n",
    "        kline.Plote(k,date=d,config={\n",
    "            \"index\":True,\n",
    "            \"figure\":[[\n",
    "                {\n",
    "                    'data':veKDJ[:,2],\n",
    "                    'color':'red',\n",
    "                    'linewidth':2,\n",
    "                    'hline':{\n",
    "                        \"y\":0,\n",
    "                        \"color\":'blue',\n",
    "                        \"linestyle\":\"-.\"\n",
    "                    }\n",
    "                },\n",
    "                {\n",
    "                    'data':VEKDJ[:,2],\n",
    "                    'color':'fuchsia',\n",
    "                    'linewidth':2,\n",
    "                }\n",
    "            ]]\n",
    "        },companyInfo=c).show(len(k)-440,len(k),figsize=(36,15))    \n",
    "    coms,ks,date = LoadCategoryCompanys(name)\n",
    "    kvs = np.zeros((ks.shape[1]))\n",
    "    for i in range(ks.shape[1]):\n",
    "        kvs[i] = ks[:,i,0].sum()\n",
    "    VE = stock.volumeEnergy(kvs,20)\n",
    "    VEKDJ = stock.kdj(VE,9)\n",
    "    for i in range(len(coms)):\n",
    "        K(coms[i],ks[i],date)"
   ]
  },
  {
   "cell_type": "code",
   "execution_count": 20,
   "metadata": {},
   "outputs": [],
   "source": [
    "CategorySelect('') #输入雪球分类名称"
   ]
  },
  {
   "cell_type": "code",
   "execution_count": null,
   "metadata": {},
   "outputs": [],
   "source": []
  }
 ],
 "metadata": {
  "kernelspec": {
   "display_name": "Python 3",
   "language": "python",
   "name": "python3"
  },
  "language_info": {
   "codemirror_mode": {
    "name": "ipython",
    "version": 3
   },
   "file_extension": ".py",
   "mimetype": "text/x-python",
   "name": "python",
   "nbconvert_exporter": "python",
   "pygments_lexer": "ipython3",
   "version": "3.7.4"
  }
 },
 "nbformat": 4,
 "nbformat_minor": 4
}
