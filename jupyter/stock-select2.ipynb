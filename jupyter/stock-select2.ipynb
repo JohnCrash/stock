{
 "cells": [
  {
   "cell_type": "code",
   "execution_count": 67,
   "metadata": {
    "jupyter": {
     "source_hidden": true
    }
   },
   "outputs": [],
   "source": [
    "import MySQLdb\n",
    "import torch\n",
    "import numpy as np\n",
    "import matplotlib.pyplot as plt\n",
    "import stock\n",
    "import re\n",
    "from IPython.display import display, Markdown\n",
    "import xueqiu\n",
    "import time"
   ]
  },
  {
   "cell_type": "markdown",
   "metadata": {},
   "source": [
    "# 对观察列表中的进行"
   ]
  },
  {
   "cell_type": "markdown",
   "metadata": {},
   "source": [
    "使用boll选择的和在xueqiu列表中的都存入到company_select2中"
   ]
  },
  {
   "cell_type": "code",
   "execution_count": null,
   "metadata": {},
   "outputs": [],
   "source": [
    "def loadSelect2():\n",
    "    db = MySQLdb.connect(\"localhost\", \"root\", \"789\", \"stock\", charset='utf8',port=3307 )\n",
    "    db.query(\"\"\"select * from company_select2\"\"\")\n",
    "    r = db.store_result()\n",
    "    companys = r.fetch_row(r.num_rows())\n",
    "    db.close()\n",
    "    return companys\n",
    "\n",
    "def buySelectList():\n",
    "    companys = loadSelect2()\n",
    "    for c in companys:\n",
    "        "
   ]
  },
  {
   "cell_type": "code",
   "execution_count": null,
   "metadata": {},
   "outputs": [],
   "source": [
    "buySelectList()"
   ]
  }
 ],
 "metadata": {
  "kernelspec": {
   "display_name": "Python 3",
   "language": "python",
   "name": "python3"
  },
  "language_info": {
   "codemirror_mode": {
    "name": "ipython",
    "version": 3
   },
   "file_extension": ".py",
   "mimetype": "text/x-python",
   "name": "python",
   "nbconvert_exporter": "python",
   "pygments_lexer": "ipython3",
   "version": "3.7.4"
  }
 },
 "nbformat": 4,
 "nbformat_minor": 4
}
