{
 "cells": [
  {
   "cell_type": "code",
   "execution_count": 1,
   "metadata": {},
   "outputs": [],
   "source": [
    "import torch\n",
    "import numpy as np\n",
    "import matplotlib.pyplot as plt\n",
    "import stock"
   ]
  },
  {
   "cell_type": "markdown",
   "metadata": {},
   "source": [
    "# 评估买入点和卖出点精度"
   ]
  },
  {
   "cell_type": "code",
   "execution_count": 2,
   "metadata": {},
   "outputs": [],
   "source": [
    "\"\"\"对买入点和卖出进行评估\"\"\"\n",
    "def EvaluationBuySell(k,buypt,sellpt):\n",
    "    pass"
   ]
  },
  {
   "cell_type": "markdown",
   "metadata": {},
   "source": [
    "# 买入点: kdj J斜率向上J<25或者上一个J<25 时的下一个kdj金叉点,没判断出来的使用MACD金叉和死叉点"
   ]
  },
  {
   "cell_type": "code",
   "execution_count": 3,
   "metadata": {
    "jupyter": {
     "source_hidden": true
    }
   },
   "outputs": [],
   "source": [
    "\"\"\"\n",
    "买入点分析\n",
    "k kline\n",
    "m kdj J斜率\n",
    "J kdj J\n",
    "kdd kdj K-D\n",
    "bi,ei\n",
    "macd MACD指标\n",
    "\"\"\"\n",
    "def kdjBuyJ20Pts(k):\n",
    "    bi = 0\n",
    "    ei = len(k)\n",
    "    kdJ = stock.kdj(k,9)\n",
    "    J = kdJ[:,2]\n",
    "    m = stock.SlopeRates(kdJ[:,2])\n",
    "    kdd = kdJ[:,0]-kdJ[:,1]\n",
    "    macd,_ = stock.macd(k)\n",
    "\n",
    "    prev = m[bi]\n",
    "    buy = -1\n",
    "    buyi = 0\n",
    "    selli = 0\n",
    "    sell = -1\n",
    "    buytr = []\n",
    "    selltr = []\n",
    "    prevkdd = kdd[0]\n",
    "    for i in range(bi+1,ei):\n",
    "        macD = m[i]\n",
    "        if prev<0 and macD>0 and (J[i-1]<25 or J[i]<25):\n",
    "            buy = k[i,4]\n",
    "            buyi = i\n",
    "        if prevkdd < 0 and kdd[i]>0 and (macd[i]<0 or (macd[i-1]<0 and macd[i]>0)) and i-buyi<=5:\n",
    "            buytr.append([i])\n",
    "            \n",
    "        if prev>0 and macD<0 and (J[i-1]>80 or J[i]>80):\n",
    "            sell = k[i,4]\n",
    "            selli = i\n",
    "        if prevkdd > 0 and kdd[i]<0 and (macd[i]>0 or (macd[i-1]>0 and macd[i]<0)) and i-selli<=5:\n",
    "            selltr.append([i])   \n",
    "            \n",
    "        prevkdd = kdd[i]\n",
    "        prev = macD\n",
    "    return np.array(buytr),np.array(selltr)"
   ]
  },
  {
   "cell_type": "code",
   "execution_count": 4,
   "metadata": {},
   "outputs": [],
   "source": [
    "c,kline,kdate = stock.loadKline('SH601555')\n",
    "kdJ = stock.kdj(kline,9)\n",
    "macD,emA = stock.macd(kline)"
   ]
  },
  {
   "cell_type": "code",
   "execution_count": 5,
   "metadata": {},
   "outputs": [
    {
     "name": "stdout",
     "output_type": "stream",
     "text": [
      "buy: 106 68 sell: 93 67\n"
     ]
    },
    {
     "data": {
      "application/vnd.jupyter.widget-view+json": {
       "model_id": "d74473ed95264d239ebd58a4960e5851",
       "version_major": 2,
       "version_minor": 0
      },
      "text/plain": [
       "Box(children=(Button(description='上一页', style=ButtonStyle()), Button(description='下一页', style=ButtonStyle())),…"
      ]
     },
     "metadata": {},
     "output_type": "display_data"
    },
    {
     "data": {
      "application/vnd.jupyter.widget-view+json": {
       "model_id": "be712d01a9bb409c8d91f3ed4bdb1666",
       "version_major": 2,
       "version_minor": 0
      },
      "text/plain": [
       "Output()"
      ]
     },
     "metadata": {},
     "output_type": "display_data"
    }
   ],
   "source": [
    "buys,sells = kdjBuyJ20Pts(kline)\n",
    "minpts,maxpts = stock.MacdBestPt(kline,macD)\n",
    "print(\"buy:\",len(buys),len(minpts),\"sell:\",len(sells),len(maxpts))\n",
    "stock.Kline(kline,len(kline)-100,len(kline),vlines={\"green\":minpts,\"cyan\":buys,\"red\":maxpts,\"darkorange\":sells},kdate=kdate,boll=True,volume=True,macd=macD,kdj=kdJ)"
   ]
  },
  {
   "cell_type": "markdown",
   "metadata": {},
   "source": [
    "# 买入点: J斜率向上J<25或者上一个J<25 时的下一个kdj金叉点,没判断出来的使用MACD金叉和死叉点  （加入均线MA限制，买点必须小于MA20,卖点大于MA20）"
   ]
  },
  {
   "cell_type": "code",
   "execution_count": 6,
   "metadata": {
    "jupyter": {
     "source_hidden": true
    }
   },
   "outputs": [],
   "source": [
    "\"\"\"\n",
    "买入点分析\n",
    "k kline\n",
    "m kdj J斜率\n",
    "J kdj J\n",
    "kdd kdj K-D\n",
    "bi,ei\n",
    "macd MACD指标\n",
    "\"\"\"\n",
    "def kdjMa20Pts(k):\n",
    "    bi = 0\n",
    "    ei = len(k)\n",
    "    kdJ = stock.kdj(k,9)\n",
    "    J = kdJ[:,2]\n",
    "    m = stock.SlopeRates(kdJ[:,2])\n",
    "    kdd = kdJ[:,0]-kdJ[:,1]\n",
    "    macd,_ = stock.macd(k)\n",
    "    ma20 = stock.ma(k,20)\n",
    "    \n",
    "    prev = m[bi]\n",
    "    buy = -1\n",
    "    buyi = 0\n",
    "    selli = 0\n",
    "    sell = -1\n",
    "    buytr = []\n",
    "    selltr = []\n",
    "    prevkdd = kdd[0]\n",
    "    for i in range(bi+1,ei):\n",
    "        macD = m[i]\n",
    "        if prev<0 and macD>0 and (J[i-1]<25 or J[i]<25):\n",
    "            buy = k[i,4]\n",
    "            buyi = i\n",
    "        if prevkdd < 0 and kdd[i]>0 and (macd[i]<0 or (macd[i-1]<0 and macd[i]>0)) and i-buyi<=5 and (ma20[i]>k[i,3] or ma20[i-1]>k[i-1,4]):\n",
    "            buytr.append([i])\n",
    "            \n",
    "        if prev>0 and macD<0 and (J[i-1]>80 or J[i]>80):\n",
    "            sell = k[i,4]\n",
    "            selli = i\n",
    "        if prevkdd > 0 and kdd[i]<0 and (macd[i]>0 or (macd[i-1]>0 and macd[i]<0)) and i-selli<=5 and (ma20[i]<k[i,3] or ma20[i-1]<k[i-1,4]):\n",
    "            selltr.append([i])   \n",
    "            \n",
    "        prevkdd = kdd[i]\n",
    "        prev = macD\n",
    "    return np.array(buytr),np.array(selltr)"
   ]
  },
  {
   "cell_type": "code",
   "execution_count": 7,
   "metadata": {},
   "outputs": [
    {
     "name": "stdout",
     "output_type": "stream",
     "text": [
      "buy: 96 68 sell: 79 67\n"
     ]
    },
    {
     "data": {
      "application/vnd.jupyter.widget-view+json": {
       "model_id": "fe87e07aaaaa48f3bed55a44326994a2",
       "version_major": 2,
       "version_minor": 0
      },
      "text/plain": [
       "Box(children=(Button(description='上一页', style=ButtonStyle()), Button(description='下一页', style=ButtonStyle())),…"
      ]
     },
     "metadata": {},
     "output_type": "display_data"
    },
    {
     "data": {
      "application/vnd.jupyter.widget-view+json": {
       "model_id": "3808ae5d71bf41d9b3103f74568abe44",
       "version_major": 2,
       "version_minor": 0
      },
      "text/plain": [
       "Output()"
      ]
     },
     "metadata": {},
     "output_type": "display_data"
    }
   ],
   "source": [
    "buys,sells = kdjMa20Pts(kline)\n",
    "minpts,maxpts = stock.MacdBestPt(kline,macD)\n",
    "print(\"buy:\",len(buys),len(minpts),\"sell:\",len(sells),len(maxpts))\n",
    "stock.Kline(kline,len(kline)-100,len(kline),vlines={\"green\":minpts,\"cyan\":buys,\"red\":maxpts,\"darkorange\":sells},kdate=kdate,boll=20,volume=True,macd=macD,kdj=kdJ)"
   ]
  }
 ],
 "metadata": {
  "kernelspec": {
   "display_name": "Python 3",
   "language": "python",
   "name": "python3"
  },
  "language_info": {
   "codemirror_mode": {
    "name": "ipython",
    "version": 3
   },
   "file_extension": ".py",
   "mimetype": "text/x-python",
   "name": "python",
   "nbconvert_exporter": "python",
   "pygments_lexer": "ipython3",
   "version": "3.7.4"
  }
 },
 "nbformat": 4,
 "nbformat_minor": 4
}
