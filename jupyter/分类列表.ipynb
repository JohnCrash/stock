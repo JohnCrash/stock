{
 "cells": [
  {
   "cell_type": "code",
   "execution_count": 1,
   "metadata": {
    "jupyter": {
     "source_hidden": true
    }
   },
   "outputs": [],
   "source": [
    "import numpy as np\n",
    "import matplotlib.pyplot as plt\n",
    "import stock\n",
    "from IPython.display import display\n",
    "import ipywidgets as widgets\n",
    "from ipywidgets import Layout, Button, Box\n",
    "import xueqiu\n",
    "import kline"
   ]
  },
  {
   "cell_type": "code",
   "execution_count": 2,
   "metadata": {
    "jupyter": {
     "source_hidden": true
    }
   },
   "outputs": [],
   "source": [
    "\"\"\"装入一个分类的所有数据并对齐，返回一个大的矩阵\"\"\"\n",
    "def LoadCategoryCompanys(categoryName):\n",
    "    companys = stock.query(\"\"\"select * from company_select where category='%s'\"\"\"%(categoryName))\n",
    "    stock.closedb()\n",
    "    C,K,D = stock.loadKline('SZ:399001') #和深圳成指对齐\n",
    "    KS = np.zeros((len(companys),len(K),5))\n",
    "    i = 0\n",
    "    for c in companys:\n",
    "        c,k,d = stock.loadKline(c[1])\n",
    "        KS[i] = stock.alignK(D,k,d)\n",
    "        i+=1\n",
    "\n",
    "    return companys,KS,D"
   ]
  },
  {
   "cell_type": "markdown",
   "metadata": {},
   "source": [
    "# 行业手动初选"
   ]
  },
  {
   "cell_type": "code",
   "execution_count": 3,
   "metadata": {
    "jupyter": {
     "source_hidden": true
    }
   },
   "outputs": [],
   "source": [
    "\"\"\"\n",
    "输入分类名称将分类下的全部股票列出\n",
    "\"\"\"\n",
    "def CategorySelect(name,output=widgets.Output()):\n",
    "    \n",
    "    def K(c,k,d):\n",
    "        butsel = widgets.Checkbox(value=True if c[-1]==1 else False,\n",
    "            description='选择',\n",
    "            disabled=False,\n",
    "            indent=False)\n",
    "        \n",
    "        def onClick(event):\n",
    "            value = 1 if event['new'] else 0\n",
    "            stock.execute(\"\"\"update company_select set manual=%d where code='%s'\"\"\"%(value,c[1]))\n",
    "            stock.closedb()\n",
    "            \n",
    "        butsel.observe(onClick,names='value')\n",
    "        with output:\n",
    "            display(butsel)\n",
    "            #display(Markdown(\"\"\"[%s %s ttm:%.2f pb:%.2f](https://xueqiu.com/S/%s)\"\"\"%(c[2],c[1],c[4],c[5],c[1])))\n",
    "            kline.Plote(k,date=d,config={\"index\":True},companyInfo=c).show(len(k)-440,len(k),figsize=(32,15))    \n",
    "    coms,ks,date = LoadCategoryCompanys(name)\n",
    "    kvs = np.zeros((ks.shape[1]))\n",
    "    for i in range(ks.shape[1]):\n",
    "        kvs[i] = ks[:,i,0].sum()\n",
    "    VE = stock.volumeEnergy(kvs,20)\n",
    "    VEKDJ = stock.kdj(VE,9)\n",
    "    for i in range(len(coms)):\n",
    "        K(coms[i],ks[i],date)\n",
    "\n",
    "\"\"\"\n",
    "列出全部分类\n",
    "点击不同分类列出该分类下的全部股票的图表\n",
    "\"\"\"\n",
    "def CategoryList():\n",
    "    output = widgets.Output()\n",
    "    categorys = stock.query(\"\"\"select * from category\"\"\")\n",
    "    stock.closedb()\n",
    "    \n",
    "    items_layout = Layout( width='auto')     # override the default width of the button to 'auto' to let the button grow\n",
    "\n",
    "    box_layout = Layout(display='flex',\n",
    "                        flex_flow='wrap',\n",
    "                        align_items='stretch',\n",
    "                        border='solid',\n",
    "                        width='100%')\n",
    "\n",
    "    items = []\n",
    "    def onClick(e):\n",
    "        output.clear_output()\n",
    "        CategorySelect(e.description,output)\n",
    "        \n",
    "    for c in categorys:\n",
    "        but = widgets.Button(\n",
    "            description=c[1],\n",
    "            disabled=False,\n",
    "            button_style='',\n",
    "            tooltip=c[1])\n",
    "        but.on_click(onClick)\n",
    "        items.append(but)\n",
    "    box = Box(children=items, layout=box_layout)\n",
    "    display(box,output)"
   ]
  },
  {
   "cell_type": "code",
   "execution_count": 4,
   "metadata": {},
   "outputs": [
    {
     "data": {
      "application/vnd.jupyter.widget-view+json": {
       "model_id": "bc68ba7f022c4ee3a9a669fecb994e13",
       "version_major": 2,
       "version_minor": 0
      },
      "text/plain": [
       "Box(children=(Button(description='半导体', style=ButtonStyle(), tooltip='半导体'), Button(description='化学纤维', style=…"
      ]
     },
     "metadata": {},
     "output_type": "display_data"
    },
    {
     "data": {
      "application/vnd.jupyter.widget-view+json": {
       "model_id": "8766ca21ac74440082aef402c17b91fd",
       "version_major": 2,
       "version_minor": 0
      },
      "text/plain": [
       "Output()"
      ]
     },
     "metadata": {},
     "output_type": "display_data"
    }
   ],
   "source": [
    "CategoryList()"
   ]
  },
  {
   "cell_type": "code",
   "execution_count": null,
   "metadata": {},
   "outputs": [],
   "source": []
  }
 ],
 "metadata": {
  "kernelspec": {
   "display_name": "Python 3",
   "language": "python",
   "name": "python3"
  },
  "language_info": {
   "codemirror_mode": {
    "name": "ipython",
    "version": 3
   },
   "file_extension": ".py",
   "mimetype": "text/x-python",
   "name": "python",
   "nbconvert_exporter": "python",
   "pygments_lexer": "ipython3",
   "version": "3.7.4"
  }
 },
 "nbformat": 4,
 "nbformat_minor": 4
}
