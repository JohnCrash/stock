{
 "cells": [
  {
   "cell_type": "code",
   "execution_count": 4,
   "metadata": {},
   "outputs": [],
   "source": [
    "import numpy as np\n",
    "import stock\n",
    "import xueqiu\n",
    "import kline"
   ]
  },
  {
   "cell_type": "markdown",
   "metadata": {},
   "source": [
    "# 查看手动选择的股票列表"
   ]
  },
  {
   "cell_type": "code",
   "execution_count": 6,
   "metadata": {},
   "outputs": [
    {
     "name": "stdout",
     "output_type": "stream",
     "text": [
      "https://stock.xueqiu.com/v5/stock/portfolio/stock/list.json?size=1000&pid=-1&category=1 400 \n",
      "xueqiu下载出错\n"
     ]
    }
   ],
   "source": [
    "\"\"\"显示全部选择列表\"\"\"\n",
    "def showManualList():\n",
    "    b,result = xueqiu.xueqiuList()\n",
    "    if b:\n",
    "        for x in result['data']['stocks']:\n",
    "            kline.Plote(x['symbol'],'d',config={'index':True}).show()\n",
    "    else:\n",
    "        print('xueqiu下载出错')\n",
    "showManualList()        "
   ]
  },
  {
   "cell_type": "code",
   "execution_count": null,
   "metadata": {},
   "outputs": [],
   "source": []
  }
 ],
 "metadata": {
  "kernelspec": {
   "display_name": "Python 3",
   "language": "python",
   "name": "python3"
  },
  "language_info": {
   "codemirror_mode": {
    "name": "ipython",
    "version": 3
   },
   "file_extension": ".py",
   "mimetype": "text/x-python",
   "name": "python",
   "nbconvert_exporter": "python",
   "pygments_lexer": "ipython3",
   "version": "3.7.4"
  }
 },
 "nbformat": 4,
 "nbformat_minor": 4
}
