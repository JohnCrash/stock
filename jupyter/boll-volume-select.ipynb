{
 "cells": [
  {
   "cell_type": "code",
   "execution_count": 1,
   "metadata": {
    "jupyter": {
     "source_hidden": true
    }
   },
   "outputs": [],
   "source": [
    "import MySQLdb\n",
    "import torch\n",
    "import numpy as np\n",
    "import matplotlib.pyplot as plt\n",
    "import stock\n",
    "import re\n",
    "from IPython.display import display, Markdown\n",
    "import xueqiu\n",
    "import time"
   ]
  },
  {
   "cell_type": "code",
   "execution_count": 2,
   "metadata": {
    "jupyter": {
     "source_hidden": true
    }
   },
   "outputs": [],
   "source": [
    "#1. 忽略掉不想要的类型\n",
    "#2. 忽略掉在一年内有连续跌停的\n",
    "#3. 忽略掉ST\n",
    "#符合条件的filter返回True\n",
    "keywords = [r\".*证券.*\",r\".*银行.*\",r\".*芯片.*\",r\".*半导体.*\",r\".*集成电路.*\",r\".*互联网.*\",\n",
    "            r\".*制药.*\",r\".*固废.*\",r\".*通信.*\",r\".*光电.*\",r\".*酒.*\"]\n",
    "def descFilter(c):\n",
    "    for pat in keywords:\n",
    "        if re.match(pat,c[3]) is not None:\n",
    "            return True\n",
    "    return False\n",
    "def IgnoreCompany(filter=descFilter):\n",
    "    db = MySQLdb.connect(\"localhost\", \"root\", \"789\", \"stock\", charset='utf8',port=3307 )\n",
    "    cursor = db.cursor()\n",
    "    try:\n",
    "        cursor.execute(\"\"\"update company set `ignore`=1\"\"\")\n",
    "        db.commit()\n",
    "    except Exception as e:\n",
    "        print(e)\n",
    "        db.rollback()\n",
    "        \n",
    "    db.query(\"\"\"select * from descript where name not like '%ST%' and name not like '%B%'\"\"\")\n",
    "    r = db.store_result()\n",
    "    companys = r.fetch_row(r.num_rows())\n",
    "    for c in companys:\n",
    "        if filter(c):\n",
    "            try:\n",
    "                cursor.execute(\"\"\"update company set `ignore`=0 where code='%s'\"\"\"%(c[2]))\n",
    "                db.commit()\n",
    "            except Exception as e:\n",
    "                print(e)\n",
    "                db.rollback()\n",
    "    try:\n",
    "        cursor.execute(\"\"\"select count(*) from company where `ignore`=0\"\"\")\n",
    "        db.commit()\n",
    "    except Exception as e:\n",
    "        print(e)\n",
    "        db.rollback()\n",
    "    result = cursor.fetchone()\n",
    "    db.close()\n",
    "    print(result)\n",
    "    \n",
    "def loadCompany():\n",
    "    db = MySQLdb.connect(\"localhost\", \"root\", \"789\", \"stock\", charset='utf8',port=3307 )\n",
    "    db.query(\"\"\"select * from company where `ignore`=0\"\"\")\n",
    "    r = db.store_result()\n",
    "    companys = r.fetch_row(r.num_rows())\n",
    "    db.close()\n",
    "    return companys\n",
    "\n",
    "def loadKline(code,n=120):\n",
    "    db = MySQLdb.connect(\"localhost\", \"root\", \"789\", \"stock\", charset='utf8',port=3307 )\n",
    "    db.query(\"\"\"select * from company where code='%s'\"\"\"%code)\n",
    "    r = db.store_result()\n",
    "    company = r.fetch_row()\n",
    "    db.query(\"\"\"select volume,open,high,low,close,macd from kd_xueqiu where id=%s order by date desc limit %d\"\"\"%(company[0][0],n))\n",
    "    r = db.store_result()\n",
    "    k = r.fetch_row(r.num_rows())\n",
    "    db.query(\"\"\"select date from kd_xueqiu where id=%s order by date desc limit %d\"\"\"%(company[0][0],n))\n",
    "    r = db.store_result()\n",
    "    kdate = r.fetch_row(r.num_rows())\n",
    "    db.close()\n",
    "    kline = np.array(k).reshape(-1,6)\n",
    "    return company,np.flip(kline),np.flip(kdate)"
   ]
  },
  {
   "cell_type": "markdown",
   "metadata": {},
   "source": [
    "# 使用boll 极限宽带小于0.1来选择股票"
   ]
  },
  {
   "cell_type": "code",
   "execution_count": 3,
   "metadata": {
    "jupyter": {
     "source_hidden": true
    }
   },
   "outputs": [],
   "source": [
    "def bollWidth(k):\n",
    "    bo20 = stock.bollLineK(k,20)\n",
    "    lw = (bo20[:,2]-bo20[:,0])/bo20[:,1]\n",
    "    lwmax = 0\n",
    "    lwmin = 10\n",
    "    #boll极限宽小于0.1\n",
    "    for i in range(len(lw)-10,len(lw)-1):\n",
    "        if lw[i] > lwmax:\n",
    "            lwmax = lw[i]\n",
    "        if lw[i] < lwmin:\n",
    "            lwmin = lw[i]\n",
    "    #返回最小的极限宽带和最大的极限宽带\n",
    "    return lwmin,lwmax,lw[-1],k[-1,4]-k[-2,4],k[-1,4]-bo20[-1,1]\n",
    "\n",
    "def storeSelectCompany(blist):\n",
    "    db = MySQLdb.connect(\"localhost\", \"root\", \"789\", \"stock\", charset='utf8',port=3307 )\n",
    "    cursor = db.cursor()\n",
    "    try:\n",
    "        cursor.execute(\"\"\"delete from company_select2 where source=1\"\"\")\n",
    "        db.commit()\n",
    "    except Exception as e:\n",
    "        print(e)\n",
    "        db.rollback()\n",
    "    for c in blist:\n",
    "        try:\n",
    "            cursor.execute(\"\"\"insert ignore into company_select2 values ('%s','%s',1)\"\"\"%(c[0],c[1]))\n",
    "            db.commit()\n",
    "        except Exception as e:\n",
    "            print(e)\n",
    "            db.rollback()        \n",
    "    db.close()\n",
    "    \n",
    "def ouputSelectCompany(str,blist,i=-1):\n",
    "    display(Markdown(\"\"\"## %s %d\"\"\"%(str,len(blist))))\n",
    "    for b in blist:\n",
    "        if i==-1 or b[2]==i:\n",
    "            display(Markdown(\"\"\"[%s %s](https://xueqiu.com/S/%s)\"\"\"%(b[0],b[1],b[0])))\n",
    "def showSelectCompany(blist):\n",
    "    ouputSelectCompany('打开向上',blist,0)\n",
    "    ouputSelectCompany('打开向下',blist,1)\n",
    "    ouputSelectCompany('通道上',blist,2)\n",
    "    ouputSelectCompany('通道下',blist,3)\n",
    "    \n",
    "def selectList():\n",
    "    companys = loadCompany()\n",
    "    result = []\n",
    "    for com in companys:\n",
    "        c,kline,kdate = loadKline(com[1])\n",
    "        lwmin,lwmax,lwlast,delta,cm20 = bollWidth(kline)\n",
    "        if lwmax < 0.1 and lwmax/lwmin < 1.5:\n",
    "            if lwlast > lwmax and lwlast/lwmax>1.1:\n",
    "                if delta>0:\n",
    "                    result.append([com[1],com[2],0])\n",
    "                else:\n",
    "                    result.append([com[1],com[2],1])\n",
    "            else:\n",
    "                if cm20 > 0:\n",
    "                    result.append([com[1],com[2],2])\n",
    "                else:\n",
    "                    result.append([com[1],com[2],3])\n",
    "    return result"
   ]
  },
  {
   "cell_type": "code",
   "execution_count": 4,
   "metadata": {
    "jupyter": {
     "source_hidden": true
    }
   },
   "outputs": [],
   "source": [
    "#对当前列表中的进行即使跟踪\n",
    "#返回当前成交量和昨天的比较\n",
    "def watch15(code):\n",
    "    b,json = xueqiu.xueqiuK15(code)\n",
    "    today_price = 0\n",
    "    yesterday_price = 0\n",
    "    today_volume = 0\n",
    "    yesterday_volume = 0\n",
    "    if b :\n",
    "        days = set()\n",
    "        items = json['data']['item']\n",
    "        c = time.localtime()\n",
    "        mins = []\n",
    "        for i in range(-1,-len(items),-1):\n",
    "            ts = time.localtime(items[i][0]/1000.)\n",
    "            if c.tm_mday == ts.tm_mday:\n",
    "                days.add(ts.tm_mday)\n",
    "                today_volume += items[i][1]\n",
    "                if today_price==0:\n",
    "                    today_price = items[i][5]\n",
    "                mins.append(ts.tm_hour*60+ts.tm_min)\n",
    "            elif ts.tm_hour*60+ts.tm_min in mins:\n",
    "                days.add(ts.tm_mday)\n",
    "                yesterday_volume += items[i][1]\n",
    "                if yesterday_price==0:\n",
    "                    yesterday_price = items[i][5]\n",
    "    else:\n",
    "        print(json)\n",
    "    return today_price,yesterday_price,today_volume,yesterday_volume"
   ]
  },
  {
   "cell_type": "code",
   "execution_count": 5,
   "metadata": {},
   "outputs": [],
   "source": [
    "bol = selectList()"
   ]
  },
  {
   "cell_type": "markdown",
   "metadata": {},
   "source": [
    "# 对在BOLL通道内的进行及时检测"
   ]
  },
  {
   "cell_type": "code",
   "execution_count": 6,
   "metadata": {
    "jupyter": {
     "source_hidden": true
    }
   },
   "outputs": [],
   "source": [
    "def watch15Boll(ls):\n",
    "    bls = []\n",
    "    for c in ls:\n",
    "        tp,yp,tv,yv = watch15(c[0])\n",
    "        if tp!=0 and yp!=0 and tv!=0 and yv!=0:\n",
    "            if tv/yv>1.6:\n",
    "                bls.append([c[0],\"%s %.2f %.2f\"%(c[1],tv/yv,tp/yp),tv/yv])\n",
    "    bls = sorted(bls,key=lambda c:c[2],reverse = True)\n",
    "    ouputSelectCompany('成交量放大',bls)\n",
    "    return bls"
   ]
  },
  {
   "cell_type": "code",
   "execution_count": 7,
   "metadata": {},
   "outputs": [
    {
     "data": {
      "text/markdown": [
       "## 成交量放大 0"
      ],
      "text/plain": [
       "<IPython.core.display.Markdown object>"
      ]
     },
     "metadata": {},
     "output_type": "display_data"
    }
   ],
   "source": [
    "bls = watch15Boll(bol)"
   ]
  },
  {
   "cell_type": "code",
   "execution_count": 8,
   "metadata": {},
   "outputs": [
    {
     "data": {
      "text/markdown": [
       "## 打开向上 154"
      ],
      "text/plain": [
       "<IPython.core.display.Markdown object>"
      ]
     },
     "metadata": {},
     "output_type": "display_data"
    },
    {
     "data": {
      "text/markdown": [
       "[SH603027 千禾味业](https://xueqiu.com/S/SH603027)"
      ],
      "text/plain": [
       "<IPython.core.display.Markdown object>"
      ]
     },
     "metadata": {},
     "output_type": "display_data"
    },
    {
     "data": {
      "text/markdown": [
       "[SZ300653 正海生物](https://xueqiu.com/S/SZ300653)"
      ],
      "text/plain": [
       "<IPython.core.display.Markdown object>"
      ]
     },
     "metadata": {},
     "output_type": "display_data"
    },
    {
     "data": {
      "text/markdown": [
       "[SH600211 西藏药业](https://xueqiu.com/S/SH600211)"
      ],
      "text/plain": [
       "<IPython.core.display.Markdown object>"
      ]
     },
     "metadata": {},
     "output_type": "display_data"
    },
    {
     "data": {
      "text/markdown": [
       "## 打开向下 154"
      ],
      "text/plain": [
       "<IPython.core.display.Markdown object>"
      ]
     },
     "metadata": {},
     "output_type": "display_data"
    },
    {
     "data": {
      "text/markdown": [
       "[SZ000428 华天酒店](https://xueqiu.com/S/SZ000428)"
      ],
      "text/plain": [
       "<IPython.core.display.Markdown object>"
      ]
     },
     "metadata": {},
     "output_type": "display_data"
    },
    {
     "data": {
      "text/markdown": [
       "[SZ002545 东方铁塔](https://xueqiu.com/S/SZ002545)"
      ],
      "text/plain": [
       "<IPython.core.display.Markdown object>"
      ]
     },
     "metadata": {},
     "output_type": "display_data"
    },
    {
     "data": {
      "text/markdown": [
       "## 通道上 154"
      ],
      "text/plain": [
       "<IPython.core.display.Markdown object>"
      ]
     },
     "metadata": {},
     "output_type": "display_data"
    },
    {
     "data": {
      "text/markdown": [
       "[SZ002585 双星新材](https://xueqiu.com/S/SZ002585)"
      ],
      "text/plain": [
       "<IPython.core.display.Markdown object>"
      ]
     },
     "metadata": {},
     "output_type": "display_data"
    },
    {
     "data": {
      "text/markdown": [
       "[SH601318 中国平安](https://xueqiu.com/S/SH601318)"
      ],
      "text/plain": [
       "<IPython.core.display.Markdown object>"
      ]
     },
     "metadata": {},
     "output_type": "display_data"
    },
    {
     "data": {
      "text/markdown": [
       "[SH601989 中国重工](https://xueqiu.com/S/SH601989)"
      ],
      "text/plain": [
       "<IPython.core.display.Markdown object>"
      ]
     },
     "metadata": {},
     "output_type": "display_data"
    },
    {
     "data": {
      "text/markdown": [
       "[SH600203 福日电子](https://xueqiu.com/S/SH600203)"
      ],
      "text/plain": [
       "<IPython.core.display.Markdown object>"
      ]
     },
     "metadata": {},
     "output_type": "display_data"
    },
    {
     "data": {
      "text/markdown": [
       "[SZ300153 科泰电源](https://xueqiu.com/S/SZ300153)"
      ],
      "text/plain": [
       "<IPython.core.display.Markdown object>"
      ]
     },
     "metadata": {},
     "output_type": "display_data"
    },
    {
     "data": {
      "text/markdown": [
       "[SH600736 苏州高新](https://xueqiu.com/S/SH600736)"
      ],
      "text/plain": [
       "<IPython.core.display.Markdown object>"
      ]
     },
     "metadata": {},
     "output_type": "display_data"
    },
    {
     "data": {
      "text/markdown": [
       "[SH600692 亚通股份](https://xueqiu.com/S/SH600692)"
      ],
      "text/plain": [
       "<IPython.core.display.Markdown object>"
      ]
     },
     "metadata": {},
     "output_type": "display_data"
    },
    {
     "data": {
      "text/markdown": [
       "[SZ000006 深振业A](https://xueqiu.com/S/SZ000006)"
      ],
      "text/plain": [
       "<IPython.core.display.Markdown object>"
      ]
     },
     "metadata": {},
     "output_type": "display_data"
    },
    {
     "data": {
      "text/markdown": [
       "[SZ000628 高新发展](https://xueqiu.com/S/SZ000628)"
      ],
      "text/plain": [
       "<IPython.core.display.Markdown object>"
      ]
     },
     "metadata": {},
     "output_type": "display_data"
    },
    {
     "data": {
      "text/markdown": [
       "[SZ300668 杰恩设计](https://xueqiu.com/S/SZ300668)"
      ],
      "text/plain": [
       "<IPython.core.display.Markdown object>"
      ]
     },
     "metadata": {},
     "output_type": "display_data"
    },
    {
     "data": {
      "text/markdown": [
       "[SH600048 保利地产](https://xueqiu.com/S/SH600048)"
      ],
      "text/plain": [
       "<IPython.core.display.Markdown object>"
      ]
     },
     "metadata": {},
     "output_type": "display_data"
    },
    {
     "data": {
      "text/markdown": [
       "[SZ000548 湖南投资](https://xueqiu.com/S/SZ000548)"
      ],
      "text/plain": [
       "<IPython.core.display.Markdown object>"
      ]
     },
     "metadata": {},
     "output_type": "display_data"
    },
    {
     "data": {
      "text/markdown": [
       "[SZ002923 润都股份](https://xueqiu.com/S/SZ002923)"
      ],
      "text/plain": [
       "<IPython.core.display.Markdown object>"
      ]
     },
     "metadata": {},
     "output_type": "display_data"
    },
    {
     "data": {
      "text/markdown": [
       "[SZ300765 新诺威](https://xueqiu.com/S/SZ300765)"
      ],
      "text/plain": [
       "<IPython.core.display.Markdown object>"
      ]
     },
     "metadata": {},
     "output_type": "display_data"
    },
    {
     "data": {
      "text/markdown": [
       "[SZ002550 千红制药](https://xueqiu.com/S/SZ002550)"
      ],
      "text/plain": [
       "<IPython.core.display.Markdown object>"
      ]
     },
     "metadata": {},
     "output_type": "display_data"
    },
    {
     "data": {
      "text/markdown": [
       "[SZ300452 山河药辅](https://xueqiu.com/S/SZ300452)"
      ],
      "text/plain": [
       "<IPython.core.display.Markdown object>"
      ]
     },
     "metadata": {},
     "output_type": "display_data"
    },
    {
     "data": {
      "text/markdown": [
       "[SH600420 现代制药](https://xueqiu.com/S/SH600420)"
      ],
      "text/plain": [
       "<IPython.core.display.Markdown object>"
      ]
     },
     "metadata": {},
     "output_type": "display_data"
    },
    {
     "data": {
      "text/markdown": [
       "[SZ000826 启迪环境](https://xueqiu.com/S/SZ000826)"
      ],
      "text/plain": [
       "<IPython.core.display.Markdown object>"
      ]
     },
     "metadata": {},
     "output_type": "display_data"
    },
    {
     "data": {
      "text/markdown": [
       "[SZ000099 中信海直](https://xueqiu.com/S/SZ000099)"
      ],
      "text/plain": [
       "<IPython.core.display.Markdown object>"
      ]
     },
     "metadata": {},
     "output_type": "display_data"
    },
    {
     "data": {
      "text/markdown": [
       "[SH603199 九华旅游](https://xueqiu.com/S/SH603199)"
      ],
      "text/plain": [
       "<IPython.core.display.Markdown object>"
      ]
     },
     "metadata": {},
     "output_type": "display_data"
    },
    {
     "data": {
      "text/markdown": [
       "[SH600054 黄山旅游](https://xueqiu.com/S/SH600054)"
      ],
      "text/plain": [
       "<IPython.core.display.Markdown object>"
      ]
     },
     "metadata": {},
     "output_type": "display_data"
    },
    {
     "data": {
      "text/markdown": [
       "[SZ000430 张家界](https://xueqiu.com/S/SZ000430)"
      ],
      "text/plain": [
       "<IPython.core.display.Markdown object>"
      ]
     },
     "metadata": {},
     "output_type": "display_data"
    },
    {
     "data": {
      "text/markdown": [
       "[SH600755 厦门国贸](https://xueqiu.com/S/SH600755)"
      ],
      "text/plain": [
       "<IPython.core.display.Markdown object>"
      ]
     },
     "metadata": {},
     "output_type": "display_data"
    },
    {
     "data": {
      "text/markdown": [
       "[SH600058 五矿发展](https://xueqiu.com/S/SH600058)"
      ],
      "text/plain": [
       "<IPython.core.display.Markdown object>"
      ]
     },
     "metadata": {},
     "output_type": "display_data"
    },
    {
     "data": {
      "text/markdown": [
       "[SZ300369 绿盟科技](https://xueqiu.com/S/SZ300369)"
      ],
      "text/plain": [
       "<IPython.core.display.Markdown object>"
      ]
     },
     "metadata": {},
     "output_type": "display_data"
    },
    {
     "data": {
      "text/markdown": [
       "[SZ002401 中远海科](https://xueqiu.com/S/SZ002401)"
      ],
      "text/plain": [
       "<IPython.core.display.Markdown object>"
      ]
     },
     "metadata": {},
     "output_type": "display_data"
    },
    {
     "data": {
      "text/markdown": [
       "[SZ300419 浩丰科技](https://xueqiu.com/S/SZ300419)"
      ],
      "text/plain": [
       "<IPython.core.display.Markdown object>"
      ]
     },
     "metadata": {},
     "output_type": "display_data"
    },
    {
     "data": {
      "text/markdown": [
       "[SZ002376 新北洋](https://xueqiu.com/S/SZ002376)"
      ],
      "text/plain": [
       "<IPython.core.display.Markdown object>"
      ]
     },
     "metadata": {},
     "output_type": "display_data"
    },
    {
     "data": {
      "text/markdown": [
       "[SH600706 曲江文旅](https://xueqiu.com/S/SH600706)"
      ],
      "text/plain": [
       "<IPython.core.display.Markdown object>"
      ]
     },
     "metadata": {},
     "output_type": "display_data"
    },
    {
     "data": {
      "text/markdown": [
       "[SZ002033 丽江旅游](https://xueqiu.com/S/SZ002033)"
      ],
      "text/plain": [
       "<IPython.core.display.Markdown object>"
      ]
     },
     "metadata": {},
     "output_type": "display_data"
    },
    {
     "data": {
      "text/markdown": [
       "[SZ300599 雄塑科技](https://xueqiu.com/S/SZ300599)"
      ],
      "text/plain": [
       "<IPython.core.display.Markdown object>"
      ]
     },
     "metadata": {},
     "output_type": "display_data"
    },
    {
     "data": {
      "text/markdown": [
       "[SH603991 至正股份](https://xueqiu.com/S/SH603991)"
      ],
      "text/plain": [
       "<IPython.core.display.Markdown object>"
      ]
     },
     "metadata": {},
     "output_type": "display_data"
    },
    {
     "data": {
      "text/markdown": [
       "[SH603590 康辰药业](https://xueqiu.com/S/SH603590)"
      ],
      "text/plain": [
       "<IPython.core.display.Markdown object>"
      ]
     },
     "metadata": {},
     "output_type": "display_data"
    },
    {
     "data": {
      "text/markdown": [
       "[SH600645 中源协和](https://xueqiu.com/S/SH600645)"
      ],
      "text/plain": [
       "<IPython.core.display.Markdown object>"
      ]
     },
     "metadata": {},
     "output_type": "display_data"
    },
    {
     "data": {
      "text/markdown": [
       "[SH600080 金花股份](https://xueqiu.com/S/SH600080)"
      ],
      "text/plain": [
       "<IPython.core.display.Markdown object>"
      ]
     },
     "metadata": {},
     "output_type": "display_data"
    },
    {
     "data": {
      "text/markdown": [
       "[SH600530 交大昂立](https://xueqiu.com/S/SH600530)"
      ],
      "text/plain": [
       "<IPython.core.display.Markdown object>"
      ]
     },
     "metadata": {},
     "output_type": "display_data"
    },
    {
     "data": {
      "text/markdown": [
       "[SZ300683 海特生物](https://xueqiu.com/S/SZ300683)"
      ],
      "text/plain": [
       "<IPython.core.display.Markdown object>"
      ]
     },
     "metadata": {},
     "output_type": "display_data"
    },
    {
     "data": {
      "text/markdown": [
       "[SZ000598 兴蓉环境](https://xueqiu.com/S/SZ000598)"
      ],
      "text/plain": [
       "<IPython.core.display.Markdown object>"
      ]
     },
     "metadata": {},
     "output_type": "display_data"
    },
    {
     "data": {
      "text/markdown": [
       "[SH600113 浙江东日](https://xueqiu.com/S/SH600113)"
      ],
      "text/plain": [
       "<IPython.core.display.Markdown object>"
      ]
     },
     "metadata": {},
     "output_type": "display_data"
    },
    {
     "data": {
      "text/markdown": [
       "[SZ000836 富通鑫茂](https://xueqiu.com/S/SZ000836)"
      ],
      "text/plain": [
       "<IPython.core.display.Markdown object>"
      ]
     },
     "metadata": {},
     "output_type": "display_data"
    },
    {
     "data": {
      "text/markdown": [
       "[SZ002491 通鼎互联](https://xueqiu.com/S/SZ002491)"
      ],
      "text/plain": [
       "<IPython.core.display.Markdown object>"
      ]
     },
     "metadata": {},
     "output_type": "display_data"
    },
    {
     "data": {
      "text/markdown": [
       "[SZ002929 润建股份](https://xueqiu.com/S/SZ002929)"
      ],
      "text/plain": [
       "<IPython.core.display.Markdown object>"
      ]
     },
     "metadata": {},
     "output_type": "display_data"
    },
    {
     "data": {
      "text/markdown": [
       "[SZ300620 光库科技](https://xueqiu.com/S/SZ300620)"
      ],
      "text/plain": [
       "<IPython.core.display.Markdown object>"
      ]
     },
     "metadata": {},
     "output_type": "display_data"
    },
    {
     "data": {
      "text/markdown": [
       "[SZ002093 国脉科技](https://xueqiu.com/S/SZ002093)"
      ],
      "text/plain": [
       "<IPython.core.display.Markdown object>"
      ]
     },
     "metadata": {},
     "output_type": "display_data"
    },
    {
     "data": {
      "text/markdown": [
       "[SH603803 瑞斯康达](https://xueqiu.com/S/SH603803)"
      ],
      "text/plain": [
       "<IPython.core.display.Markdown object>"
      ]
     },
     "metadata": {},
     "output_type": "display_data"
    },
    {
     "data": {
      "text/markdown": [
       "[SZ300597 吉大通信](https://xueqiu.com/S/SZ300597)"
      ],
      "text/plain": [
       "<IPython.core.display.Markdown object>"
      ]
     },
     "metadata": {},
     "output_type": "display_data"
    },
    {
     "data": {
      "text/markdown": [
       "[SZ300560 中富通](https://xueqiu.com/S/SZ300560)"
      ],
      "text/plain": [
       "<IPython.core.display.Markdown object>"
      ]
     },
     "metadata": {},
     "output_type": "display_data"
    },
    {
     "data": {
      "text/markdown": [
       "[SZ300310 宜通世纪](https://xueqiu.com/S/SZ300310)"
      ],
      "text/plain": [
       "<IPython.core.display.Markdown object>"
      ]
     },
     "metadata": {},
     "output_type": "display_data"
    },
    {
     "data": {
      "text/markdown": [
       "[SH600050 中国联通](https://xueqiu.com/S/SH600050)"
      ],
      "text/plain": [
       "<IPython.core.display.Markdown object>"
      ]
     },
     "metadata": {},
     "output_type": "display_data"
    },
    {
     "data": {
      "text/markdown": [
       "[SZ002183 怡亚通](https://xueqiu.com/S/SZ002183)"
      ],
      "text/plain": [
       "<IPython.core.display.Markdown object>"
      ]
     },
     "metadata": {},
     "output_type": "display_data"
    },
    {
     "data": {
      "text/markdown": [
       "[SH600575 淮河能源](https://xueqiu.com/S/SH600575)"
      ],
      "text/plain": [
       "<IPython.core.display.Markdown object>"
      ]
     },
     "metadata": {},
     "output_type": "display_data"
    },
    {
     "data": {
      "text/markdown": [
       "[SH600272 开开实业](https://xueqiu.com/S/SH600272)"
      ],
      "text/plain": [
       "<IPython.core.display.Markdown object>"
      ]
     },
     "metadata": {},
     "output_type": "display_data"
    },
    {
     "data": {
      "text/markdown": [
       "[SH601607 上海医药](https://xueqiu.com/S/SH601607)"
      ],
      "text/plain": [
       "<IPython.core.display.Markdown object>"
      ]
     },
     "metadata": {},
     "output_type": "display_data"
    },
    {
     "data": {
      "text/markdown": [
       "[SZ000419 通程控股](https://xueqiu.com/S/SZ000419)"
      ],
      "text/plain": [
       "<IPython.core.display.Markdown object>"
      ]
     },
     "metadata": {},
     "output_type": "display_data"
    },
    {
     "data": {
      "text/markdown": [
       "[SZ000925 众合科技](https://xueqiu.com/S/SZ000925)"
      ],
      "text/plain": [
       "<IPython.core.display.Markdown object>"
      ]
     },
     "metadata": {},
     "output_type": "display_data"
    },
    {
     "data": {
      "text/markdown": [
       "[SH600103 青山纸业](https://xueqiu.com/S/SH600103)"
      ],
      "text/plain": [
       "<IPython.core.display.Markdown object>"
      ]
     },
     "metadata": {},
     "output_type": "display_data"
    },
    {
     "data": {
      "text/markdown": [
       "[SZ000869 张裕A](https://xueqiu.com/S/SZ000869)"
      ],
      "text/plain": [
       "<IPython.core.display.Markdown object>"
      ]
     },
     "metadata": {},
     "output_type": "display_data"
    },
    {
     "data": {
      "text/markdown": [
       "[SZ000729 燕京啤酒](https://xueqiu.com/S/SZ000729)"
      ],
      "text/plain": [
       "<IPython.core.display.Markdown object>"
      ]
     },
     "metadata": {},
     "output_type": "display_data"
    },
    {
     "data": {
      "text/markdown": [
       "[SH600059 古越龙山](https://xueqiu.com/S/SH600059)"
      ],
      "text/plain": [
       "<IPython.core.display.Markdown object>"
      ]
     },
     "metadata": {},
     "output_type": "display_data"
    },
    {
     "data": {
      "text/markdown": [
       "[SZ000929 兰州黄河](https://xueqiu.com/S/SZ000929)"
      ],
      "text/plain": [
       "<IPython.core.display.Markdown object>"
      ]
     },
     "metadata": {},
     "output_type": "display_data"
    },
    {
     "data": {
      "text/markdown": [
       "[SH600616 金枫酒业](https://xueqiu.com/S/SH600616)"
      ],
      "text/plain": [
       "<IPython.core.display.Markdown object>"
      ]
     },
     "metadata": {},
     "output_type": "display_data"
    },
    {
     "data": {
      "text/markdown": [
       "[SH600543 莫高股份](https://xueqiu.com/S/SH600543)"
      ],
      "text/plain": [
       "<IPython.core.display.Markdown object>"
      ]
     },
     "metadata": {},
     "output_type": "display_data"
    },
    {
     "data": {
      "text/markdown": [
       "[SH600197 伊力特](https://xueqiu.com/S/SH600197)"
      ],
      "text/plain": [
       "<IPython.core.display.Markdown object>"
      ]
     },
     "metadata": {},
     "output_type": "display_data"
    },
    {
     "data": {
      "text/markdown": [
       "[SZ300171 东富龙](https://xueqiu.com/S/SZ300171)"
      ],
      "text/plain": [
       "<IPython.core.display.Markdown object>"
      ]
     },
     "metadata": {},
     "output_type": "display_data"
    },
    {
     "data": {
      "text/markdown": [
       "[SZ002932 明德生物](https://xueqiu.com/S/SZ002932)"
      ],
      "text/plain": [
       "<IPython.core.display.Markdown object>"
      ]
     },
     "metadata": {},
     "output_type": "display_data"
    },
    {
     "data": {
      "text/markdown": [
       "[SH600016 民生银行](https://xueqiu.com/S/SH600016)"
      ],
      "text/plain": [
       "<IPython.core.display.Markdown object>"
      ]
     },
     "metadata": {},
     "output_type": "display_data"
    },
    {
     "data": {
      "text/markdown": [
       "[SH600895 张江高科](https://xueqiu.com/S/SH600895)"
      ],
      "text/plain": [
       "<IPython.core.display.Markdown object>"
      ]
     },
     "metadata": {},
     "output_type": "display_data"
    },
    {
     "data": {
      "text/markdown": [
       "[SH600064 南京高科](https://xueqiu.com/S/SH600064)"
      ],
      "text/plain": [
       "<IPython.core.display.Markdown object>"
      ]
     },
     "metadata": {},
     "output_type": "display_data"
    },
    {
     "data": {
      "text/markdown": [
       "[SZ000790 泰合健康](https://xueqiu.com/S/SZ000790)"
      ],
      "text/plain": [
       "<IPython.core.display.Markdown object>"
      ]
     },
     "metadata": {},
     "output_type": "display_data"
    },
    {
     "data": {
      "text/markdown": [
       "[SH603139 康惠制药](https://xueqiu.com/S/SH603139)"
      ],
      "text/plain": [
       "<IPython.core.display.Markdown object>"
      ]
     },
     "metadata": {},
     "output_type": "display_data"
    },
    {
     "data": {
      "text/markdown": [
       "[SH600479 千金药业](https://xueqiu.com/S/SH600479)"
      ],
      "text/plain": [
       "<IPython.core.display.Markdown object>"
      ]
     },
     "metadata": {},
     "output_type": "display_data"
    },
    {
     "data": {
      "text/markdown": [
       "[SH600535 天士力](https://xueqiu.com/S/SH600535)"
      ],
      "text/plain": [
       "<IPython.core.display.Markdown object>"
      ]
     },
     "metadata": {},
     "output_type": "display_data"
    },
    {
     "data": {
      "text/markdown": [
       "[SZ002349 精华制药](https://xueqiu.com/S/SZ002349)"
      ],
      "text/plain": [
       "<IPython.core.display.Markdown object>"
      ]
     },
     "metadata": {},
     "output_type": "display_data"
    },
    {
     "data": {
      "text/markdown": [
       "[SH600222 太龙药业](https://xueqiu.com/S/SH600222)"
      ],
      "text/plain": [
       "<IPython.core.display.Markdown object>"
      ]
     },
     "metadata": {},
     "output_type": "display_data"
    },
    {
     "data": {
      "text/markdown": [
       "[SZ002424 贵州百灵](https://xueqiu.com/S/SZ002424)"
      ],
      "text/plain": [
       "<IPython.core.display.Markdown object>"
      ]
     },
     "metadata": {},
     "output_type": "display_data"
    },
    {
     "data": {
      "text/markdown": [
       "[SZ300621 维业股份](https://xueqiu.com/S/SZ300621)"
      ],
      "text/plain": [
       "<IPython.core.display.Markdown object>"
      ]
     },
     "metadata": {},
     "output_type": "display_data"
    },
    {
     "data": {
      "text/markdown": [
       "[SZ002325 洪涛股份](https://xueqiu.com/S/SZ002325)"
      ],
      "text/plain": [
       "<IPython.core.display.Markdown object>"
      ]
     },
     "metadata": {},
     "output_type": "display_data"
    },
    {
     "data": {
      "text/markdown": [
       "[SZ002620 瑞和股份](https://xueqiu.com/S/SZ002620)"
      ],
      "text/plain": [
       "<IPython.core.display.Markdown object>"
      ]
     },
     "metadata": {},
     "output_type": "display_data"
    },
    {
     "data": {
      "text/markdown": [
       "[SZ002755 奥赛康](https://xueqiu.com/S/SZ002755)"
      ],
      "text/plain": [
       "<IPython.core.display.Markdown object>"
      ]
     },
     "metadata": {},
     "output_type": "display_data"
    },
    {
     "data": {
      "text/markdown": [
       "[SH600603 广汇物流](https://xueqiu.com/S/SH600603)"
      ],
      "text/plain": [
       "<IPython.core.display.Markdown object>"
      ]
     },
     "metadata": {},
     "output_type": "display_data"
    },
    {
     "data": {
      "text/markdown": [
       "[SH600811 东方集团](https://xueqiu.com/S/SH600811)"
      ],
      "text/plain": [
       "<IPython.core.display.Markdown object>"
      ]
     },
     "metadata": {},
     "output_type": "display_data"
    },
    {
     "data": {
      "text/markdown": [
       "[SH000001 上证指数](https://xueqiu.com/S/SH000001)"
      ],
      "text/plain": [
       "<IPython.core.display.Markdown object>"
      ]
     },
     "metadata": {},
     "output_type": "display_data"
    },
    {
     "data": {
      "text/markdown": [
       "[SZ002963 豪尔赛](https://xueqiu.com/S/SZ002963)"
      ],
      "text/plain": [
       "<IPython.core.display.Markdown object>"
      ]
     },
     "metadata": {},
     "output_type": "display_data"
    },
    {
     "data": {
      "text/markdown": [
       "## 通道下 154"
      ],
      "text/plain": [
       "<IPython.core.display.Markdown object>"
      ]
     },
     "metadata": {},
     "output_type": "display_data"
    },
    {
     "data": {
      "text/markdown": [
       "[SZ000812 陕西金叶](https://xueqiu.com/S/SZ000812)"
      ],
      "text/plain": [
       "<IPython.core.display.Markdown object>"
      ]
     },
     "metadata": {},
     "output_type": "display_data"
    },
    {
     "data": {
      "text/markdown": [
       "[SZ002179 中航光电](https://xueqiu.com/S/SZ002179)"
      ],
      "text/plain": [
       "<IPython.core.display.Markdown object>"
      ]
     },
     "metadata": {},
     "output_type": "display_data"
    },
    {
     "data": {
      "text/markdown": [
       "[SH600483 福能股份](https://xueqiu.com/S/SH600483)"
      ],
      "text/plain": [
       "<IPython.core.display.Markdown object>"
      ]
     },
     "metadata": {},
     "output_type": "display_data"
    },
    {
     "data": {
      "text/markdown": [
       "[SZ000722 湖南发展](https://xueqiu.com/S/SZ000722)"
      ],
      "text/plain": [
       "<IPython.core.display.Markdown object>"
      ]
     },
     "metadata": {},
     "output_type": "display_data"
    },
    {
     "data": {
      "text/markdown": [
       "[SH600644 乐山电力](https://xueqiu.com/S/SH600644)"
      ],
      "text/plain": [
       "<IPython.core.display.Markdown object>"
      ]
     },
     "metadata": {},
     "output_type": "display_data"
    },
    {
     "data": {
      "text/markdown": [
       "[SH600107 美尔雅](https://xueqiu.com/S/SH600107)"
      ],
      "text/plain": [
       "<IPython.core.display.Markdown object>"
      ]
     },
     "metadata": {},
     "output_type": "display_data"
    },
    {
     "data": {
      "text/markdown": [
       "[SZ300111 向日葵](https://xueqiu.com/S/SZ300111)"
      ],
      "text/plain": [
       "<IPython.core.display.Markdown object>"
      ]
     },
     "metadata": {},
     "output_type": "display_data"
    },
    {
     "data": {
      "text/markdown": [
       "[SZ000691 亚太实业](https://xueqiu.com/S/SZ000691)"
      ],
      "text/plain": [
       "<IPython.core.display.Markdown object>"
      ]
     },
     "metadata": {},
     "output_type": "display_data"
    },
    {
     "data": {
      "text/markdown": [
       "[SH600307 酒钢宏兴](https://xueqiu.com/S/SH600307)"
      ],
      "text/plain": [
       "<IPython.core.display.Markdown object>"
      ]
     },
     "metadata": {},
     "output_type": "display_data"
    },
    {
     "data": {
      "text/markdown": [
       "[SZ000402 金融街](https://xueqiu.com/S/SZ000402)"
      ],
      "text/plain": [
       "<IPython.core.display.Markdown object>"
      ]
     },
     "metadata": {},
     "output_type": "display_data"
    },
    {
     "data": {
      "text/markdown": [
       "[SH600606 绿地控股](https://xueqiu.com/S/SH600606)"
      ],
      "text/plain": [
       "<IPython.core.display.Markdown object>"
      ]
     },
     "metadata": {},
     "output_type": "display_data"
    },
    {
     "data": {
      "text/markdown": [
       "[SZ002244 滨江集团](https://xueqiu.com/S/SZ002244)"
      ],
      "text/plain": [
       "<IPython.core.display.Markdown object>"
      ]
     },
     "metadata": {},
     "output_type": "display_data"
    },
    {
     "data": {
      "text/markdown": [
       "[SZ300265 通光线缆](https://xueqiu.com/S/SZ300265)"
      ],
      "text/plain": [
       "<IPython.core.display.Markdown object>"
      ]
     },
     "metadata": {},
     "output_type": "display_data"
    },
    {
     "data": {
      "text/markdown": [
       "[SH603618 杭电股份](https://xueqiu.com/S/SH603618)"
      ],
      "text/plain": [
       "<IPython.core.display.Markdown object>"
      ]
     },
     "metadata": {},
     "output_type": "display_data"
    },
    {
     "data": {
      "text/markdown": [
       "[SH603077 和邦生物](https://xueqiu.com/S/SH603077)"
      ],
      "text/plain": [
       "<IPython.core.display.Markdown object>"
      ]
     },
     "metadata": {},
     "output_type": "display_data"
    },
    {
     "data": {
      "text/markdown": [
       "[SZ300705 九典制药](https://xueqiu.com/S/SZ300705)"
      ],
      "text/plain": [
       "<IPython.core.display.Markdown object>"
      ]
     },
     "metadata": {},
     "output_type": "display_data"
    },
    {
     "data": {
      "text/markdown": [
       "[SH600062 华润双鹤](https://xueqiu.com/S/SH600062)"
      ],
      "text/plain": [
       "<IPython.core.display.Markdown object>"
      ]
     },
     "metadata": {},
     "output_type": "display_data"
    },
    {
     "data": {
      "text/markdown": [
       "[SH600664 哈药股份](https://xueqiu.com/S/SH600664)"
      ],
      "text/plain": [
       "<IPython.core.display.Markdown object>"
      ]
     },
     "metadata": {},
     "output_type": "display_data"
    },
    {
     "data": {
      "text/markdown": [
       "[SZ300299 富春股份](https://xueqiu.com/S/SZ300299)"
      ],
      "text/plain": [
       "<IPython.core.display.Markdown object>"
      ]
     },
     "metadata": {},
     "output_type": "display_data"
    },
    {
     "data": {
      "text/markdown": [
       "[SZ002348 高乐股份](https://xueqiu.com/S/SZ002348)"
      ],
      "text/plain": [
       "<IPython.core.display.Markdown object>"
      ]
     },
     "metadata": {},
     "output_type": "display_data"
    },
    {
     "data": {
      "text/markdown": [
       "[SZ000978 桂林旅游](https://xueqiu.com/S/SZ000978)"
      ],
      "text/plain": [
       "<IPython.core.display.Markdown object>"
      ]
     },
     "metadata": {},
     "output_type": "display_data"
    },
    {
     "data": {
      "text/markdown": [
       "[SH600250 南纺股份](https://xueqiu.com/S/SH600250)"
      ],
      "text/plain": [
       "<IPython.core.display.Markdown object>"
      ]
     },
     "metadata": {},
     "output_type": "display_data"
    },
    {
     "data": {
      "text/markdown": [
       "[SZ000606 顺利办](https://xueqiu.com/S/SZ000606)"
      ],
      "text/plain": [
       "<IPython.core.display.Markdown object>"
      ]
     },
     "metadata": {},
     "output_type": "display_data"
    },
    {
     "data": {
      "text/markdown": [
       "[SZ300074 华平股份](https://xueqiu.com/S/SZ300074)"
      ],
      "text/plain": [
       "<IPython.core.display.Markdown object>"
      ]
     },
     "metadata": {},
     "output_type": "display_data"
    },
    {
     "data": {
      "text/markdown": [
       "[SH600751 海航科技](https://xueqiu.com/S/SH600751)"
      ],
      "text/plain": [
       "<IPython.core.display.Markdown object>"
      ]
     },
     "metadata": {},
     "output_type": "display_data"
    },
    {
     "data": {
      "text/markdown": [
       "[SH603106 恒银金融](https://xueqiu.com/S/SH603106)"
      ],
      "text/plain": [
       "<IPython.core.display.Markdown object>"
      ]
     },
     "metadata": {},
     "output_type": "display_data"
    },
    {
     "data": {
      "text/markdown": [
       "[SH600800 天津磁卡](https://xueqiu.com/S/SH600800)"
      ],
      "text/plain": [
       "<IPython.core.display.Markdown object>"
      ]
     },
     "metadata": {},
     "output_type": "display_data"
    },
    {
     "data": {
      "text/markdown": [
       "[SH600873 梅花生物](https://xueqiu.com/S/SH600873)"
      ],
      "text/plain": [
       "<IPython.core.display.Markdown object>"
      ]
     },
     "metadata": {},
     "output_type": "display_data"
    },
    {
     "data": {
      "text/markdown": [
       "[SZ002221 东华能源](https://xueqiu.com/S/SZ002221)"
      ],
      "text/plain": [
       "<IPython.core.display.Markdown object>"
      ]
     },
     "metadata": {},
     "output_type": "display_data"
    },
    {
     "data": {
      "text/markdown": [
       "[SH600839 四川长虹](https://xueqiu.com/S/SH600839)"
      ],
      "text/plain": [
       "<IPython.core.display.Markdown object>"
      ]
     },
     "metadata": {},
     "output_type": "display_data"
    },
    {
     "data": {
      "text/markdown": [
       "[SH600866 星湖科技](https://xueqiu.com/S/SH600866)"
      ],
      "text/plain": [
       "<IPython.core.display.Markdown object>"
      ]
     },
     "metadata": {},
     "output_type": "display_data"
    },
    {
     "data": {
      "text/markdown": [
       "[SH603043 广州酒家](https://xueqiu.com/S/SH603043)"
      ],
      "text/plain": [
       "<IPython.core.display.Markdown object>"
      ]
     },
     "metadata": {},
     "output_type": "display_data"
    },
    {
     "data": {
      "text/markdown": [
       "[SZ300294 博雅生物](https://xueqiu.com/S/SZ300294)"
      ],
      "text/plain": [
       "<IPython.core.display.Markdown object>"
      ]
     },
     "metadata": {},
     "output_type": "display_data"
    },
    {
     "data": {
      "text/markdown": [
       "[SH600881 亚泰集团](https://xueqiu.com/S/SH600881)"
      ],
      "text/plain": [
       "<IPython.core.display.Markdown object>"
      ]
     },
     "metadata": {},
     "output_type": "display_data"
    },
    {
     "data": {
      "text/markdown": [
       "[SZ000557 西部创业](https://xueqiu.com/S/SZ000557)"
      ],
      "text/plain": [
       "<IPython.core.display.Markdown object>"
      ]
     },
     "metadata": {},
     "output_type": "display_data"
    },
    {
     "data": {
      "text/markdown": [
       "[SZ300161 华中数控](https://xueqiu.com/S/SZ300161)"
      ],
      "text/plain": [
       "<IPython.core.display.Markdown object>"
      ]
     },
     "metadata": {},
     "output_type": "display_data"
    },
    {
     "data": {
      "text/markdown": [
       "[SH600345 长江通信](https://xueqiu.com/S/SH600345)"
      ],
      "text/plain": [
       "<IPython.core.display.Markdown object>"
      ]
     },
     "metadata": {},
     "output_type": "display_data"
    },
    {
     "data": {
      "text/markdown": [
       "[SZ300563 神宇股份](https://xueqiu.com/S/SZ300563)"
      ],
      "text/plain": [
       "<IPython.core.display.Markdown object>"
      ]
     },
     "metadata": {},
     "output_type": "display_data"
    },
    {
     "data": {
      "text/markdown": [
       "[SH600775 南京熊猫](https://xueqiu.com/S/SH600775)"
      ],
      "text/plain": [
       "<IPython.core.display.Markdown object>"
      ]
     },
     "metadata": {},
     "output_type": "display_data"
    },
    {
     "data": {
      "text/markdown": [
       "[SZ000687 华讯方舟](https://xueqiu.com/S/SZ000687)"
      ],
      "text/plain": [
       "<IPython.core.display.Markdown object>"
      ]
     },
     "metadata": {},
     "output_type": "display_data"
    },
    {
     "data": {
      "text/markdown": [
       "[SH603559 中通国脉](https://xueqiu.com/S/SH603559)"
      ],
      "text/plain": [
       "<IPython.core.display.Markdown object>"
      ]
     },
     "metadata": {},
     "output_type": "display_data"
    },
    {
     "data": {
      "text/markdown": [
       "[SH600355 精伦电子](https://xueqiu.com/S/SH600355)"
      ],
      "text/plain": [
       "<IPython.core.display.Markdown object>"
      ]
     },
     "metadata": {},
     "output_type": "display_data"
    },
    {
     "data": {
      "text/markdown": [
       "[SZ000586 汇源通信](https://xueqiu.com/S/SZ000586)"
      ],
      "text/plain": [
       "<IPython.core.display.Markdown object>"
      ]
     },
     "metadata": {},
     "output_type": "display_data"
    },
    {
     "data": {
      "text/markdown": [
       "[SH601369 陕鼓动力](https://xueqiu.com/S/SH601369)"
      ],
      "text/plain": [
       "<IPython.core.display.Markdown object>"
      ]
     },
     "metadata": {},
     "output_type": "display_data"
    },
    {
     "data": {
      "text/markdown": [
       "[SH600257 大湖股份](https://xueqiu.com/S/SH600257)"
      ],
      "text/plain": [
       "<IPython.core.display.Markdown object>"
      ]
     },
     "metadata": {},
     "output_type": "display_data"
    },
    {
     "data": {
      "text/markdown": [
       "[SZ000701 厦门信达](https://xueqiu.com/S/SZ000701)"
      ],
      "text/plain": [
       "<IPython.core.display.Markdown object>"
      ]
     },
     "metadata": {},
     "output_type": "display_data"
    },
    {
     "data": {
      "text/markdown": [
       "[SH600828 茂业商业](https://xueqiu.com/S/SH600828)"
      ],
      "text/plain": [
       "<IPython.core.display.Markdown object>"
      ]
     },
     "metadata": {},
     "output_type": "display_data"
    },
    {
     "data": {
      "text/markdown": [
       "[SZ000560 我爱我家](https://xueqiu.com/S/SZ000560)"
      ],
      "text/plain": [
       "<IPython.core.display.Markdown object>"
      ]
     },
     "metadata": {},
     "output_type": "display_data"
    },
    {
     "data": {
      "text/markdown": [
       "[SH600573 惠泉啤酒](https://xueqiu.com/S/SH600573)"
      ],
      "text/plain": [
       "<IPython.core.display.Markdown object>"
      ]
     },
     "metadata": {},
     "output_type": "display_data"
    },
    {
     "data": {
      "text/markdown": [
       "[SH600365 通葡股份](https://xueqiu.com/S/SH600365)"
      ],
      "text/plain": [
       "<IPython.core.display.Markdown object>"
      ]
     },
     "metadata": {},
     "output_type": "display_data"
    },
    {
     "data": {
      "text/markdown": [
       "[SZ300439 美康生物](https://xueqiu.com/S/SZ300439)"
      ],
      "text/plain": [
       "<IPython.core.display.Markdown object>"
      ]
     },
     "metadata": {},
     "output_type": "display_data"
    },
    {
     "data": {
      "text/markdown": [
       "[SH601229 上海银行](https://xueqiu.com/S/SH601229)"
      ],
      "text/plain": [
       "<IPython.core.display.Markdown object>"
      ]
     },
     "metadata": {},
     "output_type": "display_data"
    },
    {
     "data": {
      "text/markdown": [
       "[SZ002936 郑州银行](https://xueqiu.com/S/SZ002936)"
      ],
      "text/plain": [
       "<IPython.core.display.Markdown object>"
      ]
     },
     "metadata": {},
     "output_type": "display_data"
    },
    {
     "data": {
      "text/markdown": [
       "[SH600919 江苏银行](https://xueqiu.com/S/SH600919)"
      ],
      "text/plain": [
       "<IPython.core.display.Markdown object>"
      ]
     },
     "metadata": {},
     "output_type": "display_data"
    },
    {
     "data": {
      "text/markdown": [
       "[SH601939 建设银行](https://xueqiu.com/S/SH601939)"
      ],
      "text/plain": [
       "<IPython.core.display.Markdown object>"
      ]
     },
     "metadata": {},
     "output_type": "display_data"
    },
    {
     "data": {
      "text/markdown": [
       "[SH600036 招商银行](https://xueqiu.com/S/SH600036)"
      ],
      "text/plain": [
       "<IPython.core.display.Markdown object>"
      ]
     },
     "metadata": {},
     "output_type": "display_data"
    },
    {
     "data": {
      "text/markdown": [
       "[SZ002142 宁波银行](https://xueqiu.com/S/SZ002142)"
      ],
      "text/plain": [
       "<IPython.core.display.Markdown object>"
      ]
     },
     "metadata": {},
     "output_type": "display_data"
    },
    {
     "data": {
      "text/markdown": [
       "[SH601997 贵阳银行](https://xueqiu.com/S/SH601997)"
      ],
      "text/plain": [
       "<IPython.core.display.Markdown object>"
      ]
     },
     "metadata": {},
     "output_type": "display_data"
    },
    {
     "data": {
      "text/markdown": [
       "[SZ000166 申万宏源](https://xueqiu.com/S/SZ000166)"
      ],
      "text/plain": [
       "<IPython.core.display.Markdown object>"
      ]
     },
     "metadata": {},
     "output_type": "display_data"
    },
    {
     "data": {
      "text/markdown": [
       "[SZ002797 第一创业](https://xueqiu.com/S/SZ002797)"
      ],
      "text/plain": [
       "<IPython.core.display.Markdown object>"
      ]
     },
     "metadata": {},
     "output_type": "display_data"
    },
    {
     "data": {
      "text/markdown": [
       "[SZ002412 汉森制药](https://xueqiu.com/S/SZ002412)"
      ],
      "text/plain": [
       "<IPython.core.display.Markdown object>"
      ]
     },
     "metadata": {},
     "output_type": "display_data"
    },
    {
     "data": {
      "text/markdown": [
       "[SH600572 康恩贝](https://xueqiu.com/S/SH600572)"
      ],
      "text/plain": [
       "<IPython.core.display.Markdown object>"
      ]
     },
     "metadata": {},
     "output_type": "display_data"
    },
    {
     "data": {
      "text/markdown": [
       "[SZ002198 嘉应制药](https://xueqiu.com/S/SZ002198)"
      ],
      "text/plain": [
       "<IPython.core.display.Markdown object>"
      ]
     },
     "metadata": {},
     "output_type": "display_data"
    },
    {
     "data": {
      "text/markdown": [
       "[SH603656 泰禾光电](https://xueqiu.com/S/SH603656)"
      ],
      "text/plain": [
       "<IPython.core.display.Markdown object>"
      ]
     },
     "metadata": {},
     "output_type": "display_data"
    },
    {
     "data": {
      "text/markdown": [
       "[SH600382 广东明珠](https://xueqiu.com/S/SH600382)"
      ],
      "text/plain": [
       "<IPython.core.display.Markdown object>"
      ]
     },
     "metadata": {},
     "output_type": "display_data"
    },
    {
     "data": {
      "text/markdown": [
       "[SZ300549 优德精密](https://xueqiu.com/S/SZ300549)"
      ],
      "text/plain": [
       "<IPython.core.display.Markdown object>"
      ]
     },
     "metadata": {},
     "output_type": "display_data"
    }
   ],
   "source": [
    "showSelectCompany(bol)"
   ]
  },
  {
   "cell_type": "code",
   "execution_count": null,
   "metadata": {},
   "outputs": [],
   "source": []
  }
 ],
 "metadata": {
  "kernelspec": {
   "display_name": "Python 3",
   "language": "python",
   "name": "python3"
  },
  "language_info": {
   "codemirror_mode": {
    "name": "ipython",
    "version": 3
   },
   "file_extension": ".py",
   "mimetype": "text/x-python",
   "name": "python",
   "nbconvert_exporter": "python",
   "pygments_lexer": "ipython3",
   "version": "3.7.4"
  }
 },
 "nbformat": 4,
 "nbformat_minor": 4
}
