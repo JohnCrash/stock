{
 "cells": [
  {
   "cell_type": "code",
   "execution_count": 1,
   "metadata": {
    "jupyter": {
     "source_hidden": true
    }
   },
   "outputs": [],
   "source": [
    "import MySQLdb\n",
    "import torch\n",
    "import numpy as np\n",
    "import matplotlib.pyplot as plt\n",
    "import stock\n",
    "import re\n",
    "from IPython.display import display, Markdown\n",
    "import xueqiu\n",
    "import time"
   ]
  },
  {
   "cell_type": "code",
   "execution_count": 2,
   "metadata": {
    "jupyter": {
     "source_hidden": true
    }
   },
   "outputs": [],
   "source": [
    "#1. 忽略掉不想要的类型\n",
    "#2. 忽略掉在一年内有连续跌停的\n",
    "#3. 忽略掉ST\n",
    "#符合条件的filter返回True\n",
    "keywords = [r\".*证券.*\",r\".*银行.*\",r\".*芯片.*\",r\".*半导体.*\",r\".*集成电路.*\",r\".*互联网.*\",\n",
    "            r\".*制药.*\",r\".*固废.*\",r\".*通信.*\",r\".*光电.*\",r\".*酒.*\"]\n",
    "def descFilter(c):\n",
    "    for pat in keywords:\n",
    "        if re.match(pat,c[3]) is not None:\n",
    "            return True\n",
    "    return False\n",
    "def IgnoreCompany(filter=descFilter):\n",
    "    db = MySQLdb.connect(\"localhost\", \"root\", \"789\", \"stock\", charset='utf8',port=3307 )\n",
    "    cursor = db.cursor()\n",
    "    try:\n",
    "        cursor.execute(\"\"\"update company set `ignore`=1\"\"\")\n",
    "        db.commit()\n",
    "    except Exception as e:\n",
    "        print(e)\n",
    "        db.rollback()\n",
    "        \n",
    "    db.query(\"\"\"select * from descript where name not like '%ST%' and name not like '%B%'\"\"\")\n",
    "    r = db.store_result()\n",
    "    companys = r.fetch_row(r.num_rows())\n",
    "    for c in companys:\n",
    "        if filter(c):\n",
    "            try:\n",
    "                cursor.execute(\"\"\"update company set `ignore`=0 where code='%s'\"\"\"%(c[2]))\n",
    "                db.commit()\n",
    "            except Exception as e:\n",
    "                print(e)\n",
    "                db.rollback()\n",
    "    try:\n",
    "        cursor.execute(\"\"\"select count(*) from company where `ignore`=0\"\"\")\n",
    "        db.commit()\n",
    "    except Exception as e:\n",
    "        print(e)\n",
    "        db.rollback()\n",
    "    result = cursor.fetchone()\n",
    "    db.close()\n",
    "    print(result)\n",
    "    \n",
    "def loadCompany():\n",
    "    db = MySQLdb.connect(\"localhost\", \"root\", \"789\", \"stock\", charset='utf8',port=3307 )\n",
    "    db.query(\"\"\"select * from company where `ignore`=0\"\"\")\n",
    "    r = db.store_result()\n",
    "    companys = r.fetch_row(r.num_rows())\n",
    "    db.close()\n",
    "    return companys\n",
    "\n",
    "def loadKline(code,n=120):\n",
    "    db = MySQLdb.connect(\"localhost\", \"root\", \"789\", \"stock\", charset='utf8',port=3307 )\n",
    "    db.query(\"\"\"select * from company where code='%s'\"\"\"%code)\n",
    "    r = db.store_result()\n",
    "    company = r.fetch_row()\n",
    "    db.query(\"\"\"select volume,open,high,low,close,macd from kd_xueqiu where id=%s order by date desc limit %d\"\"\"%(company[0][0],n))\n",
    "    r = db.store_result()\n",
    "    k = r.fetch_row(r.num_rows())\n",
    "    db.query(\"\"\"select date from kd_xueqiu where id=%s order by date desc limit %d\"\"\"%(company[0][0],n))\n",
    "    r = db.store_result()\n",
    "    kdate = r.fetch_row(r.num_rows())\n",
    "    db.close()\n",
    "    kline = np.array(k).reshape(-1,6)\n",
    "    return company,np.flip(kline),np.flip(kdate)"
   ]
  },
  {
   "cell_type": "markdown",
   "metadata": {},
   "source": [
    "# 使用boll 极限宽带小于0.1来选择股票"
   ]
  },
  {
   "cell_type": "code",
   "execution_count": 12,
   "metadata": {
    "jupyter": {
     "source_hidden": true
    }
   },
   "outputs": [],
   "source": [
    "def bollWidth(k):\n",
    "    bo20 = stock.bollLineK(k,20)\n",
    "    lw = (bo20[:,2]-bo20[:,0])/bo20[:,1]\n",
    "    lwmax = 0\n",
    "    lwmin = 10\n",
    "    #boll极限宽小于0.1\n",
    "    for i in range(len(lw)-10,len(lw)-1):\n",
    "        if lw[i] > lwmax:\n",
    "            lwmax = lw[i]\n",
    "        if lw[i] < lwmin:\n",
    "            lwmin = lw[i]\n",
    "    #返回最小的极限宽带和最大的极限宽带\n",
    "    return lwmin,lwmax,lw[-1],k[-1,4]-k[-2,4],k[-1,4]-bo20[-1,1]\n",
    "\n",
    "def storeSelectCompany(blist):\n",
    "    db = MySQLdb.connect(\"localhost\", \"root\", \"789\", \"stock\", charset='utf8',port=3307 )\n",
    "    cursor = db.cursor()\n",
    "    try:\n",
    "        cursor.execute(\"\"\"delete from company_select2 where source=1\"\"\")\n",
    "        db.commit()\n",
    "    except Exception as e:\n",
    "        print(e)\n",
    "        db.rollback()\n",
    "    for c in blist:\n",
    "        try:\n",
    "            cursor.execute(\"\"\"insert ignore into company_select2 values ('%s','%s',1)\"\"\"%(c[0],c[1]))\n",
    "            db.commit()\n",
    "        except Exception as e:\n",
    "            print(e)\n",
    "            db.rollback()        \n",
    "    db.close()\n",
    "    \n",
    "def ouputSelectCompany(str,blist,i=-1):\n",
    "    display(Markdown(\"\"\"## %s %d\"\"\"%(str,len(blist))))\n",
    "    for b in blist:\n",
    "        if i==-1 or b[2]==i:\n",
    "            display(Markdown(\"\"\"[%s %s](https://xueqiu.com/S/%s)\"\"\"%(b[0],b[1],b[0])))\n",
    "def showSelectCompany(blist):\n",
    "    ouputSelectCompany('打开向上',blist,0)\n",
    "    ouputSelectCompany('打开向下',blist,1)\n",
    "    ouputSelectCompany('通道上',blist,2)\n",
    "    ouputSelectCompany('通道下',blist,3)\n",
    "    \n",
    "def selectList():\n",
    "    companys = loadCompany()\n",
    "    result = []\n",
    "    for com in companys:\n",
    "        c,kline,kdate = loadKline(com[1])\n",
    "        lwmin,lwmax,lwlast,delta,cm20 = bollWidth(kline)\n",
    "        if lwmax < 0.1 and lwmax/lwmin < 1.5:\n",
    "            if lwlast > lwmax and lwlast/lwmax>1.1:\n",
    "                if delta>0:\n",
    "                    result.append([com[1],com[2],0])\n",
    "                else:\n",
    "                    result.append([com[1],com[2],1])\n",
    "            else:\n",
    "                if cm20 > 0:\n",
    "                    result.append([com[1],com[2],2])\n",
    "                else:\n",
    "                    result.append([com[1],com[2],3])\n",
    "    return result"
   ]
  },
  {
   "cell_type": "code",
   "execution_count": 13,
   "metadata": {
    "jupyter": {
     "source_hidden": true
    }
   },
   "outputs": [],
   "source": [
    "#对当前列表中的进行即使跟踪\n",
    "#返回当前成交量和昨天的比较\n",
    "def watch15(code):\n",
    "    b,json = xueqiu.xueqiuK15(code)\n",
    "    today_price = 0\n",
    "    yesterday_price = 0\n",
    "    today_volume = 0\n",
    "    yesterday_volume = 0\n",
    "    if b :\n",
    "        days = set()\n",
    "        items = json['data']['item']\n",
    "        c = time.localtime()\n",
    "        mins = []\n",
    "        for i in range(-1,-len(items),-1):\n",
    "            ts = time.localtime(items[i][0]/1000.)\n",
    "            if c.tm_mday == ts.tm_mday:\n",
    "                days.add(ts.tm_mday)\n",
    "                today_volume += items[i][1]\n",
    "                if today_price==0:\n",
    "                    today_price = items[i][5]\n",
    "                mins.append(ts.tm_hour*60+ts.tm_min)\n",
    "            elif ts.tm_hour*60+ts.tm_min in mins:\n",
    "                days.add(ts.tm_mday)\n",
    "                yesterday_volume += items[i][1]\n",
    "                if yesterday_price==0:\n",
    "                    yesterday_price = items[i][5]\n",
    "    else:\n",
    "        print(json)\n",
    "    return today_price,yesterday_price,today_volume,yesterday_volume"
   ]
  },
  {
   "cell_type": "code",
   "execution_count": 14,
   "metadata": {},
   "outputs": [],
   "source": [
    "bol = selectList()"
   ]
  },
  {
   "cell_type": "markdown",
   "metadata": {},
   "source": [
    "# 对在BOLL通道内的进行及时检测"
   ]
  },
  {
   "cell_type": "code",
   "execution_count": 15,
   "metadata": {
    "jupyter": {
     "source_hidden": true
    }
   },
   "outputs": [],
   "source": [
    "def watch15Boll(ls):\n",
    "    bls = []\n",
    "    for c in ls:\n",
    "        tp,yp,tv,yv = watch15(c[0])\n",
    "        if tp!=0 and yp!=0 and tv!=0 and yv!=0:\n",
    "            if tv/yv>1.6:\n",
    "                bls.append([c[0],\"%s %.2f %.2f\"%(c[1],tv/yv,tp/yp),tv/yv])\n",
    "    bls = sorted(bls,key=lambda c:c[2],reverse = True)\n",
    "    ouputSelectCompany('成交量放大',bls)\n",
    "    return bls"
   ]
  },
  {
   "cell_type": "code",
   "execution_count": 20,
   "metadata": {},
   "outputs": [
    {
     "data": {
      "text/markdown": [
       "## 成交量放大 26"
      ],
      "text/plain": [
       "<IPython.core.display.Markdown object>"
      ]
     },
     "metadata": {},
     "output_type": "display_data"
    },
    {
     "data": {
      "text/markdown": [
       "[SZ300334 津膜科技 4.09 0.96](https://xueqiu.com/S/SZ300334)"
      ],
      "text/plain": [
       "<IPython.core.display.Markdown object>"
      ]
     },
     "metadata": {},
     "output_type": "display_data"
    },
    {
     "data": {
      "text/markdown": [
       "[SH600175 美都能源 4.01 1.00](https://xueqiu.com/S/SH600175)"
      ],
      "text/plain": [
       "<IPython.core.display.Markdown object>"
      ]
     },
     "metadata": {},
     "output_type": "display_data"
    },
    {
     "data": {
      "text/markdown": [
       "[SZ300161 华中数控 3.72 0.98](https://xueqiu.com/S/SZ300161)"
      ],
      "text/plain": [
       "<IPython.core.display.Markdown object>"
      ]
     },
     "metadata": {},
     "output_type": "display_data"
    },
    {
     "data": {
      "text/markdown": [
       "[SH601398 工商银行 2.85 0.99](https://xueqiu.com/S/SH601398)"
      ],
      "text/plain": [
       "<IPython.core.display.Markdown object>"
      ]
     },
     "metadata": {},
     "output_type": "display_data"
    },
    {
     "data": {
      "text/markdown": [
       "[SH600694 大商股份 2.79 1.01](https://xueqiu.com/S/SH600694)"
      ],
      "text/plain": [
       "<IPython.core.display.Markdown object>"
      ]
     },
     "metadata": {},
     "output_type": "display_data"
    },
    {
     "data": {
      "text/markdown": [
       "[SZ002198 嘉应制药 2.68 0.97](https://xueqiu.com/S/SZ002198)"
      ],
      "text/plain": [
       "<IPython.core.display.Markdown object>"
      ]
     },
     "metadata": {},
     "output_type": "display_data"
    },
    {
     "data": {
      "text/markdown": [
       "[SZ000948 南天信息 2.60 0.98](https://xueqiu.com/S/SZ000948)"
      ],
      "text/plain": [
       "<IPython.core.display.Markdown object>"
      ]
     },
     "metadata": {},
     "output_type": "display_data"
    },
    {
     "data": {
      "text/markdown": [
       "[SZ300603 立昂技术 2.54 0.99](https://xueqiu.com/S/SZ300603)"
      ],
      "text/plain": [
       "<IPython.core.display.Markdown object>"
      ]
     },
     "metadata": {},
     "output_type": "display_data"
    },
    {
     "data": {
      "text/markdown": [
       "[SZ300635 中达安 2.49 0.98](https://xueqiu.com/S/SZ300635)"
      ],
      "text/plain": [
       "<IPython.core.display.Markdown object>"
      ]
     },
     "metadata": {},
     "output_type": "display_data"
    },
    {
     "data": {
      "text/markdown": [
       "[SH600575 淮河能源 2.37 0.99](https://xueqiu.com/S/SH600575)"
      ],
      "text/plain": [
       "<IPython.core.display.Markdown object>"
      ]
     },
     "metadata": {},
     "output_type": "display_data"
    },
    {
     "data": {
      "text/markdown": [
       "[SZ000606 顺利办 2.32 0.96](https://xueqiu.com/S/SZ000606)"
      ],
      "text/plain": [
       "<IPython.core.display.Markdown object>"
      ]
     },
     "metadata": {},
     "output_type": "display_data"
    },
    {
     "data": {
      "text/markdown": [
       "[SZ300265 通光线缆 2.17 0.99](https://xueqiu.com/S/SZ300265)"
      ],
      "text/plain": [
       "<IPython.core.display.Markdown object>"
      ]
     },
     "metadata": {},
     "output_type": "display_data"
    },
    {
     "data": {
      "text/markdown": [
       "[SH601077 渝农商行 2.16 0.98](https://xueqiu.com/S/SH601077)"
      ],
      "text/plain": [
       "<IPython.core.display.Markdown object>"
      ]
     },
     "metadata": {},
     "output_type": "display_data"
    },
    {
     "data": {
      "text/markdown": [
       "[SZ002424 贵州百灵 2.16 0.99](https://xueqiu.com/S/SZ002424)"
      ],
      "text/plain": [
       "<IPython.core.display.Markdown object>"
      ]
     },
     "metadata": {},
     "output_type": "display_data"
    },
    {
     "data": {
      "text/markdown": [
       "[SH601916 浙商银行 2.13 0.98](https://xueqiu.com/S/SH601916)"
      ],
      "text/plain": [
       "<IPython.core.display.Markdown object>"
      ]
     },
     "metadata": {},
     "output_type": "display_data"
    },
    {
     "data": {
      "text/markdown": [
       "[SZ300539 横河模具 2.05 0.98](https://xueqiu.com/S/SZ300539)"
      ],
      "text/plain": [
       "<IPython.core.display.Markdown object>"
      ]
     },
     "metadata": {},
     "output_type": "display_data"
    },
    {
     "data": {
      "text/markdown": [
       "[SH601939 建设银行 1.98 1.00](https://xueqiu.com/S/SH601939)"
      ],
      "text/plain": [
       "<IPython.core.display.Markdown object>"
      ]
     },
     "metadata": {},
     "output_type": "display_data"
    },
    {
     "data": {
      "text/markdown": [
       "[SZ000598 兴蓉环境 1.95 0.99](https://xueqiu.com/S/SZ000598)"
      ],
      "text/plain": [
       "<IPython.core.display.Markdown object>"
      ]
     },
     "metadata": {},
     "output_type": "display_data"
    },
    {
     "data": {
      "text/markdown": [
       "[SH600483 福能股份 1.86 1.01](https://xueqiu.com/S/SH600483)"
      ],
      "text/plain": [
       "<IPython.core.display.Markdown object>"
      ]
     },
     "metadata": {},
     "output_type": "display_data"
    },
    {
     "data": {
      "text/markdown": [
       "[SZ002093 国脉科技 1.84 0.97](https://xueqiu.com/S/SZ002093)"
      ],
      "text/plain": [
       "<IPython.core.display.Markdown object>"
      ]
     },
     "metadata": {},
     "output_type": "display_data"
    },
    {
     "data": {
      "text/markdown": [
       "[SZ000516 国际医学 1.83 1.01](https://xueqiu.com/S/SZ000516)"
      ],
      "text/plain": [
       "<IPython.core.display.Markdown object>"
      ]
     },
     "metadata": {},
     "output_type": "display_data"
    },
    {
     "data": {
      "text/markdown": [
       "[SZ300171 东富龙 1.80 0.97](https://xueqiu.com/S/SZ300171)"
      ],
      "text/plain": [
       "<IPython.core.display.Markdown object>"
      ]
     },
     "metadata": {},
     "output_type": "display_data"
    },
    {
     "data": {
      "text/markdown": [
       "[SH601200 上海环境 1.77 0.99](https://xueqiu.com/S/SH601200)"
      ],
      "text/plain": [
       "<IPython.core.display.Markdown object>"
      ]
     },
     "metadata": {},
     "output_type": "display_data"
    },
    {
     "data": {
      "text/markdown": [
       "[SH601607 上海医药 1.73 0.99](https://xueqiu.com/S/SH601607)"
      ],
      "text/plain": [
       "<IPython.core.display.Markdown object>"
      ]
     },
     "metadata": {},
     "output_type": "display_data"
    },
    {
     "data": {
      "text/markdown": [
       "[SZ000756 新华制药 1.73 1.00](https://xueqiu.com/S/SZ000756)"
      ],
      "text/plain": [
       "<IPython.core.display.Markdown object>"
      ]
     },
     "metadata": {},
     "output_type": "display_data"
    },
    {
     "data": {
      "text/markdown": [
       "[SZ300599 雄塑科技 1.62 0.99](https://xueqiu.com/S/SZ300599)"
      ],
      "text/plain": [
       "<IPython.core.display.Markdown object>"
      ]
     },
     "metadata": {},
     "output_type": "display_data"
    }
   ],
   "source": [
    "bls = watch15Boll(bol)"
   ]
  },
  {
   "cell_type": "code",
   "execution_count": 19,
   "metadata": {},
   "outputs": [
    {
     "data": {
      "text/markdown": [
       "## 打开向上 76"
      ],
      "text/plain": [
       "<IPython.core.display.Markdown object>"
      ]
     },
     "metadata": {},
     "output_type": "display_data"
    },
    {
     "data": {
      "text/markdown": [
       "[SH603222 济民制药](https://xueqiu.com/S/SH603222)"
      ],
      "text/plain": [
       "<IPython.core.display.Markdown object>"
      ]
     },
     "metadata": {},
     "output_type": "display_data"
    },
    {
     "data": {
      "text/markdown": [
       "[SZ002230 科大讯飞](https://xueqiu.com/S/SZ002230)"
      ],
      "text/plain": [
       "<IPython.core.display.Markdown object>"
      ]
     },
     "metadata": {},
     "output_type": "display_data"
    },
    {
     "data": {
      "text/markdown": [
       "## 打开向下 76"
      ],
      "text/plain": [
       "<IPython.core.display.Markdown object>"
      ]
     },
     "metadata": {},
     "output_type": "display_data"
    },
    {
     "data": {
      "text/markdown": [
       "## 通道上 76"
      ],
      "text/plain": [
       "<IPython.core.display.Markdown object>"
      ]
     },
     "metadata": {},
     "output_type": "display_data"
    },
    {
     "data": {
      "text/markdown": [
       "[SZ300048 合康新能](https://xueqiu.com/S/SZ300048)"
      ],
      "text/plain": [
       "<IPython.core.display.Markdown object>"
      ]
     },
     "metadata": {},
     "output_type": "display_data"
    },
    {
     "data": {
      "text/markdown": [
       "[SZ002218 拓日新能](https://xueqiu.com/S/SZ002218)"
      ],
      "text/plain": [
       "<IPython.core.display.Markdown object>"
      ]
     },
     "metadata": {},
     "output_type": "display_data"
    },
    {
     "data": {
      "text/markdown": [
       "[SH601908 京运通](https://xueqiu.com/S/SH601908)"
      ],
      "text/plain": [
       "<IPython.core.display.Markdown object>"
      ]
     },
     "metadata": {},
     "output_type": "display_data"
    },
    {
     "data": {
      "text/markdown": [
       "[SH601600 中国铝业](https://xueqiu.com/S/SH601600)"
      ],
      "text/plain": [
       "<IPython.core.display.Markdown object>"
      ]
     },
     "metadata": {},
     "output_type": "display_data"
    },
    {
     "data": {
      "text/markdown": [
       "[SZ000402 金融街](https://xueqiu.com/S/SZ000402)"
      ],
      "text/plain": [
       "<IPython.core.display.Markdown object>"
      ]
     },
     "metadata": {},
     "output_type": "display_data"
    },
    {
     "data": {
      "text/markdown": [
       "[SH600547 山东黄金](https://xueqiu.com/S/SH600547)"
      ],
      "text/plain": [
       "<IPython.core.display.Markdown object>"
      ]
     },
     "metadata": {},
     "output_type": "display_data"
    },
    {
     "data": {
      "text/markdown": [
       "[SH600489 中金黄金](https://xueqiu.com/S/SH600489)"
      ],
      "text/plain": [
       "<IPython.core.display.Markdown object>"
      ]
     },
     "metadata": {},
     "output_type": "display_data"
    },
    {
     "data": {
      "text/markdown": [
       "[SZ300158 振东制药](https://xueqiu.com/S/SZ300158)"
      ],
      "text/plain": [
       "<IPython.core.display.Markdown object>"
      ]
     },
     "metadata": {},
     "output_type": "display_data"
    },
    {
     "data": {
      "text/markdown": [
       "[SZ000597 东北制药](https://xueqiu.com/S/SZ000597)"
      ],
      "text/plain": [
       "<IPython.core.display.Markdown object>"
      ]
     },
     "metadata": {},
     "output_type": "display_data"
    },
    {
     "data": {
      "text/markdown": [
       "[SZ000756 新华制药](https://xueqiu.com/S/SZ000756)"
      ],
      "text/plain": [
       "<IPython.core.display.Markdown object>"
      ]
     },
     "metadata": {},
     "output_type": "display_data"
    },
    {
     "data": {
      "text/markdown": [
       "[SH600062 华润双鹤](https://xueqiu.com/S/SH600062)"
      ],
      "text/plain": [
       "<IPython.core.display.Markdown object>"
      ]
     },
     "metadata": {},
     "output_type": "display_data"
    },
    {
     "data": {
      "text/markdown": [
       "[SH600420 现代制药](https://xueqiu.com/S/SH600420)"
      ],
      "text/plain": [
       "<IPython.core.display.Markdown object>"
      ]
     },
     "metadata": {},
     "output_type": "display_data"
    },
    {
     "data": {
      "text/markdown": [
       "[SH600664 哈药股份](https://xueqiu.com/S/SH600664)"
      ],
      "text/plain": [
       "<IPython.core.display.Markdown object>"
      ]
     },
     "metadata": {},
     "output_type": "display_data"
    },
    {
     "data": {
      "text/markdown": [
       "[SH600323 瀚蓝环境](https://xueqiu.com/S/SH600323)"
      ],
      "text/plain": [
       "<IPython.core.display.Markdown object>"
      ]
     },
     "metadata": {},
     "output_type": "display_data"
    },
    {
     "data": {
      "text/markdown": [
       "[SZ000826 启迪环境](https://xueqiu.com/S/SZ000826)"
      ],
      "text/plain": [
       "<IPython.core.display.Markdown object>"
      ]
     },
     "metadata": {},
     "output_type": "display_data"
    },
    {
     "data": {
      "text/markdown": [
       "[SZ000099 中信海直](https://xueqiu.com/S/SZ000099)"
      ],
      "text/plain": [
       "<IPython.core.display.Markdown object>"
      ]
     },
     "metadata": {},
     "output_type": "display_data"
    },
    {
     "data": {
      "text/markdown": [
       "[SH600826 兰生股份](https://xueqiu.com/S/SH600826)"
      ],
      "text/plain": [
       "<IPython.core.display.Markdown object>"
      ]
     },
     "metadata": {},
     "output_type": "display_data"
    },
    {
     "data": {
      "text/markdown": [
       "[SH600058 五矿发展](https://xueqiu.com/S/SH600058)"
      ],
      "text/plain": [
       "<IPython.core.display.Markdown object>"
      ]
     },
     "metadata": {},
     "output_type": "display_data"
    },
    {
     "data": {
      "text/markdown": [
       "[SZ000606 顺利办](https://xueqiu.com/S/SZ000606)"
      ],
      "text/plain": [
       "<IPython.core.display.Markdown object>"
      ]
     },
     "metadata": {},
     "output_type": "display_data"
    },
    {
     "data": {
      "text/markdown": [
       "[SZ000948 南天信息](https://xueqiu.com/S/SZ000948)"
      ],
      "text/plain": [
       "<IPython.core.display.Markdown object>"
      ]
     },
     "metadata": {},
     "output_type": "display_data"
    },
    {
     "data": {
      "text/markdown": [
       "[SH600288 大恒科技](https://xueqiu.com/S/SH600288)"
      ],
      "text/plain": [
       "<IPython.core.display.Markdown object>"
      ]
     },
     "metadata": {},
     "output_type": "display_data"
    },
    {
     "data": {
      "text/markdown": [
       "[SH600104 上汽集团](https://xueqiu.com/S/SH600104)"
      ],
      "text/plain": [
       "<IPython.core.display.Markdown object>"
      ]
     },
     "metadata": {},
     "output_type": "display_data"
    },
    {
     "data": {
      "text/markdown": [
       "[SZ002328 新朋股份](https://xueqiu.com/S/SZ002328)"
      ],
      "text/plain": [
       "<IPython.core.display.Markdown object>"
      ]
     },
     "metadata": {},
     "output_type": "display_data"
    },
    {
     "data": {
      "text/markdown": [
       "[SZ300599 雄塑科技](https://xueqiu.com/S/SZ300599)"
      ],
      "text/plain": [
       "<IPython.core.display.Markdown object>"
      ]
     },
     "metadata": {},
     "output_type": "display_data"
    },
    {
     "data": {
      "text/markdown": [
       "[SZ002694 顾地科技](https://xueqiu.com/S/SZ002694)"
      ],
      "text/plain": [
       "<IPython.core.display.Markdown object>"
      ]
     },
     "metadata": {},
     "output_type": "display_data"
    },
    {
     "data": {
      "text/markdown": [
       "[SZ300539 横河模具](https://xueqiu.com/S/SZ300539)"
      ],
      "text/plain": [
       "<IPython.core.display.Markdown object>"
      ]
     },
     "metadata": {},
     "output_type": "display_data"
    },
    {
     "data": {
      "text/markdown": [
       "[SZ000598 兴蓉环境](https://xueqiu.com/S/SZ000598)"
      ],
      "text/plain": [
       "<IPython.core.display.Markdown object>"
      ]
     },
     "metadata": {},
     "output_type": "display_data"
    },
    {
     "data": {
      "text/markdown": [
       "[SH600415 小商品城](https://xueqiu.com/S/SH600415)"
      ],
      "text/plain": [
       "<IPython.core.display.Markdown object>"
      ]
     },
     "metadata": {},
     "output_type": "display_data"
    },
    {
     "data": {
      "text/markdown": [
       "[SZ300161 华中数控](https://xueqiu.com/S/SZ300161)"
      ],
      "text/plain": [
       "<IPython.core.display.Markdown object>"
      ]
     },
     "metadata": {},
     "output_type": "display_data"
    },
    {
     "data": {
      "text/markdown": [
       "[SZ002929 润建股份](https://xueqiu.com/S/SZ002929)"
      ],
      "text/plain": [
       "<IPython.core.display.Markdown object>"
      ]
     },
     "metadata": {},
     "output_type": "display_data"
    },
    {
     "data": {
      "text/markdown": [
       "[SZ002093 国脉科技](https://xueqiu.com/S/SZ002093)"
      ],
      "text/plain": [
       "<IPython.core.display.Markdown object>"
      ]
     },
     "metadata": {},
     "output_type": "display_data"
    },
    {
     "data": {
      "text/markdown": [
       "[SH601369 陕鼓动力](https://xueqiu.com/S/SH601369)"
      ],
      "text/plain": [
       "<IPython.core.display.Markdown object>"
      ]
     },
     "metadata": {},
     "output_type": "display_data"
    },
    {
     "data": {
      "text/markdown": [
       "[SH600050 中国联通](https://xueqiu.com/S/SH600050)"
      ],
      "text/plain": [
       "<IPython.core.display.Markdown object>"
      ]
     },
     "metadata": {},
     "output_type": "display_data"
    },
    {
     "data": {
      "text/markdown": [
       "[SH600272 开开实业](https://xueqiu.com/S/SH600272)"
      ],
      "text/plain": [
       "<IPython.core.display.Markdown object>"
      ]
     },
     "metadata": {},
     "output_type": "display_data"
    },
    {
     "data": {
      "text/markdown": [
       "[SH601607 上海医药](https://xueqiu.com/S/SH601607)"
      ],
      "text/plain": [
       "<IPython.core.display.Markdown object>"
      ]
     },
     "metadata": {},
     "output_type": "display_data"
    },
    {
     "data": {
      "text/markdown": [
       "[SH600694 大商股份](https://xueqiu.com/S/SH600694)"
      ],
      "text/plain": [
       "<IPython.core.display.Markdown object>"
      ]
     },
     "metadata": {},
     "output_type": "display_data"
    },
    {
     "data": {
      "text/markdown": [
       "[SZ300171 东富龙](https://xueqiu.com/S/SZ300171)"
      ],
      "text/plain": [
       "<IPython.core.display.Markdown object>"
      ]
     },
     "metadata": {},
     "output_type": "display_data"
    },
    {
     "data": {
      "text/markdown": [
       "[SH601288 农业银行](https://xueqiu.com/S/SH601288)"
      ],
      "text/plain": [
       "<IPython.core.display.Markdown object>"
      ]
     },
     "metadata": {},
     "output_type": "display_data"
    },
    {
     "data": {
      "text/markdown": [
       "[SH600016 民生银行](https://xueqiu.com/S/SH600016)"
      ],
      "text/plain": [
       "<IPython.core.display.Markdown object>"
      ]
     },
     "metadata": {},
     "output_type": "display_data"
    },
    {
     "data": {
      "text/markdown": [
       "[SH600919 江苏银行](https://xueqiu.com/S/SH600919)"
      ],
      "text/plain": [
       "<IPython.core.display.Markdown object>"
      ]
     },
     "metadata": {},
     "output_type": "display_data"
    },
    {
     "data": {
      "text/markdown": [
       "[SH601988 中国银行](https://xueqiu.com/S/SH601988)"
      ],
      "text/plain": [
       "<IPython.core.display.Markdown object>"
      ]
     },
     "metadata": {},
     "output_type": "display_data"
    },
    {
     "data": {
      "text/markdown": [
       "[SH601398 工商银行](https://xueqiu.com/S/SH601398)"
      ],
      "text/plain": [
       "<IPython.core.display.Markdown object>"
      ]
     },
     "metadata": {},
     "output_type": "display_data"
    },
    {
     "data": {
      "text/markdown": [
       "[SH601939 建设银行](https://xueqiu.com/S/SH601939)"
      ],
      "text/plain": [
       "<IPython.core.display.Markdown object>"
      ]
     },
     "metadata": {},
     "output_type": "display_data"
    },
    {
     "data": {
      "text/markdown": [
       "[SH600061 国投资本](https://xueqiu.com/S/SH600061)"
      ],
      "text/plain": [
       "<IPython.core.display.Markdown object>"
      ]
     },
     "metadata": {},
     "output_type": "display_data"
    },
    {
     "data": {
      "text/markdown": [
       "[SH603139 康惠制药](https://xueqiu.com/S/SH603139)"
      ],
      "text/plain": [
       "<IPython.core.display.Markdown object>"
      ]
     },
     "metadata": {},
     "output_type": "display_data"
    },
    {
     "data": {
      "text/markdown": [
       "[SH603858 步长制药](https://xueqiu.com/S/SH603858)"
      ],
      "text/plain": [
       "<IPython.core.display.Markdown object>"
      ]
     },
     "metadata": {},
     "output_type": "display_data"
    },
    {
     "data": {
      "text/markdown": [
       "[SH600535 天士力](https://xueqiu.com/S/SH600535)"
      ],
      "text/plain": [
       "<IPython.core.display.Markdown object>"
      ]
     },
     "metadata": {},
     "output_type": "display_data"
    },
    {
     "data": {
      "text/markdown": [
       "[SH600211 西藏药业](https://xueqiu.com/S/SH600211)"
      ],
      "text/plain": [
       "<IPython.core.display.Markdown object>"
      ]
     },
     "metadata": {},
     "output_type": "display_data"
    },
    {
     "data": {
      "text/markdown": [
       "[SH600222 太龙药业](https://xueqiu.com/S/SH600222)"
      ],
      "text/plain": [
       "<IPython.core.display.Markdown object>"
      ]
     },
     "metadata": {},
     "output_type": "display_data"
    },
    {
     "data": {
      "text/markdown": [
       "[SZ002198 嘉应制药](https://xueqiu.com/S/SZ002198)"
      ],
      "text/plain": [
       "<IPython.core.display.Markdown object>"
      ]
     },
     "metadata": {},
     "output_type": "display_data"
    },
    {
     "data": {
      "text/markdown": [
       "[SZ300635 中达安](https://xueqiu.com/S/SZ300635)"
      ],
      "text/plain": [
       "<IPython.core.display.Markdown object>"
      ]
     },
     "metadata": {},
     "output_type": "display_data"
    },
    {
     "data": {
      "text/markdown": [
       "[SH600520 文一科技](https://xueqiu.com/S/SH600520)"
      ],
      "text/plain": [
       "<IPython.core.display.Markdown object>"
      ]
     },
     "metadata": {},
     "output_type": "display_data"
    },
    {
     "data": {
      "text/markdown": [
       "[SH600175 美都能源](https://xueqiu.com/S/SH600175)"
      ],
      "text/plain": [
       "<IPython.core.display.Markdown object>"
      ]
     },
     "metadata": {},
     "output_type": "display_data"
    },
    {
     "data": {
      "text/markdown": [
       "[SH600811 东方集团](https://xueqiu.com/S/SH600811)"
      ],
      "text/plain": [
       "<IPython.core.display.Markdown object>"
      ]
     },
     "metadata": {},
     "output_type": "display_data"
    },
    {
     "data": {
      "text/markdown": [
       "[SH600200 江苏吴中](https://xueqiu.com/S/SH600200)"
      ],
      "text/plain": [
       "<IPython.core.display.Markdown object>"
      ]
     },
     "metadata": {},
     "output_type": "display_data"
    },
    {
     "data": {
      "text/markdown": [
       "[SH601077 渝农商行](https://xueqiu.com/S/SH601077)"
      ],
      "text/plain": [
       "<IPython.core.display.Markdown object>"
      ]
     },
     "metadata": {},
     "output_type": "display_data"
    },
    {
     "data": {
      "text/markdown": [
       "[SH601916 浙商银行](https://xueqiu.com/S/SH601916)"
      ],
      "text/plain": [
       "<IPython.core.display.Markdown object>"
      ]
     },
     "metadata": {},
     "output_type": "display_data"
    },
    {
     "data": {
      "text/markdown": [
       "## 通道下 76"
      ],
      "text/plain": [
       "<IPython.core.display.Markdown object>"
      ]
     },
     "metadata": {},
     "output_type": "display_data"
    },
    {
     "data": {
      "text/markdown": [
       "[SH601989 中国重工](https://xueqiu.com/S/SH601989)"
      ],
      "text/plain": [
       "<IPython.core.display.Markdown object>"
      ]
     },
     "metadata": {},
     "output_type": "display_data"
    },
    {
     "data": {
      "text/markdown": [
       "[SH600483 福能股份](https://xueqiu.com/S/SH600483)"
      ],
      "text/plain": [
       "<IPython.core.display.Markdown object>"
      ]
     },
     "metadata": {},
     "output_type": "display_data"
    },
    {
     "data": {
      "text/markdown": [
       "[SZ300265 通光线缆](https://xueqiu.com/S/SZ300265)"
      ],
      "text/plain": [
       "<IPython.core.display.Markdown object>"
      ]
     },
     "metadata": {},
     "output_type": "display_data"
    },
    {
     "data": {
      "text/markdown": [
       "[SH600869 智慧能源](https://xueqiu.com/S/SH600869)"
      ],
      "text/plain": [
       "<IPython.core.display.Markdown object>"
      ]
     },
     "metadata": {},
     "output_type": "display_data"
    },
    {
     "data": {
      "text/markdown": [
       "[SZ300452 山河药辅](https://xueqiu.com/S/SZ300452)"
      ],
      "text/plain": [
       "<IPython.core.display.Markdown object>"
      ]
     },
     "metadata": {},
     "output_type": "display_data"
    },
    {
     "data": {
      "text/markdown": [
       "[SH601200 上海环境](https://xueqiu.com/S/SH601200)"
      ],
      "text/plain": [
       "<IPython.core.display.Markdown object>"
      ]
     },
     "metadata": {},
     "output_type": "display_data"
    },
    {
     "data": {
      "text/markdown": [
       "[SZ300334 津膜科技](https://xueqiu.com/S/SZ300334)"
      ],
      "text/plain": [
       "<IPython.core.display.Markdown object>"
      ]
     },
     "metadata": {},
     "output_type": "display_data"
    },
    {
     "data": {
      "text/markdown": [
       "[SZ002301 齐心集团](https://xueqiu.com/S/SZ002301)"
      ],
      "text/plain": [
       "<IPython.core.display.Markdown object>"
      ]
     },
     "metadata": {},
     "output_type": "display_data"
    },
    {
     "data": {
      "text/markdown": [
       "[SZ002221 东华能源](https://xueqiu.com/S/SZ002221)"
      ],
      "text/plain": [
       "<IPython.core.display.Markdown object>"
      ]
     },
     "metadata": {},
     "output_type": "display_data"
    },
    {
     "data": {
      "text/markdown": [
       "[SH603590 康辰药业](https://xueqiu.com/S/SH603590)"
      ],
      "text/plain": [
       "<IPython.core.display.Markdown object>"
      ]
     },
     "metadata": {},
     "output_type": "display_data"
    },
    {
     "data": {
      "text/markdown": [
       "[SH600645 中源协和](https://xueqiu.com/S/SH600645)"
      ],
      "text/plain": [
       "<IPython.core.display.Markdown object>"
      ]
     },
     "metadata": {},
     "output_type": "display_data"
    },
    {
     "data": {
      "text/markdown": [
       "[SZ300603 立昂技术](https://xueqiu.com/S/SZ300603)"
      ],
      "text/plain": [
       "<IPython.core.display.Markdown object>"
      ]
     },
     "metadata": {},
     "output_type": "display_data"
    },
    {
     "data": {
      "text/markdown": [
       "[SH600575 淮河能源](https://xueqiu.com/S/SH600575)"
      ],
      "text/plain": [
       "<IPython.core.display.Markdown object>"
      ]
     },
     "metadata": {},
     "output_type": "display_data"
    },
    {
     "data": {
      "text/markdown": [
       "[SZ000516 国际医学](https://xueqiu.com/S/SZ000516)"
      ],
      "text/plain": [
       "<IPython.core.display.Markdown object>"
      ]
     },
     "metadata": {},
     "output_type": "display_data"
    },
    {
     "data": {
      "text/markdown": [
       "[SZ002349 精华制药](https://xueqiu.com/S/SZ002349)"
      ],
      "text/plain": [
       "<IPython.core.display.Markdown object>"
      ]
     },
     "metadata": {},
     "output_type": "display_data"
    },
    {
     "data": {
      "text/markdown": [
       "[SZ002424 贵州百灵](https://xueqiu.com/S/SZ002424)"
      ],
      "text/plain": [
       "<IPython.core.display.Markdown object>"
      ]
     },
     "metadata": {},
     "output_type": "display_data"
    },
    {
     "data": {
      "text/markdown": [
       "[SH600388 龙净环保](https://xueqiu.com/S/SH600388)"
      ],
      "text/plain": [
       "<IPython.core.display.Markdown object>"
      ]
     },
     "metadata": {},
     "output_type": "display_data"
    }
   ],
   "source": [
    "showSelectCompany(bol)"
   ]
  },
  {
   "cell_type": "code",
   "execution_count": null,
   "metadata": {},
   "outputs": [],
   "source": []
  }
 ],
 "metadata": {
  "kernelspec": {
   "display_name": "Python 3",
   "language": "python",
   "name": "python3"
  },
  "language_info": {
   "codemirror_mode": {
    "name": "ipython",
    "version": 3
   },
   "file_extension": ".py",
   "mimetype": "text/x-python",
   "name": "python",
   "nbconvert_exporter": "python",
   "pygments_lexer": "ipython3",
   "version": "3.7.4"
  }
 },
 "nbformat": 4,
 "nbformat_minor": 4
}
